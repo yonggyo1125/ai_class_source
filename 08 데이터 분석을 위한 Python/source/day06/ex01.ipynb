{
 "cells": [
  {
   "cell_type": "markdown",
   "id": "28e0e01a",
   "metadata": {},
   "source": [
    "## time 모듈 "
   ]
  },
  {
   "cell_type": "code",
   "execution_count": 1,
   "id": "a2dbd29a",
   "metadata": {},
   "outputs": [],
   "source": [
    "import time"
   ]
  },
  {
   "cell_type": "code",
   "execution_count": 2,
   "id": "1d0f058b",
   "metadata": {},
   "outputs": [
    {
     "data": {
      "text/plain": [
       "1748567712.849159"
      ]
     },
     "execution_count": 2,
     "metadata": {},
     "output_type": "execute_result"
    }
   ],
   "source": [
    "time.time()"
   ]
  },
  {
   "cell_type": "code",
   "execution_count": 3,
   "id": "cfb99b71",
   "metadata": {},
   "outputs": [
    {
     "data": {
      "text/plain": [
       "time.struct_time(tm_year=2025, tm_mon=5, tm_mday=30, tm_hour=10, tm_min=17, tm_sec=35, tm_wday=4, tm_yday=150, tm_isdst=0)"
      ]
     },
     "execution_count": 3,
     "metadata": {},
     "output_type": "execute_result"
    }
   ],
   "source": [
    "lt = time.localtime(time.time())\n",
    "lt"
   ]
  },
  {
   "cell_type": "code",
   "execution_count": 4,
   "id": "8b578553",
   "metadata": {},
   "outputs": [
    {
     "name": "stdout",
     "output_type": "stream",
     "text": [
      "2025 5 30\n"
     ]
    }
   ],
   "source": [
    "print(lt.tm_year, lt.tm_mon, lt.tm_mday)"
   ]
  },
  {
   "cell_type": "code",
   "execution_count": 5,
   "id": "4ad2cb2a",
   "metadata": {},
   "outputs": [
    {
     "data": {
      "text/plain": [
       "'Fri May 30 10:17:35 2025'"
      ]
     },
     "execution_count": 5,
     "metadata": {},
     "output_type": "execute_result"
    }
   ],
   "source": [
    "time.asctime(lt)"
   ]
  },
  {
   "cell_type": "code",
   "execution_count": 6,
   "id": "102770d7",
   "metadata": {},
   "outputs": [
    {
     "data": {
      "text/plain": [
       "'Fri May 30 10:21:09 2025'"
      ]
     },
     "execution_count": 6,
     "metadata": {},
     "output_type": "execute_result"
    }
   ],
   "source": [
    "time.ctime()"
   ]
  },
  {
   "cell_type": "code",
   "execution_count": 7,
   "id": "38962011",
   "metadata": {},
   "outputs": [
    {
     "data": {
      "text/plain": [
       "'2025.05.30 10:17'"
      ]
     },
     "execution_count": 7,
     "metadata": {},
     "output_type": "execute_result"
    }
   ],
   "source": [
    "strdate = time.strftime('%Y.%m.%d %H:%M', lt)\n",
    "strdate"
   ]
  },
  {
   "cell_type": "code",
   "execution_count": 8,
   "id": "7b4844e0",
   "metadata": {},
   "outputs": [
    {
     "data": {
      "text/plain": [
       "'2025.05.30 10:42'"
      ]
     },
     "execution_count": 8,
     "metadata": {},
     "output_type": "execute_result"
    }
   ],
   "source": [
    "time.strftime('%Y.%m.%d %H:%M') # 현재 날짜 시간 기준"
   ]
  },
  {
   "cell_type": "code",
   "execution_count": 10,
   "id": "e0629493",
   "metadata": {},
   "outputs": [
    {
     "name": "stdout",
     "output_type": "stream",
     "text": [
      "1\n",
      "2\n",
      "3\n",
      "4\n",
      "5\n",
      "6\n",
      "7\n",
      "8\n",
      "9\n",
      "10\n"
     ]
    }
   ],
   "source": [
    "for i in range(1, 11):\n",
    "    print(i)\n",
    "    time.sleep(1) # 1초 지연 "
   ]
  },
  {
   "cell_type": "code",
   "execution_count": 11,
   "id": "8c7b79e5",
   "metadata": {},
   "outputs": [],
   "source": [
    "# 사탕 60, 초콜릿 100, 젤리 80개 있는데, 똑같은 묶음으로 최대 몇 묶음 나눌 수 있는지 구하시오.\n",
    "import math"
   ]
  },
  {
   "cell_type": "code",
   "execution_count": 12,
   "id": "c13dbfaa",
   "metadata": {},
   "outputs": [
    {
     "data": {
      "text/plain": [
       "20"
      ]
     },
     "execution_count": 12,
     "metadata": {},
     "output_type": "execute_result"
    }
   ],
   "source": [
    "math.gcd(60, 100, 80)"
   ]
  },
  {
   "cell_type": "code",
   "execution_count": 13,
   "id": "f8565ca1",
   "metadata": {},
   "outputs": [
    {
     "data": {
      "text/plain": [
       "75"
      ]
     },
     "execution_count": 13,
     "metadata": {},
     "output_type": "execute_result"
    }
   ],
   "source": [
    "# 시내버스가 15분마다 도착, 마을 버스는 25분마다 도착, 서로 만나는 빠른 시간?\n",
    "math.lcm(15, 25)"
   ]
  },
  {
   "cell_type": "code",
   "execution_count": 14,
   "id": "abbc93fb",
   "metadata": {},
   "outputs": [],
   "source": [
    "import random"
   ]
  },
  {
   "cell_type": "code",
   "execution_count": null,
   "id": "080c5222",
   "metadata": {},
   "outputs": [
    {
     "data": {
      "text/plain": [
       "0.9500690946375411"
      ]
     },
     "execution_count": 23,
     "metadata": {},
     "output_type": "execute_result"
    }
   ],
   "source": [
    "random.random() * 3 # 규칙 곱하는 수보다 작은 수가 정수부에서 반복 0~2"
   ]
  },
  {
   "cell_type": "code",
   "execution_count": 27,
   "id": "080c6517",
   "metadata": {},
   "outputs": [
    {
     "data": {
      "text/plain": [
       "0"
      ]
     },
     "execution_count": 27,
     "metadata": {},
     "output_type": "execute_result"
    }
   ],
   "source": [
    "int(random.random() * 3)"
   ]
  },
  {
   "cell_type": "code",
   "execution_count": 31,
   "id": "f42c189f",
   "metadata": {},
   "outputs": [
    {
     "data": {
      "text/plain": [
       "3"
      ]
     },
     "execution_count": 31,
     "metadata": {},
     "output_type": "execute_result"
    }
   ],
   "source": [
    "random.randint(1, 10)"
   ]
  },
  {
   "cell_type": "code",
   "execution_count": 32,
   "id": "2fc49d38",
   "metadata": {},
   "outputs": [],
   "source": [
    "fruits = ['Apple', 'Melon', 'Pear', 'Banana', 'Mango']"
   ]
  },
  {
   "cell_type": "code",
   "execution_count": 37,
   "id": "14d78227",
   "metadata": {},
   "outputs": [
    {
     "data": {
      "text/plain": [
       "'Mango'"
      ]
     },
     "execution_count": 37,
     "metadata": {},
     "output_type": "execute_result"
    }
   ],
   "source": [
    "random.choice(fruits)"
   ]
  },
  {
   "cell_type": "code",
   "execution_count": 42,
   "id": "66d95aa9",
   "metadata": {},
   "outputs": [
    {
     "data": {
      "text/plain": [
       "['Banana', 'Pear', 'Apple']"
      ]
     },
     "execution_count": 42,
     "metadata": {},
     "output_type": "execute_result"
    }
   ],
   "source": [
    "random.sample(fruits, 3)"
   ]
  },
  {
   "cell_type": "code",
   "execution_count": 50,
   "id": "8258eede",
   "metadata": {},
   "outputs": [],
   "source": [
    "students = ['주용현', '안슬기', '김용준', '오다은', '최상준', '오경석', '송근호', '주예성', '정호찬', '이소민', '김송미', '김문수']"
   ]
  },
  {
   "cell_type": "code",
   "execution_count": 51,
   "id": "b9041400",
   "metadata": {},
   "outputs": [
    {
     "data": {
      "text/plain": [
       "['오다은',\n",
       " '이소민',\n",
       " '최상준',\n",
       " '안슬기',\n",
       " '김문수',\n",
       " '송근호',\n",
       " '정호찬',\n",
       " '김송미',\n",
       " '오경석',\n",
       " '주용현',\n",
       " '주예성',\n",
       " '김용준']"
      ]
     },
     "execution_count": 51,
     "metadata": {},
     "output_type": "execute_result"
    }
   ],
   "source": [
    "students2 = random.sample(students, len(students))\n",
    "# random.shuffle(students)  # 원본 데이터가 변경\n",
    "students2"
   ]
  },
  {
   "cell_type": "code",
   "execution_count": null,
   "id": "c430ffbd",
   "metadata": {},
   "outputs": [],
   "source": []
  },
  {
   "cell_type": "code",
   "execution_count": null,
   "id": "a37a5e10",
   "metadata": {},
   "outputs": [],
   "source": []
  },
  {
   "cell_type": "code",
   "execution_count": null,
   "id": "d816a342",
   "metadata": {},
   "outputs": [],
   "source": []
  },
  {
   "cell_type": "code",
   "execution_count": null,
   "id": "7a73e1cb",
   "metadata": {},
   "outputs": [],
   "source": []
  }
 ],
 "metadata": {
  "kernelspec": {
   "display_name": "basic",
   "language": "python",
   "name": "python3"
  },
  "language_info": {
   "codemirror_mode": {
    "name": "ipython",
    "version": 3
   },
   "file_extension": ".py",
   "mimetype": "text/x-python",
   "name": "python",
   "nbconvert_exporter": "python",
   "pygments_lexer": "ipython3",
   "version": "3.12.10"
  }
 },
 "nbformat": 4,
 "nbformat_minor": 5
}
