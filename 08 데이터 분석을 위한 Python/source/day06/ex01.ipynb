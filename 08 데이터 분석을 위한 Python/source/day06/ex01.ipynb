{
 "cells": [
  {
   "cell_type": "markdown",
   "id": "28e0e01a",
   "metadata": {},
   "source": [
    "## time 모듈 "
   ]
  },
  {
   "cell_type": "code",
   "execution_count": 1,
   "id": "a2dbd29a",
   "metadata": {},
   "outputs": [],
   "source": [
    "import time"
   ]
  },
  {
   "cell_type": "code",
   "execution_count": 2,
   "id": "1d0f058b",
   "metadata": {},
   "outputs": [
    {
     "data": {
      "text/plain": [
       "1748567712.849159"
      ]
     },
     "execution_count": 2,
     "metadata": {},
     "output_type": "execute_result"
    }
   ],
   "source": [
    "time.time()"
   ]
  },
  {
   "cell_type": "code",
   "execution_count": 3,
   "id": "cfb99b71",
   "metadata": {},
   "outputs": [
    {
     "data": {
      "text/plain": [
       "time.struct_time(tm_year=2025, tm_mon=5, tm_mday=30, tm_hour=10, tm_min=17, tm_sec=35, tm_wday=4, tm_yday=150, tm_isdst=0)"
      ]
     },
     "execution_count": 3,
     "metadata": {},
     "output_type": "execute_result"
    }
   ],
   "source": [
    "lt = time.localtime(time.time())\n",
    "lt"
   ]
  },
  {
   "cell_type": "code",
   "execution_count": 4,
   "id": "8b578553",
   "metadata": {},
   "outputs": [
    {
     "name": "stdout",
     "output_type": "stream",
     "text": [
      "2025 5 30\n"
     ]
    }
   ],
   "source": [
    "print(lt.tm_year, lt.tm_mon, lt.tm_mday)"
   ]
  },
  {
   "cell_type": "code",
   "execution_count": 5,
   "id": "4ad2cb2a",
   "metadata": {},
   "outputs": [
    {
     "data": {
      "text/plain": [
       "'Fri May 30 10:17:35 2025'"
      ]
     },
     "execution_count": 5,
     "metadata": {},
     "output_type": "execute_result"
    }
   ],
   "source": [
    "time.asctime(lt)"
   ]
  },
  {
   "cell_type": "code",
   "execution_count": 6,
   "id": "102770d7",
   "metadata": {},
   "outputs": [
    {
     "data": {
      "text/plain": [
       "'Fri May 30 10:21:09 2025'"
      ]
     },
     "execution_count": 6,
     "metadata": {},
     "output_type": "execute_result"
    }
   ],
   "source": [
    "time.ctime()"
   ]
  },
  {
   "cell_type": "code",
   "execution_count": 7,
   "id": "38962011",
   "metadata": {},
   "outputs": [
    {
     "data": {
      "text/plain": [
       "'2025.05.30 10:17'"
      ]
     },
     "execution_count": 7,
     "metadata": {},
     "output_type": "execute_result"
    }
   ],
   "source": [
    "strdate = time.strftime('%Y.%m.%d %H:%M', lt)\n",
    "strdate"
   ]
  },
  {
   "cell_type": "code",
   "execution_count": 8,
   "id": "7b4844e0",
   "metadata": {},
   "outputs": [
    {
     "data": {
      "text/plain": [
       "'2025.05.30 10:42'"
      ]
     },
     "execution_count": 8,
     "metadata": {},
     "output_type": "execute_result"
    }
   ],
   "source": [
    "time.strftime('%Y.%m.%d %H:%M') # 현재 날짜 시간 기준"
   ]
  },
  {
   "cell_type": "code",
   "execution_count": 10,
   "id": "e0629493",
   "metadata": {},
   "outputs": [
    {
     "name": "stdout",
     "output_type": "stream",
     "text": [
      "1\n",
      "2\n",
      "3\n",
      "4\n",
      "5\n",
      "6\n",
      "7\n",
      "8\n",
      "9\n",
      "10\n"
     ]
    }
   ],
   "source": [
    "for i in range(1, 11):\n",
    "    print(i)\n",
    "    time.sleep(1) # 1초 지연 "
   ]
  },
  {
   "cell_type": "code",
   "execution_count": 11,
   "id": "8c7b79e5",
   "metadata": {},
   "outputs": [],
   "source": [
    "# 사탕 60, 초콜릿 100, 젤리 80개 있는데, 똑같은 묶음으로 최대 몇 묶음 나눌 수 있는지 구하시오.\n",
    "import math"
   ]
  },
  {
   "cell_type": "code",
   "execution_count": 12,
   "id": "c13dbfaa",
   "metadata": {},
   "outputs": [
    {
     "data": {
      "text/plain": [
       "20"
      ]
     },
     "execution_count": 12,
     "metadata": {},
     "output_type": "execute_result"
    }
   ],
   "source": [
    "math.gcd(60, 100, 80)"
   ]
  },
  {
   "cell_type": "code",
   "execution_count": 13,
   "id": "f8565ca1",
   "metadata": {},
   "outputs": [
    {
     "data": {
      "text/plain": [
       "75"
      ]
     },
     "execution_count": 13,
     "metadata": {},
     "output_type": "execute_result"
    }
   ],
   "source": [
    "# 시내버스가 15분마다 도착, 마을 버스는 25분마다 도착, 서로 만나는 빠른 시간?\n",
    "math.lcm(15, 25)"
   ]
  },
  {
   "cell_type": "code",
   "execution_count": 14,
   "id": "abbc93fb",
   "metadata": {},
   "outputs": [],
   "source": [
    "import random"
   ]
  },
  {
   "cell_type": "code",
   "execution_count": null,
   "id": "080c5222",
   "metadata": {},
   "outputs": [
    {
     "data": {
      "text/plain": [
       "0.9500690946375411"
      ]
     },
     "execution_count": 23,
     "metadata": {},
     "output_type": "execute_result"
    }
   ],
   "source": [
    "random.random() * 3 # 규칙 곱하는 수보다 작은 수가 정수부에서 반복 0~2"
   ]
  },
  {
   "cell_type": "code",
   "execution_count": 27,
   "id": "080c6517",
   "metadata": {},
   "outputs": [
    {
     "data": {
      "text/plain": [
       "0"
      ]
     },
     "execution_count": 27,
     "metadata": {},
     "output_type": "execute_result"
    }
   ],
   "source": [
    "int(random.random() * 3)"
   ]
  },
  {
   "cell_type": "code",
   "execution_count": 31,
   "id": "f42c189f",
   "metadata": {},
   "outputs": [
    {
     "data": {
      "text/plain": [
       "3"
      ]
     },
     "execution_count": 31,
     "metadata": {},
     "output_type": "execute_result"
    }
   ],
   "source": [
    "random.randint(1, 10)"
   ]
  },
  {
   "cell_type": "code",
   "execution_count": 32,
   "id": "2fc49d38",
   "metadata": {},
   "outputs": [],
   "source": [
    "fruits = ['Apple', 'Melon', 'Pear', 'Banana', 'Mango']"
   ]
  },
  {
   "cell_type": "code",
   "execution_count": 37,
   "id": "14d78227",
   "metadata": {},
   "outputs": [
    {
     "data": {
      "text/plain": [
       "'Mango'"
      ]
     },
     "execution_count": 37,
     "metadata": {},
     "output_type": "execute_result"
    }
   ],
   "source": [
    "random.choice(fruits)"
   ]
  },
  {
   "cell_type": "code",
   "execution_count": 42,
   "id": "66d95aa9",
   "metadata": {},
   "outputs": [
    {
     "data": {
      "text/plain": [
       "['Banana', 'Pear', 'Apple']"
      ]
     },
     "execution_count": 42,
     "metadata": {},
     "output_type": "execute_result"
    }
   ],
   "source": [
    "random.sample(fruits, 3)"
   ]
  },
  {
   "cell_type": "code",
   "execution_count": 50,
   "id": "8258eede",
   "metadata": {},
   "outputs": [],
   "source": [
    "students = ['주용현', '안슬기', '김용준', '오다은', '최상준', '오경석', '송근호', '주예성', '정호찬', '이소민', '김송미', '김문수']"
   ]
  },
  {
   "cell_type": "code",
   "execution_count": 55,
   "id": "b9041400",
   "metadata": {},
   "outputs": [
    {
     "data": {
      "text/plain": [
       "[('오다은', 'RTX5090ti'),\n",
       " ('정호찬', '맥북pro'),\n",
       " ('김문수', '강사의 사랑'),\n",
       " ('오경석', '사탕'),\n",
       " ('주예성', '사탕'),\n",
       " ('최상준', '사탕'),\n",
       " ('이소민', '사탕'),\n",
       " ('주용현', '사탕'),\n",
       " ('송근호', '사탕'),\n",
       " ('김송미', '사탕'),\n",
       " ('안슬기', '사탕'),\n",
       " ('김용준', '사탕')]"
      ]
     },
     "execution_count": 55,
     "metadata": {},
     "output_type": "execute_result"
    }
   ],
   "source": [
    "import itertools\n",
    "students2 = random.sample(students, len(students))\n",
    "# random.shuffle(students)  # 원본 데이터가 변경\n",
    "gifts = ['RTX5090ti', '맥북pro', '강사의 사랑']\n",
    "#data = list(zip(students, gifts))\n",
    "#data\n",
    "data = list(itertools.zip_longest(students2, gifts, fillvalue='사탕'))\n",
    "data"
   ]
  },
  {
   "cell_type": "code",
   "execution_count": 56,
   "id": "6ca0a045",
   "metadata": {},
   "outputs": [],
   "source": [
    "nums = [1, 2, 3, 4]"
   ]
  },
  {
   "cell_type": "code",
   "execution_count": 57,
   "id": "bd96f295",
   "metadata": {},
   "outputs": [],
   "source": [
    "import itertools"
   ]
  },
  {
   "cell_type": "code",
   "execution_count": 58,
   "id": "475b65c4",
   "metadata": {},
   "outputs": [
    {
     "data": {
      "text/plain": [
       "[(1, 2),\n",
       " (1, 3),\n",
       " (1, 4),\n",
       " (2, 1),\n",
       " (2, 3),\n",
       " (2, 4),\n",
       " (3, 1),\n",
       " (3, 2),\n",
       " (3, 4),\n",
       " (4, 1),\n",
       " (4, 2),\n",
       " (4, 3)]"
      ]
     },
     "execution_count": 58,
     "metadata": {},
     "output_type": "execute_result"
    }
   ],
   "source": [
    "a = list(itertools.permutations(nums, 2))\n",
    "a"
   ]
  },
  {
   "cell_type": "code",
   "execution_count": 59,
   "id": "22497980",
   "metadata": {},
   "outputs": [
    {
     "data": {
      "text/plain": [
       "[(1, 2), (1, 3), (1, 4), (2, 3), (2, 4), (3, 4)]"
      ]
     },
     "execution_count": 59,
     "metadata": {},
     "output_type": "execute_result"
    }
   ],
   "source": [
    "b = list(itertools.combinations(nums, 2))\n",
    "b"
   ]
  },
  {
   "cell_type": "code",
   "execution_count": 61,
   "id": "44a1cc10",
   "metadata": {},
   "outputs": [
    {
     "data": {
      "text/plain": [
       "[(1, 1, 1),\n",
       " (1, 1, 2),\n",
       " (1, 1, 3),\n",
       " (1, 1, 4),\n",
       " (1, 2, 2),\n",
       " (1, 2, 3),\n",
       " (1, 2, 4),\n",
       " (1, 3, 3),\n",
       " (1, 3, 4),\n",
       " (1, 4, 4),\n",
       " (2, 2, 2),\n",
       " (2, 2, 3),\n",
       " (2, 2, 4),\n",
       " (2, 3, 3),\n",
       " (2, 3, 4),\n",
       " (2, 4, 4),\n",
       " (3, 3, 3),\n",
       " (3, 3, 4),\n",
       " (3, 4, 4),\n",
       " (4, 4, 4)]"
      ]
     },
     "execution_count": 61,
     "metadata": {},
     "output_type": "execute_result"
    }
   ],
   "source": [
    "c = list(itertools.combinations_with_replacement(nums, 3))\n",
    "c"
   ]
  },
  {
   "cell_type": "code",
   "execution_count": 62,
   "id": "a3f2cd0e",
   "metadata": {},
   "outputs": [],
   "source": [
    "import functools"
   ]
  },
  {
   "cell_type": "code",
   "execution_count": null,
   "id": "07291771",
   "metadata": {},
   "outputs": [
    {
     "data": {
      "text/plain": [
       "[1, 2, 3, 4, 5, 6, 7, 8, 9, 10]"
      ]
     },
     "execution_count": 63,
     "metadata": {},
     "output_type": "execute_result"
    }
   ],
   "source": [
    "nums = list(range(1, 101))\n",
    "nums[:10]"
   ]
  },
  {
   "cell_type": "code",
   "execution_count": 65,
   "id": "67e22c42",
   "metadata": {},
   "outputs": [],
   "source": [
    "def acc_sum(acc, num):\n",
    "    print(f\"acc:{acc}, num:{num}\")\n",
    "    acc += num\n",
    "    return acc\n"
   ]
  },
  {
   "cell_type": "code",
   "execution_count": 66,
   "id": "ae27de54",
   "metadata": {},
   "outputs": [
    {
     "name": "stdout",
     "output_type": "stream",
     "text": [
      "acc:1, num:2\n",
      "acc:3, num:3\n",
      "acc:6, num:4\n",
      "acc:10, num:5\n",
      "acc:15, num:6\n",
      "acc:21, num:7\n",
      "acc:28, num:8\n",
      "acc:36, num:9\n",
      "acc:45, num:10\n",
      "acc:55, num:11\n",
      "acc:66, num:12\n",
      "acc:78, num:13\n",
      "acc:91, num:14\n",
      "acc:105, num:15\n",
      "acc:120, num:16\n",
      "acc:136, num:17\n",
      "acc:153, num:18\n",
      "acc:171, num:19\n",
      "acc:190, num:20\n",
      "acc:210, num:21\n",
      "acc:231, num:22\n",
      "acc:253, num:23\n",
      "acc:276, num:24\n",
      "acc:300, num:25\n",
      "acc:325, num:26\n",
      "acc:351, num:27\n",
      "acc:378, num:28\n",
      "acc:406, num:29\n",
      "acc:435, num:30\n",
      "acc:465, num:31\n",
      "acc:496, num:32\n",
      "acc:528, num:33\n",
      "acc:561, num:34\n",
      "acc:595, num:35\n",
      "acc:630, num:36\n",
      "acc:666, num:37\n",
      "acc:703, num:38\n",
      "acc:741, num:39\n",
      "acc:780, num:40\n",
      "acc:820, num:41\n",
      "acc:861, num:42\n",
      "acc:903, num:43\n",
      "acc:946, num:44\n",
      "acc:990, num:45\n",
      "acc:1035, num:46\n",
      "acc:1081, num:47\n",
      "acc:1128, num:48\n",
      "acc:1176, num:49\n",
      "acc:1225, num:50\n",
      "acc:1275, num:51\n",
      "acc:1326, num:52\n",
      "acc:1378, num:53\n",
      "acc:1431, num:54\n",
      "acc:1485, num:55\n",
      "acc:1540, num:56\n",
      "acc:1596, num:57\n",
      "acc:1653, num:58\n",
      "acc:1711, num:59\n",
      "acc:1770, num:60\n",
      "acc:1830, num:61\n",
      "acc:1891, num:62\n",
      "acc:1953, num:63\n",
      "acc:2016, num:64\n",
      "acc:2080, num:65\n",
      "acc:2145, num:66\n",
      "acc:2211, num:67\n",
      "acc:2278, num:68\n",
      "acc:2346, num:69\n",
      "acc:2415, num:70\n",
      "acc:2485, num:71\n",
      "acc:2556, num:72\n",
      "acc:2628, num:73\n",
      "acc:2701, num:74\n",
      "acc:2775, num:75\n",
      "acc:2850, num:76\n",
      "acc:2926, num:77\n",
      "acc:3003, num:78\n",
      "acc:3081, num:79\n",
      "acc:3160, num:80\n",
      "acc:3240, num:81\n",
      "acc:3321, num:82\n",
      "acc:3403, num:83\n",
      "acc:3486, num:84\n",
      "acc:3570, num:85\n",
      "acc:3655, num:86\n",
      "acc:3741, num:87\n",
      "acc:3828, num:88\n",
      "acc:3916, num:89\n",
      "acc:4005, num:90\n",
      "acc:4095, num:91\n",
      "acc:4186, num:92\n",
      "acc:4278, num:93\n",
      "acc:4371, num:94\n",
      "acc:4465, num:95\n",
      "acc:4560, num:96\n",
      "acc:4656, num:97\n",
      "acc:4753, num:98\n",
      "acc:4851, num:99\n",
      "acc:4950, num:100\n"
     ]
    },
    {
     "data": {
      "text/plain": [
       "5050"
      ]
     },
     "execution_count": 66,
     "metadata": {},
     "output_type": "execute_result"
    }
   ],
   "source": [
    "result = functools.reduce(acc_sum, nums)\n",
    "result"
   ]
  },
  {
   "cell_type": "code",
   "execution_count": 75,
   "id": "21b2f655",
   "metadata": {},
   "outputs": [
    {
     "data": {
      "text/plain": [
       "5050"
      ]
     },
     "execution_count": 75,
     "metadata": {},
     "output_type": "execute_result"
    }
   ],
   "source": [
    "result = functools.reduce(lambda a, b: a + b, nums)\n",
    "result"
   ]
  },
  {
   "cell_type": "code",
   "execution_count": 70,
   "id": "c222f791",
   "metadata": {},
   "outputs": [
    {
     "data": {
      "text/plain": [
       "[76, 80, 80, 72, 67, 56, 91, 88, 67, 93]"
      ]
     },
     "execution_count": 70,
     "metadata": {},
     "output_type": "execute_result"
    }
   ],
   "source": [
    "scores = [ random.randint(50, 100) for _ in range(10) ]\n",
    "scores"
   ]
  },
  {
   "cell_type": "code",
   "execution_count": 73,
   "id": "12c5cca6",
   "metadata": {},
   "outputs": [
    {
     "name": "stdout",
     "output_type": "stream",
     "text": [
      "a:76, b:80\n",
      "a:76, b:80\n",
      "a:76, b:72\n",
      "a:72, b:67\n",
      "a:67, b:56\n",
      "a:56, b:91\n",
      "a:56, b:88\n",
      "a:56, b:67\n",
      "a:56, b:93\n"
     ]
    },
    {
     "data": {
      "text/plain": [
       "56"
      ]
     },
     "execution_count": 73,
     "metadata": {},
     "output_type": "execute_result"
    }
   ],
   "source": [
    "def min_score(a, b):\n",
    "    print(f\"a:{a}, b:{b}\")\n",
    "    score = a if a < b else b\n",
    "\n",
    "    return score\n",
    "\n",
    "min = functools.reduce(min_score, scores)\n",
    "min\n"
   ]
  },
  {
   "cell_type": "code",
   "execution_count": 74,
   "id": "36d5f736",
   "metadata": {},
   "outputs": [
    {
     "data": {
      "text/plain": [
       "93"
      ]
     },
     "execution_count": 74,
     "metadata": {},
     "output_type": "execute_result"
    }
   ],
   "source": [
    "max = functools.reduce(lambda a, b: a if a >= b else b, scores)\n",
    "max"
   ]
  },
  {
   "cell_type": "code",
   "execution_count": 76,
   "id": "43f0fca7",
   "metadata": {},
   "outputs": [],
   "source": [
    "students = [\n",
    "    ('이이름', 40, '컴퓨터과학'),\n",
    "    ('김이름', 20, '영어영문학'),\n",
    "    ('박이름', 24, '독어독문학')\n",
    "]"
   ]
  },
  {
   "cell_type": "code",
   "execution_count": 77,
   "id": "42193509",
   "metadata": {},
   "outputs": [],
   "source": [
    "import operator"
   ]
  },
  {
   "cell_type": "code",
   "execution_count": 79,
   "id": "60eec428",
   "metadata": {},
   "outputs": [
    {
     "data": {
      "text/plain": [
       "[('박이름', 24, '독어독문학'), ('김이름', 20, '영어영문학'), ('이이름', 40, '컴퓨터과학')]"
      ]
     },
     "execution_count": 79,
     "metadata": {},
     "output_type": "execute_result"
    }
   ],
   "source": [
    "students2 = sorted(students, key=operator.itemgetter(2))\n",
    "students2"
   ]
  },
  {
   "cell_type": "code",
   "execution_count": 80,
   "id": "c01f8dc8",
   "metadata": {},
   "outputs": [],
   "source": [
    "students = [\n",
    "    {\"name\": \"이이름\", \"age\": 40, \"major\": \"컴퓨터과학\"},\n",
    "    {\"name\": '김이름', \"age\": 20, \"major\": '영어영문학'},\n",
    "    {\"name\": '박이름', \"age\": 24, \"major\": '독어독문학'}\n",
    "]"
   ]
  },
  {
   "cell_type": "code",
   "execution_count": 81,
   "id": "775be923",
   "metadata": {},
   "outputs": [
    {
     "data": {
      "text/plain": [
       "[{'name': '김이름', 'age': 20, 'major': '영어영문학'},\n",
       " {'name': '박이름', 'age': 24, 'major': '독어독문학'},\n",
       " {'name': '이이름', 'age': 40, 'major': '컴퓨터과학'}]"
      ]
     },
     "execution_count": 81,
     "metadata": {},
     "output_type": "execute_result"
    }
   ],
   "source": [
    "students2 = sorted(students, key=operator.itemgetter('name'))\n",
    "students2"
   ]
  },
  {
   "cell_type": "code",
   "execution_count": 82,
   "id": "bc6b4ee1",
   "metadata": {},
   "outputs": [],
   "source": [
    "class Student:\n",
    "    def __init__(self, name, age, major):\n",
    "        self.name = name\n",
    "        self.age = age\n",
    "        self.major = major\n",
    "\n",
    "    def __str__(self):\n",
    "        return f\"name:{self.name}, age: {self.age}, major: {self.major}\""
   ]
  },
  {
   "cell_type": "code",
   "execution_count": 83,
   "id": "287c4b66",
   "metadata": {},
   "outputs": [],
   "source": [
    "students = [\n",
    "    Student('이이름', 40, '컴퓨터과학'),\n",
    "    Student('김이름', 20, '영어영문학'),\n",
    "    Student('박이름', 24, '독어독문학')\n",
    "]"
   ]
  },
  {
   "cell_type": "code",
   "execution_count": 85,
   "id": "e1dd826e",
   "metadata": {},
   "outputs": [
    {
     "name": "stdout",
     "output_type": "stream",
     "text": [
      "name:박이름, age: 24, major: 독어독문학\n",
      "name:김이름, age: 20, major: 영어영문학\n",
      "name:이이름, age: 40, major: 컴퓨터과학\n"
     ]
    }
   ],
   "source": [
    "students2 = sorted(students, key=operator.attrgetter('major'))\n",
    "for item in students2:\n",
    "    print(item)"
   ]
  }
 ],
 "metadata": {
  "kernelspec": {
   "display_name": "basic",
   "language": "python",
   "name": "python3"
  },
  "language_info": {
   "codemirror_mode": {
    "name": "ipython",
    "version": 3
   },
   "file_extension": ".py",
   "mimetype": "text/x-python",
   "name": "python",
   "nbconvert_exporter": "python",
   "pygments_lexer": "ipython3",
   "version": "3.12.10"
  }
 },
 "nbformat": 4,
 "nbformat_minor": 5
}
