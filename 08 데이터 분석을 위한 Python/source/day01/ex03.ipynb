{
 "cells": [
  {
   "cell_type": "markdown",
   "id": "d9582477",
   "metadata": {},
   "source": [
    "## 문자형 \n",
    "- \", '로 감싼 값 \n",
    "- \\+ 연산자로 문자열 결합\n",
    "- \"\"\" 또는 ''' 로 문자열을 감싸면 자유롭게 줄개행을 통해서 작성 가능\n",
    "- \"\"\", '''로 여러줄 주석을 대체"
   ]
  },
  {
   "cell_type": "code",
   "execution_count": 1,
   "id": "88e93bc9",
   "metadata": {},
   "outputs": [
    {
     "data": {
      "text/plain": [
       "str"
      ]
     },
     "execution_count": 1,
     "metadata": {},
     "output_type": "execute_result"
    }
   ],
   "source": [
    "a = '안녕하세요,'\n",
    "type(a)"
   ]
  },
  {
   "cell_type": "code",
   "execution_count": 2,
   "id": "9c1ead7a",
   "metadata": {},
   "outputs": [
    {
     "data": {
      "text/plain": [
       "str"
      ]
     },
     "execution_count": 2,
     "metadata": {},
     "output_type": "execute_result"
    }
   ],
   "source": [
    "b = \"반갑습니다.\"\n",
    "type(b)"
   ]
  },
  {
   "cell_type": "code",
   "execution_count": 3,
   "id": "b9a8aab8",
   "metadata": {},
   "outputs": [
    {
     "name": "stdout",
     "output_type": "stream",
     "text": [
      "안녕하세요,반갑습니다.\n"
     ]
    }
   ],
   "source": [
    "c = a + b\n",
    "print(c)"
   ]
  },
  {
   "cell_type": "code",
   "execution_count": 4,
   "id": "fd60a8a3",
   "metadata": {},
   "outputs": [
    {
     "name": "stdout",
     "output_type": "stream",
     "text": [
      "안녕하세요.\n",
      "반갑습니다.\n"
     ]
    }
   ],
   "source": [
    "d = \"안녕하세요.\\n반갑습니다.\"\n",
    "print(d)"
   ]
  },
  {
   "cell_type": "code",
   "execution_count": 7,
   "id": "2ebb591f",
   "metadata": {},
   "outputs": [
    {
     "name": "stdout",
     "output_type": "stream",
     "text": [
      "안녕하세요,\n",
      "반갑습니다. \n",
      "오늘 점심은 뭘 먹을까요?\n",
      "\n"
     ]
    }
   ],
   "source": [
    "'''\n",
    "설명1\n",
    "설명2\n",
    "...\n",
    "'''\n",
    "\n",
    "e = \"\"\"안녕하세요,\n",
    "반갑습니다. \n",
    "오늘 점심은 뭘 먹을까요?\n",
    "\"\"\"\n",
    "print(e)"
   ]
  },
  {
   "cell_type": "code",
   "execution_count": 8,
   "id": "cb4c0b6c",
   "metadata": {},
   "outputs": [
    {
     "name": "stdout",
     "output_type": "stream",
     "text": [
      "I love \"Python\" and \"Java\"\n"
     ]
    }
   ],
   "source": [
    "a = \"I love \\\"Python\\\" and \\\"Java\\\"\"\n",
    "print(a)"
   ]
  },
  {
   "cell_type": "markdown",
   "id": "12028835",
   "metadata": {},
   "source": [
    "### 문자열 연산 \n",
    "- \\+ 문자열 결합 \n",
    "- \\* 문자열 반복"
   ]
  },
  {
   "cell_type": "code",
   "execution_count": 9,
   "id": "3c0e0190",
   "metadata": {},
   "outputs": [
    {
     "data": {
      "text/plain": [
       "'ABCABCABC'"
      ]
     },
     "execution_count": 9,
     "metadata": {},
     "output_type": "execute_result"
    }
   ],
   "source": [
    "\"ABC\" * 3"
   ]
  },
  {
   "cell_type": "code",
   "execution_count": 11,
   "id": "c85591c9",
   "metadata": {},
   "outputs": [
    {
     "name": "stdout",
     "output_type": "stream",
     "text": [
      "------------------------------\n",
      "메뉴 선택:\n",
      "------------------------------\n"
     ]
    }
   ],
   "source": [
    "print('-' * 30)\n",
    "print('메뉴 선택:')\n",
    "print('-' * 30)"
   ]
  },
  {
   "cell_type": "code",
   "execution_count": 12,
   "id": "90a79cd5",
   "metadata": {},
   "outputs": [
    {
     "data": {
      "text/plain": [
       "26"
      ]
     },
     "execution_count": 12,
     "metadata": {},
     "output_type": "execute_result"
    }
   ],
   "source": [
    "len(a)"
   ]
  },
  {
   "cell_type": "markdown",
   "id": "9c58c7a5",
   "metadata": {},
   "source": [
    "## 문자열 인덱싱\n",
    "- 각 문자 접근은 인덱스 연산자 \\[\\]를 통해서 접근\n",
    "\n",
    "### 문자열 슬라이싱 \n",
    "- a\\[시작번호:종료번호\\] -> 시작번호 \\<=  a \\< 종료 번호\n",
    "- a\\[시작번호:] -> 시작번호  부터 끝까지\n",
    "- a\\[:종료번호] -> 종료번호 미만 문자열을 모두 추출 \n",
    "- 인덱스 번호가 음수, 오른쪽 부터 위치를 계산 \n",
    "    - \\-1 오른쪽 첫번째 문자\n",
    "- a\\[:] -> 전체 문자열 복사\n",
    "\n",
    "> id\\(..\\) : 자원의 주소값을 확인"
   ]
  },
  {
   "cell_type": "code",
   "execution_count": 13,
   "id": "311a6f8e",
   "metadata": {},
   "outputs": [],
   "source": [
    "a = \"One Little, Two Little, Three Little Indians\""
   ]
  },
  {
   "cell_type": "code",
   "execution_count": 17,
   "id": "32efe615",
   "metadata": {},
   "outputs": [
    {
     "data": {
      "text/plain": [
       "'One'"
      ]
     },
     "execution_count": 17,
     "metadata": {},
     "output_type": "execute_result"
    }
   ],
   "source": [
    "a[0] + a[1] + a[2]"
   ]
  },
  {
   "cell_type": "code",
   "execution_count": 18,
   "id": "ccb37d72",
   "metadata": {},
   "outputs": [
    {
     "data": {
      "text/plain": [
       "'One'"
      ]
     },
     "execution_count": 18,
     "metadata": {},
     "output_type": "execute_result"
    }
   ],
   "source": [
    "a[0:3] # 0, 1, 2"
   ]
  },
  {
   "cell_type": "code",
   "execution_count": 19,
   "id": "15e85554",
   "metadata": {},
   "outputs": [
    {
     "data": {
      "text/plain": [
       "'Little, Two Little, Three Little Indians'"
      ]
     },
     "execution_count": 19,
     "metadata": {},
     "output_type": "execute_result"
    }
   ],
   "source": [
    "a[4:]"
   ]
  },
  {
   "cell_type": "code",
   "execution_count": 21,
   "id": "3f43d774",
   "metadata": {},
   "outputs": [
    {
     "data": {
      "text/plain": [
       "'Indians'"
      ]
     },
     "execution_count": 21,
     "metadata": {},
     "output_type": "execute_result"
    }
   ],
   "source": [
    "a[37:]"
   ]
  },
  {
   "cell_type": "code",
   "execution_count": 22,
   "id": "6baa261d",
   "metadata": {},
   "outputs": [
    {
     "data": {
      "text/plain": [
       "'Indians'"
      ]
     },
     "execution_count": 22,
     "metadata": {},
     "output_type": "execute_result"
    }
   ],
   "source": [
    "a[-7:]"
   ]
  },
  {
   "cell_type": "code",
   "execution_count": 24,
   "id": "8c4bcf9f",
   "metadata": {},
   "outputs": [
    {
     "name": "stdout",
     "output_type": "stream",
     "text": [
      "a의 주소: 1957768615312\n",
      "b의 주소: 1957763160528\n"
     ]
    }
   ],
   "source": [
    "b = a[:-8]\n",
    "print(\"a의 주소:\", id(a))\n",
    "print(\"b의 주소:\", id(b))"
   ]
  },
  {
   "cell_type": "code",
   "execution_count": 25,
   "id": "f0201766",
   "metadata": {},
   "outputs": [
    {
     "name": "stdout",
     "output_type": "stream",
     "text": [
      "주소: 140735491822384\n",
      "주소: 1957763086208\n"
     ]
    }
   ],
   "source": [
    "b = \"ABC\"\n",
    "print(\"주소:\", id(b))\n",
    "\n",
    "b += \"DEF\"\n",
    "print(\"주소:\", id(b))"
   ]
  },
  {
   "cell_type": "code",
   "execution_count": null,
   "id": "f833b860",
   "metadata": {},
   "outputs": [
    {
     "ename": "TypeError",
     "evalue": "'str' object does not support item assignment",
     "output_type": "error",
     "traceback": [
      "\u001b[31m---------------------------------------------------------------------------\u001b[39m",
      "\u001b[31mTypeError\u001b[39m                                 Traceback (most recent call last)",
      "\u001b[36mCell\u001b[39m\u001b[36m \u001b[39m\u001b[32mIn[26]\u001b[39m\u001b[32m, line 1\u001b[39m\n\u001b[32m----> \u001b[39m\u001b[32m1\u001b[39m \u001b[43ma\u001b[49m\u001b[43m[\u001b[49m\u001b[32;43m0\u001b[39;49m\u001b[43m]\u001b[49m = \u001b[33m'\u001b[39m\u001b[33mb\u001b[39m\u001b[33m'\u001b[39m\n",
      "\u001b[31mTypeError\u001b[39m: 'str' object does not support item assignment"
     ]
    }
   ],
   "source": [
    "a[0] = 'b'  # 문자열은 불변하기 때문에 변경 불가"
   ]
  },
  {
   "cell_type": "code",
   "execution_count": 27,
   "id": "5d6918f1",
   "metadata": {},
   "outputs": [
    {
     "name": "stdout",
     "output_type": "stream",
     "text": [
      "One Little, Two Little, Three Little Indians a의 주소: 1957768615312\n",
      "One Little, Two Little, Three Little Indians b의 주소: 1957768615312\n",
      "One Little, Two Little, Three Little Indians c의 주소: 1957768615312\n"
     ]
    }
   ],
   "source": [
    "b = a[:] # b에 a의 문자열을 복사\n",
    "c = a # c에 a의 문자열 객체의 주소 복사\n",
    "\n",
    "print(a, \"a의 주소:\", id(a))\n",
    "print(b, \"b의 주소:\", id(b))\n",
    "print(c, \"c의 주소:\", id(c))"
   ]
  },
  {
   "cell_type": "markdown",
   "id": "8c43ad85",
   "metadata": {},
   "source": [
    "## 문자열 형식화\n",
    "- %d : 정수 \n",
    "- %f : 실수\n",
    "    - %10.4f -> 전체 자리수는 10자(정수 부분 + 소수점자리)에서 소수점은 4자까지만 출력 \n",
    "    - %.4f  -> 소수점 자리수만 4자리로 한정(자바 X)\n",
    "    - %0.4f (자바 O)\n",
    "- %s : 문자\n",
    "    - %10s -> 왼쪽부터 최소 10자, 10자가 안되는 경우 왼쪽부터 공백으로 채워준다.\n",
    "    - %-10s -> 오른쪽 부터 최소 10자, 10자가 안되는 경우 오른쪽부터 공백으로 채워준다.\n",
    "\n",
    "### 적용방법 \n",
    "- \"형식화된 문자열\" % 대체될 값\n",
    "- \"형식화된 문자열(대체될 부분이 여러개 인경우)\" % (값1, 값2, ...)\n",
    "- 형식화 할때 %를 문자열로 사용하는 경우 %%로 대체\n",
    "- 문자열 객체의 함수 중에서 format 함수 사용\n",
    "    - 형식화할때 치환될 부분을 {0}, {1}로 순서 번호 형태로 지정 \n",
    "    - 형식화할때 치환될 부분을 직접 이름형태로 지정할 수도 있음 {number}, {day}\n",
    "    - 숫자와 이름을 혼용해서 형식화 문자열을 작성\n",
    "    - {0:\\<10} : 최소 10자리, 남는 자리수를 오른쪽 부터 공백\n",
    "        - {0:\\_<10>} : 최소 10자리, 남는 자리수를 오른쪽 부터 _로 채워 넣는다.\n",
    "\n",
    "    - {0:\\>10} : 최소 10자리, 남는 자리수를 왼쪽 부터 공백 \n",
    "        - {0:\\!>10} : 최소 10자리, 남는 자리수를 왼쪽 부터 !로 채워 넣는다.\n",
    "\n",
    "    - {0:^10} : 최소 10자리, 남는 자리수는 좌우 균등하게 공백 \n",
    "        - {0:\\0^10} : 최소 10자리, 남는 자리수는 좌우 균등하게 0으로 채워 넣는다. \n",
    "\n",
    "    - {0:10.4f} : 최소 10자리(정수부 + 소수점)를 유지, 소수점은 4자리로 한정 \n",
    "        - {0:.4f} : 소수점만 4자리로 한정\n",
    "        \n",
    "- 문자열 앞에 \"f\", 파이썬 3.6부터 추가, 변수 그 차체를 문자열에 추가"
   ]
  },
  {
   "cell_type": "code",
   "execution_count": 31,
   "id": "f1fe8902",
   "metadata": {},
   "outputs": [
    {
     "data": {
      "text/plain": [
       "'I drink 10 cup of coffee and 3 piece of cake'"
      ]
     },
     "execution_count": 31,
     "metadata": {},
     "output_type": "execute_result"
    }
   ],
   "source": [
    "\"I drink %d cup of coffee and %d piece of cake\" % (10, 3)"
   ]
  },
  {
   "cell_type": "code",
   "execution_count": 32,
   "id": "887622d9",
   "metadata": {},
   "outputs": [
    {
     "data": {
      "text/plain": [
       "'I drink ten cup of coffee and three piece of cake'"
      ]
     },
     "execution_count": 32,
     "metadata": {},
     "output_type": "execute_result"
    }
   ],
   "source": [
    "\"I drink %s cup of coffee and %s piece of cake\" % ('ten', 'three')"
   ]
  },
  {
   "cell_type": "code",
   "execution_count": 33,
   "id": "96b98275",
   "metadata": {},
   "outputs": [
    {
     "data": {
      "text/plain": [
       "'     Apple,'"
      ]
     },
     "execution_count": 33,
     "metadata": {},
     "output_type": "execute_result"
    }
   ],
   "source": [
    "\"%10s,\" % \"Apple\""
   ]
  },
  {
   "cell_type": "code",
   "execution_count": 34,
   "id": "ab206029",
   "metadata": {},
   "outputs": [
    {
     "data": {
      "text/plain": [
       "'Apple     ,'"
      ]
     },
     "execution_count": 34,
     "metadata": {},
     "output_type": "execute_result"
    }
   ],
   "source": [
    "\"%-10s,\" % \"Apple\""
   ]
  },
  {
   "cell_type": "code",
   "execution_count": 35,
   "id": "570f9e46",
   "metadata": {},
   "outputs": [
    {
     "name": "stdout",
     "output_type": "stream",
     "text": [
      "숫자: 100.123457\n",
      "숫자:   100.1235\n",
      "숫자: 100.1235\n"
     ]
    }
   ],
   "source": [
    "a = 100.12345678\n",
    "print(\"숫자: %f\" % a)\n",
    "print(\"숫자: %10.4f\" % a)\n",
    "print(\"숫자: %.4f\" % a)"
   ]
  },
  {
   "cell_type": "code",
   "execution_count": 37,
   "id": "0c4c7cae",
   "metadata": {},
   "outputs": [
    {
     "data": {
      "text/plain": [
       "'완료까지 85% 입니다.'"
      ]
     },
     "execution_count": 37,
     "metadata": {},
     "output_type": "execute_result"
    }
   ],
   "source": [
    "\"완료까지 %d%% 입니다.\" % 85"
   ]
  },
  {
   "cell_type": "code",
   "execution_count": 39,
   "id": "b6cf8fa9",
   "metadata": {},
   "outputs": [
    {
     "data": {
      "text/plain": [
       "'I drink 5 cup of coffee and 3 piece of cake'"
      ]
     },
     "execution_count": 39,
     "metadata": {},
     "output_type": "execute_result"
    }
   ],
   "source": [
    "\"I drink {0} cup of coffee and {1} piece of cake\".format(5, 3)"
   ]
  },
  {
   "cell_type": "code",
   "execution_count": 41,
   "id": "ab3d496e",
   "metadata": {},
   "outputs": [
    {
     "data": {
      "text/plain": [
       "'I drink 10 cup of coffee and 3 piece of cake'"
      ]
     },
     "execution_count": 41,
     "metadata": {},
     "output_type": "execute_result"
    }
   ],
   "source": [
    "\"I drink {number1} cup of coffee and {number2} piece of cake\".format(number1=10, number2=3)\n",
    "\"I drink {number1} cup of coffee and {number2} piece of cake\".format(number2=3, number1=10)"
   ]
  },
  {
   "cell_type": "code",
   "execution_count": 42,
   "id": "793503d5",
   "metadata": {},
   "outputs": [
    {
     "data": {
      "text/plain": [
       "'I drink 5 cup of coffee and 3 piece of cake'"
      ]
     },
     "execution_count": 42,
     "metadata": {},
     "output_type": "execute_result"
    }
   ],
   "source": [
    "\"I drink {0} cup of coffee and {number} piece of cake\".format(5, number=3)"
   ]
  },
  {
   "cell_type": "code",
   "execution_count": 43,
   "id": "a3f76a69",
   "metadata": {},
   "outputs": [
    {
     "data": {
      "text/plain": [
       "'I drink 5 cup of coffee and 3 piece of cake'"
      ]
     },
     "execution_count": 43,
     "metadata": {},
     "output_type": "execute_result"
    }
   ],
   "source": [
    "coffee = 5\n",
    "cake = 3\n",
    "f\"I drink {coffee} cup of coffee and {cake} piece of cake\""
   ]
  },
  {
   "cell_type": "code",
   "execution_count": 47,
   "id": "97cdb8b6",
   "metadata": {},
   "outputs": [
    {
     "data": {
      "text/plain": [
       "'***Apple     ,      Apple,   Apple   ***'"
      ]
     },
     "execution_count": 47,
     "metadata": {},
     "output_type": "execute_result"
    }
   ],
   "source": [
    "\"***{0:<10}, {1:>10}, {2:^10}***\".format(\"Apple\", \"Apple\", \"Apple\")"
   ]
  },
  {
   "cell_type": "code",
   "execution_count": 48,
   "id": "a6dacbb0",
   "metadata": {},
   "outputs": [
    {
     "data": {
      "text/plain": [
       "'***Apple_____, *****Apple, 00Apple000***'"
      ]
     },
     "execution_count": 48,
     "metadata": {},
     "output_type": "execute_result"
    }
   ],
   "source": [
    "\"***{0:_<10}, {1:*>10}, {2:0^10}***\".format(\"Apple\", \"Apple\", \"Apple\")"
   ]
  },
  {
   "cell_type": "code",
   "execution_count": 50,
   "id": "6ee2c222",
   "metadata": {},
   "outputs": [
    {
     "name": "stdout",
     "output_type": "stream",
     "text": [
      "  100.1235\n",
      "100.1235\n"
     ]
    }
   ],
   "source": [
    "print(\"{0:10.4f}\".format(100.12345678))\n",
    "print(\"{0:.4f}\".format(100.12345678))"
   ]
  },
  {
   "cell_type": "markdown",
   "id": "afabd460",
   "metadata": {},
   "source": [
    "### f 형식화\n",
    "- 문자열 앞에 f를 붙이면 된다.\n",
    "- 변수를 직접 형식화 문자열에 출력 \n",
    "- 간단한 연산, 함수 호출도 가능"
   ]
  },
  {
   "cell_type": "markdown",
   "id": "eae156be",
   "metadata": {},
   "source": []
  }
 ],
 "metadata": {
  "kernelspec": {
   "display_name": "basic",
   "language": "python",
   "name": "python3"
  },
  "language_info": {
   "codemirror_mode": {
    "name": "ipython",
    "version": 3
   },
   "file_extension": ".py",
   "mimetype": "text/x-python",
   "name": "python",
   "nbconvert_exporter": "python",
   "pygments_lexer": "ipython3",
   "version": "3.12.10"
  }
 },
 "nbformat": 4,
 "nbformat_minor": 5
}
