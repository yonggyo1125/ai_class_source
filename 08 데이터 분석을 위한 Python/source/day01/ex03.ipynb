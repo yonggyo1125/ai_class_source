{
 "cells": [
  {
   "cell_type": "markdown",
   "id": "d9582477",
   "metadata": {},
   "source": [
    "## 문자형 \n",
    "- \", '로 감싼 값 \n",
    "- \\+ 연산자로 문자열 결합\n",
    "- \"\"\" 또는 ''' 로 문자열을 감싸면 자유롭게 줄개행을 통해서 작성 가능\n",
    "- \"\"\", '''로 여러줄 주석을 대체"
   ]
  },
  {
   "cell_type": "code",
   "execution_count": 1,
   "id": "88e93bc9",
   "metadata": {},
   "outputs": [
    {
     "data": {
      "text/plain": [
       "str"
      ]
     },
     "execution_count": 1,
     "metadata": {},
     "output_type": "execute_result"
    }
   ],
   "source": [
    "a = '안녕하세요,'\n",
    "type(a)"
   ]
  },
  {
   "cell_type": "code",
   "execution_count": 2,
   "id": "9c1ead7a",
   "metadata": {},
   "outputs": [
    {
     "data": {
      "text/plain": [
       "str"
      ]
     },
     "execution_count": 2,
     "metadata": {},
     "output_type": "execute_result"
    }
   ],
   "source": [
    "b = \"반갑습니다.\"\n",
    "type(b)"
   ]
  },
  {
   "cell_type": "code",
   "execution_count": 3,
   "id": "b9a8aab8",
   "metadata": {},
   "outputs": [
    {
     "name": "stdout",
     "output_type": "stream",
     "text": [
      "안녕하세요,반갑습니다.\n"
     ]
    }
   ],
   "source": [
    "c = a + b\n",
    "print(c)"
   ]
  },
  {
   "cell_type": "code",
   "execution_count": 4,
   "id": "fd60a8a3",
   "metadata": {},
   "outputs": [
    {
     "name": "stdout",
     "output_type": "stream",
     "text": [
      "안녕하세요.\n",
      "반갑습니다.\n"
     ]
    }
   ],
   "source": [
    "d = \"안녕하세요.\\n반갑습니다.\"\n",
    "print(d)"
   ]
  },
  {
   "cell_type": "code",
   "execution_count": 7,
   "id": "2ebb591f",
   "metadata": {},
   "outputs": [
    {
     "name": "stdout",
     "output_type": "stream",
     "text": [
      "안녕하세요,\n",
      "반갑습니다. \n",
      "오늘 점심은 뭘 먹을까요?\n",
      "\n"
     ]
    }
   ],
   "source": [
    "'''\n",
    "설명1\n",
    "설명2\n",
    "...\n",
    "'''\n",
    "\n",
    "e = \"\"\"안녕하세요,\n",
    "반갑습니다. \n",
    "오늘 점심은 뭘 먹을까요?\n",
    "\"\"\"\n",
    "print(e)"
   ]
  },
  {
   "cell_type": "code",
   "execution_count": 8,
   "id": "cb4c0b6c",
   "metadata": {},
   "outputs": [
    {
     "name": "stdout",
     "output_type": "stream",
     "text": [
      "I love \"Python\" and \"Java\"\n"
     ]
    }
   ],
   "source": [
    "a = \"I love \\\"Python\\\" and \\\"Java\\\"\"\n",
    "print(a)"
   ]
  },
  {
   "cell_type": "markdown",
   "id": "12028835",
   "metadata": {},
   "source": [
    "### 문자열 연산 \n",
    "- \\+ 문자열 결합 \n",
    "- \\* 문자열 반복"
   ]
  },
  {
   "cell_type": "code",
   "execution_count": 9,
   "id": "3c0e0190",
   "metadata": {},
   "outputs": [
    {
     "data": {
      "text/plain": [
       "'ABCABCABC'"
      ]
     },
     "execution_count": 9,
     "metadata": {},
     "output_type": "execute_result"
    }
   ],
   "source": [
    "\"ABC\" * 3"
   ]
  },
  {
   "cell_type": "code",
   "execution_count": 11,
   "id": "c85591c9",
   "metadata": {},
   "outputs": [
    {
     "name": "stdout",
     "output_type": "stream",
     "text": [
      "------------------------------\n",
      "메뉴 선택:\n",
      "------------------------------\n"
     ]
    }
   ],
   "source": [
    "print('-' * 30)\n",
    "print('메뉴 선택:')\n",
    "print('-' * 30)"
   ]
  },
  {
   "cell_type": "code",
   "execution_count": 12,
   "id": "90a79cd5",
   "metadata": {},
   "outputs": [
    {
     "data": {
      "text/plain": [
       "26"
      ]
     },
     "execution_count": 12,
     "metadata": {},
     "output_type": "execute_result"
    }
   ],
   "source": [
    "len(a)"
   ]
  },
  {
   "cell_type": "markdown",
   "id": "9c58c7a5",
   "metadata": {},
   "source": [
    "## 문자열 인덱싱\n",
    "- 각 문자 접근은 인덱스 연산자 \\[\\]를 통해서 접근\n",
    "\n",
    "### 문자열 슬라이싱 \n",
    "- a\\[시작번호:종료번호\\] -> 시작번호 \\<=  a \\< 종료 번호\n",
    "- a\\[시작번호:] -> 시작번호  부터 끝까지\n",
    "- a\\[:종료번호] -> 종료번호 미만 문자열을 모두 추출 \n",
    "- 인덱스 번호가 음수, 오른쪽 부터 위치를 계산 \n",
    "    - \\-1 오른쪽 첫번째 문자\n",
    "\n",
    "> id\\(..\\) : 자원의 주소값을 확인"
   ]
  },
  {
   "cell_type": "code",
   "execution_count": 13,
   "id": "311a6f8e",
   "metadata": {},
   "outputs": [],
   "source": [
    "a = \"One Little, Two Little, Three Little Indians\""
   ]
  },
  {
   "cell_type": "code",
   "execution_count": 17,
   "id": "32efe615",
   "metadata": {},
   "outputs": [
    {
     "data": {
      "text/plain": [
       "'One'"
      ]
     },
     "execution_count": 17,
     "metadata": {},
     "output_type": "execute_result"
    }
   ],
   "source": [
    "a[0] + a[1] + a[2]"
   ]
  },
  {
   "cell_type": "code",
   "execution_count": 18,
   "id": "ccb37d72",
   "metadata": {},
   "outputs": [
    {
     "data": {
      "text/plain": [
       "'One'"
      ]
     },
     "execution_count": 18,
     "metadata": {},
     "output_type": "execute_result"
    }
   ],
   "source": [
    "a[0:3] # 0, 1, 2"
   ]
  },
  {
   "cell_type": "code",
   "execution_count": 19,
   "id": "15e85554",
   "metadata": {},
   "outputs": [
    {
     "data": {
      "text/plain": [
       "'Little, Two Little, Three Little Indians'"
      ]
     },
     "execution_count": 19,
     "metadata": {},
     "output_type": "execute_result"
    }
   ],
   "source": [
    "a[4:]"
   ]
  },
  {
   "cell_type": "code",
   "execution_count": 21,
   "id": "3f43d774",
   "metadata": {},
   "outputs": [
    {
     "data": {
      "text/plain": [
       "'Indians'"
      ]
     },
     "execution_count": 21,
     "metadata": {},
     "output_type": "execute_result"
    }
   ],
   "source": [
    "a[37:]"
   ]
  },
  {
   "cell_type": "code",
   "execution_count": 22,
   "id": "6baa261d",
   "metadata": {},
   "outputs": [
    {
     "data": {
      "text/plain": [
       "'Indians'"
      ]
     },
     "execution_count": 22,
     "metadata": {},
     "output_type": "execute_result"
    }
   ],
   "source": [
    "a[-7:]"
   ]
  },
  {
   "cell_type": "code",
   "execution_count": 24,
   "id": "8c4bcf9f",
   "metadata": {},
   "outputs": [
    {
     "name": "stdout",
     "output_type": "stream",
     "text": [
      "a의 주소: 1957768615312\n",
      "b의 주소: 1957763160528\n"
     ]
    }
   ],
   "source": [
    "b = a[:-8]\n",
    "print(\"a의 주소:\", id(a))\n",
    "print(\"b의 주소:\", id(b))"
   ]
  },
  {
   "cell_type": "code",
   "execution_count": 25,
   "id": "f0201766",
   "metadata": {},
   "outputs": [
    {
     "name": "stdout",
     "output_type": "stream",
     "text": [
      "주소: 140735491822384\n",
      "주소: 1957763086208\n"
     ]
    }
   ],
   "source": [
    "b = \"ABC\"\n",
    "print(\"주소:\", id(b))\n",
    "\n",
    "b += \"DEF\"\n",
    "print(\"주소:\", id(b))"
   ]
  },
  {
   "cell_type": "code",
   "execution_count": 26,
   "id": "f833b860",
   "metadata": {},
   "outputs": [
    {
     "ename": "TypeError",
     "evalue": "'str' object does not support item assignment",
     "output_type": "error",
     "traceback": [
      "\u001b[31m---------------------------------------------------------------------------\u001b[39m",
      "\u001b[31mTypeError\u001b[39m                                 Traceback (most recent call last)",
      "\u001b[36mCell\u001b[39m\u001b[36m \u001b[39m\u001b[32mIn[26]\u001b[39m\u001b[32m, line 1\u001b[39m\n\u001b[32m----> \u001b[39m\u001b[32m1\u001b[39m \u001b[43ma\u001b[49m\u001b[43m[\u001b[49m\u001b[32;43m0\u001b[39;49m\u001b[43m]\u001b[49m = \u001b[33m'\u001b[39m\u001b[33mb\u001b[39m\u001b[33m'\u001b[39m\n",
      "\u001b[31mTypeError\u001b[39m: 'str' object does not support item assignment"
     ]
    }
   ],
   "source": [
    "a[0] = 'b'"
   ]
  }
 ],
 "metadata": {
  "kernelspec": {
   "display_name": "basic",
   "language": "python",
   "name": "python3"
  },
  "language_info": {
   "codemirror_mode": {
    "name": "ipython",
    "version": 3
   },
   "file_extension": ".py",
   "mimetype": "text/x-python",
   "name": "python",
   "nbconvert_exporter": "python",
   "pygments_lexer": "ipython3",
   "version": "3.12.10"
  }
 },
 "nbformat": 4,
 "nbformat_minor": 5
}
