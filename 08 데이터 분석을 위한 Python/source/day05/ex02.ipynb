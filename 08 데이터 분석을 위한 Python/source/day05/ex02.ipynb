{
 "cells": [
  {
   "cell_type": "markdown",
   "id": "42f003c5",
   "metadata": {},
   "source": [
    "## 예외처리\n",
    "\n",
    "```python\n",
    "try:\n",
    "    // 예외가 발생할 가능성이 있는 코드\n",
    "except:\n",
    "    // 예외가 발생하면 유입되는 구간, 예외처리 \n",
    "```\n",
    "\n",
    "- 예외 정보를 확인하기 위한 예외 객체\n",
    "\n",
    "```python\n",
    "try:\n",
    "    // 예외가 발생할 가능성이 있는 코드\n",
    "except 예외클래스명 as 변수:\n",
    "    // 예외가 발생하면 유입되는 구간, 예외처리 \n",
    "```\n",
    "\n",
    "- 다중 예외처리\n",
    "```python\n",
    "try:\n",
    "    ...\n",
    "except 예외클래스1:\n",
    "\n",
    "except 예외클래스2:\n",
    "    ...  \n",
    "```\n",
    "\n",
    "```python\n",
    "try:\n",
    "    ...\n",
    "except (예외클래스1, 예외클래스2, ...):\n",
    "    .. \n",
    "```\n",
    "\n",
    "- 발생한 예외의 정보를 자세하게 확인 하는 경우 \n",
    "```python \n",
    "import traceback \n",
    "\n",
    "\n",
    "try:\n",
    "\n",
    "except:\n",
    "    print(traceback.format_exc()) # 발생 위치부터 파생 위치까지 자세한 정보 확인\n",
    "```"
   ]
  },
  {
   "cell_type": "code",
   "execution_count": 3,
   "id": "69878c43",
   "metadata": {},
   "outputs": [
    {
     "name": "stdout",
     "output_type": "stream",
     "text": [
      "예외발생\n"
     ]
    }
   ],
   "source": [
    "try:\n",
    "    num1 = 10\n",
    "    num2 = 0\n",
    "\n",
    "    result = num1 / num2\n",
    "    print(result)\n",
    "    \n",
    "except:\n",
    "    print(\"예외발생\")\n",
    "\n",
    "\n"
   ]
  },
  {
   "cell_type": "code",
   "execution_count": 4,
   "id": "e0ce4595",
   "metadata": {},
   "outputs": [
    {
     "name": "stdout",
     "output_type": "stream",
     "text": [
      "division by zero\n"
     ]
    }
   ],
   "source": [
    "try:\n",
    "    num1 = 10\n",
    "    num2 = 0\n",
    "\n",
    "    result = num1 / num2\n",
    "    print(result)\n",
    "    \n",
    "except Exception as e:\n",
    "    print(e) # __str__"
   ]
  },
  {
   "cell_type": "code",
   "execution_count": 9,
   "id": "4b8d606f",
   "metadata": {},
   "outputs": [
    {
     "name": "stdout",
     "output_type": "stream",
     "text": [
      "list index out of range\n"
     ]
    }
   ],
   "source": [
    "try:\n",
    "    a = [1, 2]\n",
    "    print(a[2]) # 없는 인덱스 접근 - IndexError  \n",
    "\n",
    "    num1 = 10\n",
    "    num2 = 0\n",
    "\n",
    "    result = num1 / num2\n",
    "    print(result)\n",
    "except ZeroDivisionError as e:\n",
    "    print(e)\n",
    "except IndexError as e:\n",
    "    print(e)"
   ]
  },
  {
   "cell_type": "code",
   "execution_count": 11,
   "id": "153a85ae",
   "metadata": {},
   "outputs": [
    {
     "name": "stdout",
     "output_type": "stream",
     "text": [
      "list index out of range\n",
      "Traceback (most recent call last):\n",
      "  File \"C:\\Users\\admin\\AppData\\Local\\Temp\\ipykernel_19288\\2869828037.py\", line 5, in <module>\n",
      "    print(a[2]) # 없는 인덱스 접근 - IndexError\n",
      "        ~^^^\n",
      "IndexError: list index out of range\n",
      "\n"
     ]
    }
   ],
   "source": [
    "import traceback\n",
    "\n",
    "try:\n",
    "    a = [1, 2]\n",
    "    print(a[2]) # 없는 인덱스 접근 - IndexError  \n",
    "\n",
    "    num1 = 10\n",
    "    num2 = 0\n",
    "\n",
    "    result = num1 / num2\n",
    "    print(result)\n",
    "except (ZeroDivisionError, IndexError) as e:\n",
    "    print(e)\n",
    "    print(traceback.format_exc())"
   ]
  },
  {
   "cell_type": "markdown",
   "id": "6742fb8b",
   "metadata": {},
   "source": [
    "- 예외가 발생하지 않은 경우 공통 처리 부분 \n",
    "    - else\n",
    "- 예외가 발생하든 하지 않든 무조건 실행되는 부분\n",
    "    - finally\n",
    "```python\n",
    "try:\n",
    "    # 예외가 발생할 가능성이 있는 코드\n",
    "\n",
    "except:\n",
    "    # 예외가 발생하면 실행되는 코드\n",
    "else:\n",
    "    # 예외가 발생하지 않으면 실행되는 코드\n",
    "finally:\n",
    "    # 무조건 실행, return 해도 실행됨 \n",
    "```"
   ]
  },
  {
   "cell_type": "code",
   "execution_count": 16,
   "id": "9a8a29c4",
   "metadata": {},
   "outputs": [
    {
     "name": "stdout",
     "output_type": "stream",
     "text": [
      "예외발생\n",
      "무조건 실행\n"
     ]
    }
   ],
   "source": [
    "try:\n",
    "    10 / 0\n",
    "except:\n",
    "    print(\"예외발생\")\n",
    "else: \n",
    "    print(\"정상실행\")\n",
    "finally: \n",
    "    print(\"무조건 실행\")"
   ]
  },
  {
   "cell_type": "code",
   "execution_count": 17,
   "id": "36d3dfc1",
   "metadata": {},
   "outputs": [],
   "source": [
    "def add(num1, num2):\n",
    "    try:\n",
    "        return num1 + num2\n",
    "    finally:\n",
    "        print(\"return 이후라도 실행!\")"
   ]
  },
  {
   "cell_type": "code",
   "execution_count": 18,
   "id": "60be653e",
   "metadata": {},
   "outputs": [
    {
     "name": "stdout",
     "output_type": "stream",
     "text": [
      "return 이후라도 실행!\n"
     ]
    },
    {
     "data": {
      "text/plain": [
       "30"
      ]
     },
     "execution_count": 18,
     "metadata": {},
     "output_type": "execute_result"
    }
   ],
   "source": [
    "add(10, 20)"
   ]
  },
  {
   "cell_type": "markdown",
   "id": "b44206a1",
   "metadata": {},
   "source": [
    "### 예외를 발생 시키기 \n",
    "\n",
    "```python\n",
    "raise 예외 객체\n",
    "```"
   ]
  },
  {
   "cell_type": "code",
   "execution_count": 19,
   "id": "c5290c9f",
   "metadata": {},
   "outputs": [
    {
     "ename": "Exception",
     "evalue": "예외발생...",
     "output_type": "error",
     "traceback": [
      "\u001b[31m---------------------------------------------------------------------------\u001b[39m",
      "\u001b[31mException\u001b[39m                                 Traceback (most recent call last)",
      "\u001b[36mCell\u001b[39m\u001b[36m \u001b[39m\u001b[32mIn[19]\u001b[39m\u001b[32m, line 3\u001b[39m\n\u001b[32m      1\u001b[39m result = \u001b[38;5;28;01mFalse\u001b[39;00m\n\u001b[32m      2\u001b[39m \u001b[38;5;28;01mif\u001b[39;00m \u001b[38;5;129;01mnot\u001b[39;00m result:\n\u001b[32m----> \u001b[39m\u001b[32m3\u001b[39m     \u001b[38;5;28;01mraise\u001b[39;00m \u001b[38;5;167;01mException\u001b[39;00m(\u001b[33m\"\u001b[39m\u001b[33m예외발생...\u001b[39m\u001b[33m\"\u001b[39m)\n",
      "\u001b[31mException\u001b[39m: 예외발생..."
     ]
    }
   ],
   "source": [
    "result = False\n",
    "if not result:\n",
    "    raise Exception(\"예외발생...\")"
   ]
  },
  {
   "cell_type": "code",
   "execution_count": 21,
   "id": "9b5064c0",
   "metadata": {},
   "outputs": [
    {
     "ename": "Exception",
     "evalue": "",
     "output_type": "error",
     "traceback": [
      "\u001b[31m---------------------------------------------------------------------------\u001b[39m",
      "\u001b[31mException\u001b[39m                                 Traceback (most recent call last)",
      "\u001b[36mCell\u001b[39m\u001b[36m \u001b[39m\u001b[32mIn[21]\u001b[39m\u001b[32m, line 3\u001b[39m\n\u001b[32m      1\u001b[39m result = \u001b[38;5;28;01mFalse\u001b[39;00m\n\u001b[32m      2\u001b[39m \u001b[38;5;28;01mif\u001b[39;00m \u001b[38;5;129;01mnot\u001b[39;00m result:\n\u001b[32m----> \u001b[39m\u001b[32m3\u001b[39m     \u001b[38;5;28;01mraise\u001b[39;00m \u001b[38;5;167;01mException\u001b[39;00m\n",
      "\u001b[31mException\u001b[39m: "
     ]
    }
   ],
   "source": [
    "result = False\n",
    "if not result:\n",
    "    raise Exception"
   ]
  }
 ],
 "metadata": {
  "kernelspec": {
   "display_name": "basic",
   "language": "python",
   "name": "python3"
  },
  "language_info": {
   "codemirror_mode": {
    "name": "ipython",
    "version": 3
   },
   "file_extension": ".py",
   "mimetype": "text/x-python",
   "name": "python",
   "nbconvert_exporter": "python",
   "pygments_lexer": "ipython3",
   "version": "3.12.10"
  }
 },
 "nbformat": 4,
 "nbformat_minor": 5
}
