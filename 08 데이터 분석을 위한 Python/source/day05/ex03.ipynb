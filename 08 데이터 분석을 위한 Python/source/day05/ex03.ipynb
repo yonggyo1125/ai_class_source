{
 "cells": [
  {
   "cell_type": "markdown",
   "id": "cece5049",
   "metadata": {},
   "source": [
    "### 사용자 정의 예외 \n",
    "- Exception 클래스를 상속 받으면 예외 클래스가 된다."
   ]
  },
  {
   "cell_type": "code",
   "execution_count": 9,
   "id": "05baaf16",
   "metadata": {},
   "outputs": [],
   "source": [
    "class UserIdError(Exception):\n",
    "    def __str__(self):\n",
    "        return \"아이디가 일치하지 않습니다.\"\n",
    "\n",
    "\n",
    "class UserPwError(Exception):\n",
    "    def __str__(self):\n",
    "        return \"비밀번호가 일치하지 않습니다.\""
   ]
  },
  {
   "cell_type": "code",
   "execution_count": 10,
   "id": "5559875a",
   "metadata": {},
   "outputs": [],
   "source": [
    "def login(user_id, user_pw):\n",
    "    if user_id != 'user01':\n",
    "        raise UserIdError\n",
    "    \n",
    "    if user_pw != '123456':\n",
    "        raise UserPwError"
   ]
  },
  {
   "cell_type": "code",
   "execution_count": 12,
   "id": "f5503f34",
   "metadata": {},
   "outputs": [
    {
     "name": "stdout",
     "output_type": "stream",
     "text": [
      "아이디가 일치하지 않습니다.\n"
     ]
    }
   ],
   "source": [
    "try:\n",
    "    login('user02', '123456')\n",
    "#except (UserIdError, UserPwError) as e:\n",
    "except Exception as e:\n",
    "    print(e)"
   ]
  },
  {
   "cell_type": "code",
   "execution_count": null,
   "id": "32cdad6a",
   "metadata": {},
   "outputs": [],
   "source": []
  }
 ],
 "metadata": {
  "kernelspec": {
   "display_name": "basic",
   "language": "python",
   "name": "python3"
  },
  "language_info": {
   "codemirror_mode": {
    "name": "ipython",
    "version": 3
   },
   "file_extension": ".py",
   "mimetype": "text/x-python",
   "name": "python",
   "nbconvert_exporter": "python",
   "pygments_lexer": "ipython3",
   "version": "3.12.10"
  }
 },
 "nbformat": 4,
 "nbformat_minor": 5
}
