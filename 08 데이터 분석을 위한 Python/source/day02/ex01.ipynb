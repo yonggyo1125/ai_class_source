{
 "cells": [
  {
   "cell_type": "markdown",
   "id": "8936cf76",
   "metadata": {},
   "source": [
    "# 리스트 \n",
    "- 순차 자료구조 \n",
    "- 모든 값을 담을 수 있음"
   ]
  },
  {
   "cell_type": "code",
   "execution_count": 1,
   "id": "b804c685",
   "metadata": {},
   "outputs": [],
   "source": [
    "fruits = ['사과', '오렌지', '바나나', '배', '멜론', '망고', ['a', 'b', 'c']]"
   ]
  },
  {
   "cell_type": "code",
   "execution_count": 2,
   "id": "3c8479e8",
   "metadata": {},
   "outputs": [
    {
     "data": {
      "text/plain": [
       "['사과', '오렌지', '바나나', '배', '멜론', '망고', ['a', 'b', 'c']]"
      ]
     },
     "execution_count": 2,
     "metadata": {},
     "output_type": "execute_result"
    }
   ],
   "source": [
    "fruits"
   ]
  },
  {
   "cell_type": "markdown",
   "id": "7090cc87",
   "metadata": {},
   "source": [
    "## 리스트 인덱싱\n",
    "- \\[순서번호\\] : 순서번호는 왼쪽 0번부터 시작 \n",
    "- \\[음수\\]: 오른쪽 부터 시작, -1 - 오른쪽 끝 "
   ]
  },
  {
   "cell_type": "code",
   "execution_count": 3,
   "id": "ae5f6297",
   "metadata": {},
   "outputs": [
    {
     "name": "stdout",
     "output_type": "stream",
     "text": [
      "사과 오렌지 바나나\n"
     ]
    }
   ],
   "source": [
    "print(fruits[0], fruits[1], fruits[2])"
   ]
  },
  {
   "cell_type": "code",
   "execution_count": 4,
   "id": "ec806391",
   "metadata": {},
   "outputs": [
    {
     "data": {
      "text/plain": [
       "['a', 'b', 'c']"
      ]
     },
     "execution_count": 4,
     "metadata": {},
     "output_type": "execute_result"
    }
   ],
   "source": [
    "fruits[-1]"
   ]
  },
  {
   "cell_type": "markdown",
   "id": "607679f3",
   "metadata": {},
   "source": [
    "## 인덱스 슬라이싱 \n",
    "- a\\[시작번호:종료번호\\]  시작번호 \\<= a \\< 종료 번호, 종료번호 요소는 포함되지 않는다.\n",
    "- a\\[시작번호:\\]  시작번호부터 끝까지\n",
    "- a\\[:종료번호\\] 종료 번호 미만 모두 "
   ]
  },
  {
   "cell_type": "code",
   "execution_count": null,
   "id": "a10751fa",
   "metadata": {},
   "outputs": [],
   "source": []
  }
 ],
 "metadata": {
  "kernelspec": {
   "display_name": "basic",
   "language": "python",
   "name": "python3"
  },
  "language_info": {
   "codemirror_mode": {
    "name": "ipython",
    "version": 3
   },
   "file_extension": ".py",
   "mimetype": "text/x-python",
   "name": "python",
   "nbconvert_exporter": "python",
   "pygments_lexer": "ipython3",
   "version": "3.12.10"
  }
 },
 "nbformat": 4,
 "nbformat_minor": 5
}
