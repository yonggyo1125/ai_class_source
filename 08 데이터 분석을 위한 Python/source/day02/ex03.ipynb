{
 "cells": [
  {
   "cell_type": "markdown",
   "id": "c80b6e15",
   "metadata": {},
   "source": [
    "## 딕셔너리 자료형\n",
    "- 딕셔너리란? 키, 값의 쌍 \n",
    "\t\n",
    "- 딕셔너리는 어떻게 만들까?\n",
    "```python\n",
    "\t변수 = { 키: 값, 키: 값, ... }\n",
    "\t변수 = dict({키: 값, 키: 값, ...})\n",
    "\t변수['키']\n",
    "``` "
   ]
  },
  {
   "cell_type": "code",
   "execution_count": 7,
   "id": "aaf4a089",
   "metadata": {},
   "outputs": [],
   "source": [
    "# person = {'name': '이이름', 'age': 40}\n",
    "person = dict({'name': '이이름', 'age': 40})"
   ]
  },
  {
   "cell_type": "code",
   "execution_count": 2,
   "id": "f6518b53",
   "metadata": {},
   "outputs": [
    {
     "name": "stdout",
     "output_type": "stream",
     "text": [
      "이이름 40\n"
     ]
    }
   ],
   "source": [
    "print(person['name'], person['age'])"
   ]
  },
  {
   "cell_type": "markdown",
   "id": "f50ada99",
   "metadata": {},
   "source": [
    "## 추가, 수정, 삭제 \n",
    "- 추가 : 없는 키 값에 추가하면 추가 \n",
    "- 수정 : 동일한 키 값에 추가하면 수정 \n",
    "- 삭제 : del 연산자"
   ]
  },
  {
   "cell_type": "code",
   "execution_count": 3,
   "id": "773e8db5",
   "metadata": {},
   "outputs": [
    {
     "data": {
      "text/plain": [
       "{'name': '이이름', 'age': 40, 'address': '주소'}"
      ]
     },
     "execution_count": 3,
     "metadata": {},
     "output_type": "execute_result"
    }
   ],
   "source": [
    "person['address'] = '주소'\n",
    "person"
   ]
  },
  {
   "cell_type": "code",
   "execution_count": 4,
   "id": "eaad9726",
   "metadata": {},
   "outputs": [
    {
     "data": {
      "text/plain": [
       "{'name': '이이름', 'age': 40, 'address': '(수정)주소'}"
      ]
     },
     "execution_count": 4,
     "metadata": {},
     "output_type": "execute_result"
    }
   ],
   "source": [
    "person['address'] = '(수정)주소'\n",
    "person"
   ]
  },
  {
   "cell_type": "code",
   "execution_count": 5,
   "id": "aabe4d8a",
   "metadata": {},
   "outputs": [
    {
     "data": {
      "text/plain": [
       "{'name': '이이름', 'age': 40}"
      ]
     },
     "execution_count": 5,
     "metadata": {},
     "output_type": "execute_result"
    }
   ],
   "source": [
    "del person['address']\n",
    "person"
   ]
  },
  {
   "cell_type": "markdown",
   "id": "c8693240",
   "metadata": {},
   "source": [
    "### 조회\n",
    "    - 변수명\\['키'\\]\n",
    "        - '키' 조회한 값이 존재하지 않으면 KeyError 발생\n",
    "    - 변수명.get('키')\n",
    "        - '키' 조회한 값이 없으면 None\n",
    "        - 값이 없을때 대체할 수 있는 기본값 설정 \n",
    "            - 변수명.get('키', '기본값')\n",
    "            \n",
    "> 참고 : None은 자바와 비교하면 null과 비슷"
   ]
  },
  {
   "cell_type": "code",
   "execution_count": 8,
   "id": "b9034edb",
   "metadata": {},
   "outputs": [
    {
     "ename": "KeyError",
     "evalue": "'address'",
     "output_type": "error",
     "traceback": [
      "\u001b[31m---------------------------------------------------------------------------\u001b[39m",
      "\u001b[31mKeyError\u001b[39m                                  Traceback (most recent call last)",
      "\u001b[36mCell\u001b[39m\u001b[36m \u001b[39m\u001b[32mIn[8]\u001b[39m\u001b[32m, line 1\u001b[39m\n\u001b[32m----> \u001b[39m\u001b[32m1\u001b[39m \u001b[43mperson\u001b[49m\u001b[43m[\u001b[49m\u001b[33;43m'\u001b[39;49m\u001b[33;43maddress\u001b[39;49m\u001b[33;43m'\u001b[39;49m\u001b[43m]\u001b[49m\n",
      "\u001b[31mKeyError\u001b[39m: 'address'"
     ]
    }
   ],
   "source": [
    "person['address']"
   ]
  },
  {
   "cell_type": "code",
   "execution_count": null,
   "id": "110db12c",
   "metadata": {},
   "outputs": [],
   "source": [
    "value = person.get('address')\n",
    "value # None "
   ]
  },
  {
   "cell_type": "code",
   "execution_count": 11,
   "id": "59e0cffc",
   "metadata": {},
   "outputs": [
    {
     "data": {
      "text/plain": [
       "'기본주소'"
      ]
     },
     "execution_count": 11,
     "metadata": {},
     "output_type": "execute_result"
    }
   ],
   "source": [
    "value = person.get('address', '기본주소')\n",
    "value"
   ]
  },
  {
   "cell_type": "code",
   "execution_count": null,
   "id": "ab92da4e",
   "metadata": {},
   "outputs": [],
   "source": []
  }
 ],
 "metadata": {
  "kernelspec": {
   "display_name": "basic",
   "language": "python",
   "name": "python3"
  },
  "language_info": {
   "codemirror_mode": {
    "name": "ipython",
    "version": 3
   },
   "file_extension": ".py",
   "mimetype": "text/x-python",
   "name": "python",
   "nbconvert_exporter": "python",
   "pygments_lexer": "ipython3",
   "version": "3.12.10"
  }
 },
 "nbformat": 4,
 "nbformat_minor": 5
}
