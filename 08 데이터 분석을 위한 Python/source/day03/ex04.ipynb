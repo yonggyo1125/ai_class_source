{
 "cells": [
  {
   "cell_type": "markdown",
   "id": "f839062a",
   "metadata": {},
   "source": [
    "# 사용자의 입력\n",
    "```\n",
    "input()\n",
    "input(\"안내문구\")\n",
    "```\n",
    "- 입력한 값은 모두 문자열 \n",
    "```python\n",
    "int(..) : 문자열 정수, 실수 -> 정수\n",
    "float(..) : 문자열 실수 -> 실수\n",
    "str(..) : 문자열이 아닌 값을 문자열로 변환\n",
    "```"
   ]
  },
  {
   "cell_type": "code",
   "execution_count": 1,
   "id": "5b3df303",
   "metadata": {},
   "outputs": [
    {
     "data": {
      "text/plain": [
       "'안녕하세요'"
      ]
     },
     "execution_count": 1,
     "metadata": {},
     "output_type": "execute_result"
    }
   ],
   "source": [
    "a = input()\n",
    "a"
   ]
  },
  {
   "cell_type": "code",
   "execution_count": 5,
   "id": "bff3adeb",
   "metadata": {},
   "outputs": [
    {
     "data": {
      "text/plain": [
       "300"
      ]
     },
     "execution_count": 5,
     "metadata": {},
     "output_type": "execute_result"
    }
   ],
   "source": [
    "num1 = input(\"수1 입력:\")\n",
    "num2 = input(\"수2 입력:\")\n",
    "result = int(num1) + int(num2)\n",
    "result"
   ]
  },
  {
   "cell_type": "markdown",
   "id": "06326b27",
   "metadata": {},
   "source": [
    "## print 함수 \n",
    "- 여러개의 값을 출력하는 경우 \n",
    "```python\n",
    "print(\"여러분\" \"안녕하세요.\" '반갑습니다.')\n",
    "print(\"여러분\"+\"안녕하세요.\"+'반갑습니다.')\n",
    "```\n",
    "```\n",
    "- 콤마(,)로 값을 구분하는 경우 -> 한칸 공백이 추가\n",
    "- end 변수 -> 기본값 \\n : 출력시 줄개행 "
   ]
  },
  {
   "cell_type": "code",
   "execution_count": 7,
   "id": "35e10cc8",
   "metadata": {},
   "outputs": [
    {
     "name": "stdout",
     "output_type": "stream",
     "text": [
      "여러분안녕하세요.반갑습니다.\n",
      "여러분안녕하세요.반갑습니다.\n"
     ]
    }
   ],
   "source": [
    "print(\"여러분\" \"안녕하세요.\" '반갑습니다.')\n",
    "print(\"여러분\"+\"안녕하세요.\"+'반갑습니다.')"
   ]
  },
  {
   "cell_type": "code",
   "execution_count": 8,
   "id": "40b163dc",
   "metadata": {},
   "outputs": [
    {
     "name": "stdout",
     "output_type": "stream",
     "text": [
      "여러분 안녕하세요. 반갑습니다.\n"
     ]
    }
   ],
   "source": [
    "print(\"여러분\", \"안녕하세요.\", \"반갑습니다.\")"
   ]
  },
  {
   "cell_type": "code",
   "execution_count": 10,
   "id": "5572cfdf",
   "metadata": {},
   "outputs": [
    {
     "name": "stdout",
     "output_type": "stream",
     "text": [
      "100+200=300\n"
     ]
    }
   ],
   "source": [
    "print(\"100\", end=\"\")\n",
    "print(\"+\", end=\"\")\n",
    "print(\"200\", end=\"\")\n",
    "print(\"=\", end=\"\")\n",
    "print(\"300\")"
   ]
  },
  {
   "cell_type": "code",
   "execution_count": null,
   "id": "aae678d6",
   "metadata": {},
   "outputs": [],
   "source": []
  }
 ],
 "metadata": {
  "kernelspec": {
   "display_name": "basic",
   "language": "python",
   "name": "python3"
  },
  "language_info": {
   "codemirror_mode": {
    "name": "ipython",
    "version": 3
   },
   "file_extension": ".py",
   "mimetype": "text/x-python",
   "name": "python",
   "nbconvert_exporter": "python",
   "pygments_lexer": "ipython3",
   "version": "3.12.10"
  }
 },
 "nbformat": 4,
 "nbformat_minor": 5
}
