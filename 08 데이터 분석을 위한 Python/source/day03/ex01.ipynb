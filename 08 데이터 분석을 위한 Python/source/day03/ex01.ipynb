{
 "cells": [
  {
   "cell_type": "markdown",
   "id": "6099ad99",
   "metadata": {},
   "source": [
    "## if문의 구조 \n",
    "```python\n",
    "if 조건식:\n",
    "    참일때 실행될 코드\n",
    "\n",
    "if 조건식:\n",
    "    참일때 실행될 코드\n",
    "else:\n",
    "    거짓일때 실행될 코드\n",
    "\n",
    "if 조건식1:\n",
    "    조건식1 참일때 실행될 코드\n",
    "elif 조건식2: \n",
    "    조건식1이 거짓, 조건식2가 참 \n",
    "...\n",
    "else:\n",
    "    거짓일때 실행될 코드\n",
    "\n",
    "\n",
    "if 조건식: 실행코드\n",
    "```"
   ]
  },
  {
   "cell_type": "code",
   "execution_count": 3,
   "id": "fe8f5e18",
   "metadata": {},
   "outputs": [
    {
     "name": "stdout",
     "output_type": "stream",
     "text": [
      "가입 불가\n"
     ]
    }
   ],
   "source": [
    "age = 13\n",
    "if age >= 14:\n",
    "    pass # 아무것도 하지 않음 \n",
    "else:\n",
    "    print(\"가입 불가\")"
   ]
  },
  {
   "cell_type": "code",
   "execution_count": 9,
   "id": "f4c78612",
   "metadata": {},
   "outputs": [
    {
     "name": "stdout",
     "output_type": "stream",
     "text": [
      "가입 불가\n"
     ]
    }
   ],
   "source": [
    "if not (age >= 14):\n",
    "    print(\"가입 불가\")"
   ]
  },
  {
   "cell_type": "code",
   "execution_count": 4,
   "id": "aaf058e7",
   "metadata": {},
   "outputs": [
    {
     "name": "stdout",
     "output_type": "stream",
     "text": [
      "가입불가\n"
     ]
    }
   ],
   "source": [
    "if age >= 14: pass\n",
    "else: print(\"가입불가\")"
   ]
  },
  {
   "cell_type": "markdown",
   "id": "e39b2931",
   "metadata": {},
   "source": [
    "## 비교 연산자\n",
    "\n",
    "```python\n",
    "x == y\t: 동등성 비교\n",
    "x is y : 동일성 비교(주소 비교)\n",
    "```"
   ]
  },
  {
   "cell_type": "code",
   "execution_count": 5,
   "id": "9913c2f4",
   "metadata": {},
   "outputs": [],
   "source": [
    "a = [1, 2, 3]\n",
    "b = [1, 2, 3]"
   ]
  },
  {
   "cell_type": "code",
   "execution_count": null,
   "id": "116bee63",
   "metadata": {},
   "outputs": [
    {
     "data": {
      "text/plain": [
       "True"
      ]
     },
     "execution_count": 6,
     "metadata": {},
     "output_type": "execute_result"
    }
   ],
   "source": [
    "a == b # 동등성 비교"
   ]
  },
  {
   "cell_type": "code",
   "execution_count": null,
   "id": "5ae68c5f",
   "metadata": {},
   "outputs": [
    {
     "data": {
      "text/plain": [
       "False"
      ]
     },
     "execution_count": 7,
     "metadata": {},
     "output_type": "execute_result"
    }
   ],
   "source": [
    "a is b # 동일성 비교(주소)"
   ]
  },
  {
   "cell_type": "code",
   "execution_count": 8,
   "id": "9c0fdfd0",
   "metadata": {},
   "outputs": [
    {
     "data": {
      "text/plain": [
       "False"
      ]
     },
     "execution_count": 8,
     "metadata": {},
     "output_type": "execute_result"
    }
   ],
   "source": [
    "age >= 14 and age < 20"
   ]
  },
  {
   "cell_type": "markdown",
   "id": "f601e78b",
   "metadata": {},
   "source": [
    "### in, not in\n",
    "- 문자열, 리스트, 튜플 등에서 주로 사용\n",
    "- 값이 포함되어 있는지, 포함되어 있지 않은지"
   ]
  },
  {
   "cell_type": "code",
   "execution_count": 10,
   "id": "033b15ff",
   "metadata": {},
   "outputs": [
    {
     "data": {
      "text/plain": [
       "True"
      ]
     },
     "execution_count": 10,
     "metadata": {},
     "output_type": "execute_result"
    }
   ],
   "source": [
    "'A' in 'ABC'"
   ]
  },
  {
   "cell_type": "code",
   "execution_count": 11,
   "id": "70b04af7",
   "metadata": {},
   "outputs": [],
   "source": [
    "fruits = ['사과', '오렌지', '멜론']"
   ]
  },
  {
   "cell_type": "code",
   "execution_count": 12,
   "id": "2f07012f",
   "metadata": {},
   "outputs": [
    {
     "data": {
      "text/plain": [
       "True"
      ]
     },
     "execution_count": 12,
     "metadata": {},
     "output_type": "execute_result"
    }
   ],
   "source": [
    "'멜론' in fruits"
   ]
  },
  {
   "cell_type": "code",
   "execution_count": 13,
   "id": "d823f068",
   "metadata": {},
   "outputs": [
    {
     "data": {
      "text/plain": [
       "True"
      ]
     },
     "execution_count": 13,
     "metadata": {},
     "output_type": "execute_result"
    }
   ],
   "source": [
    "'망고' not in fruits"
   ]
  },
  {
   "cell_type": "markdown",
   "id": "f28bf99e",
   "metadata": {},
   "source": [
    "### 조건부 표현식\n",
    "```python\n",
    "변수 = 참일 경우의 값 if 조건식 else 조건식이 거짓일때 의 값\n",
    "```"
   ]
  },
  {
   "cell_type": "code",
   "execution_count": 14,
   "id": "a75f97b9",
   "metadata": {},
   "outputs": [
    {
     "data": {
      "text/plain": [
       "'가입 불가'"
      ]
     },
     "execution_count": 14,
     "metadata": {},
     "output_type": "execute_result"
    }
   ],
   "source": [
    "message = '가입 가능' if age >= 14 else '가입 불가'\n",
    "message"
   ]
  },
  {
   "cell_type": "code",
   "execution_count": null,
   "id": "5ac90c63",
   "metadata": {},
   "outputs": [],
   "source": []
  }
 ],
 "metadata": {
  "kernelspec": {
   "display_name": "basic",
   "language": "python",
   "name": "python3"
  },
  "language_info": {
   "codemirror_mode": {
    "name": "ipython",
    "version": 3
   },
   "file_extension": ".py",
   "mimetype": "text/x-python",
   "name": "python",
   "nbconvert_exporter": "python",
   "pygments_lexer": "ipython3",
   "version": "3.12.10"
  }
 },
 "nbformat": 4,
 "nbformat_minor": 5
}
