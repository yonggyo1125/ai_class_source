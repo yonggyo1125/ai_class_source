{
 "cells": [
  {
   "cell_type": "markdown",
   "id": "173cc2c6",
   "metadata": {},
   "source": [
    "## 파이썬 함수의 구조\n",
    "\n",
    "```python\n",
    "def 함수명(매개변수 정의):\n",
    "\t수행될 코드...\n",
    "```"
   ]
  },
  {
   "cell_type": "code",
   "execution_count": 1,
   "id": "288903d3",
   "metadata": {},
   "outputs": [],
   "source": [
    "def add(num1, num2):\n",
    "    return num1 + num2"
   ]
  },
  {
   "cell_type": "code",
   "execution_count": 2,
   "id": "51ee33e0",
   "metadata": {},
   "outputs": [
    {
     "data": {
      "text/plain": [
       "30"
      ]
     },
     "execution_count": 2,
     "metadata": {},
     "output_type": "execute_result"
    }
   ],
   "source": [
    "result = add(10, 20)\n",
    "result"
   ]
  },
  {
   "cell_type": "code",
   "execution_count": 3,
   "id": "9187e13a",
   "metadata": {},
   "outputs": [
    {
     "data": {
      "text/plain": [
       "30"
      ]
     },
     "execution_count": 3,
     "metadata": {},
     "output_type": "execute_result"
    }
   ],
   "source": [
    "add(num2=20, num1=10)"
   ]
  },
  {
   "cell_type": "markdown",
   "id": "051720ec",
   "metadata": {},
   "source": [
    "## 함수의 매개변수 기본값 \n",
    "```python\n",
    "def add(num1, num2 = 10):\n",
    "    return num1 + num2\n",
    "```\n",
    "\n",
    "> 매개변수의 기본값은 끝에서부터 차례대로 설정"
   ]
  },
  {
   "cell_type": "code",
   "execution_count": 5,
   "id": "1bafade0",
   "metadata": {},
   "outputs": [],
   "source": [
    "def add(num1, num2 = 10):\n",
    "    return num1 + num2"
   ]
  },
  {
   "cell_type": "code",
   "execution_count": 6,
   "id": "23919b6a",
   "metadata": {},
   "outputs": [
    {
     "data": {
      "text/plain": [
       "30"
      ]
     },
     "execution_count": 6,
     "metadata": {},
     "output_type": "execute_result"
    }
   ],
   "source": [
    "add(20)"
   ]
  },
  {
   "cell_type": "markdown",
   "id": "0f8637e6",
   "metadata": {},
   "source": [
    "## 가변 매개변수 \n",
    "- 매개변수에 *를 붙인다. \n",
    "    - 입력한 값은 튜플로 담긴다.\n",
    "- 키워드 가변 매개변수 \n",
    "    - 매개변수에 **를 붙인다.\n",
    "    - 딕셔너리 형태로 값이 담긴다."
   ]
  },
  {
   "cell_type": "code",
   "execution_count": 11,
   "id": "9ac3bc49",
   "metadata": {},
   "outputs": [],
   "source": [
    "def calc(oper, *args):\n",
    "    result = 0\n",
    "    if oper == 'add':\n",
    "        for num in args: result += num\n",
    "    elif oper == 'mul':\n",
    "        result = 1\n",
    "        for num in args: result *= num\n",
    "\n",
    "    return result  "
   ]
  },
  {
   "cell_type": "code",
   "execution_count": 12,
   "id": "5d70d66d",
   "metadata": {},
   "outputs": [
    {
     "data": {
      "text/plain": [
       "100"
      ]
     },
     "execution_count": 12,
     "metadata": {},
     "output_type": "execute_result"
    }
   ],
   "source": [
    "calc(\"add\", 10, 20, 30, 40)"
   ]
  },
  {
   "cell_type": "code",
   "execution_count": 13,
   "id": "2dfd1d26",
   "metadata": {},
   "outputs": [
    {
     "data": {
      "text/plain": [
       "240000"
      ]
     },
     "execution_count": 13,
     "metadata": {},
     "output_type": "execute_result"
    }
   ],
   "source": [
    "calc(\"mul\", 10, 20, 30, 40)"
   ]
  },
  {
   "cell_type": "code",
   "execution_count": 14,
   "id": "6f2f907a",
   "metadata": {},
   "outputs": [],
   "source": [
    "# 파이썬 함수 이름 또는 변수의 이름을 짓는 경우 snake case 형태로 사용 단어와 단어 사이 _로 붙인다.\n",
    "def print_value(**kwargs):\n",
    "    print(kwargs)"
   ]
  },
  {
   "cell_type": "code",
   "execution_count": 15,
   "id": "aedc96cd",
   "metadata": {},
   "outputs": [
    {
     "name": "stdout",
     "output_type": "stream",
     "text": [
      "{'name': '이이름', 'age': 40}\n"
     ]
    }
   ],
   "source": [
    "print_value(name='이이름', age=40)"
   ]
  },
  {
   "cell_type": "code",
   "execution_count": 16,
   "id": "4c072286",
   "metadata": {},
   "outputs": [
    {
     "ename": "TypeError",
     "evalue": "print_value() takes 0 positional arguments but 3 were given",
     "output_type": "error",
     "traceback": [
      "\u001b[31m---------------------------------------------------------------------------\u001b[39m",
      "\u001b[31mTypeError\u001b[39m                                 Traceback (most recent call last)",
      "\u001b[36mCell\u001b[39m\u001b[36m \u001b[39m\u001b[32mIn[16]\u001b[39m\u001b[32m, line 1\u001b[39m\n\u001b[32m----> \u001b[39m\u001b[32m1\u001b[39m \u001b[43mprint_value\u001b[49m\u001b[43m(\u001b[49m\u001b[32;43m10\u001b[39;49m\u001b[43m,\u001b[49m\u001b[43m \u001b[49m\u001b[32;43m20\u001b[39;49m\u001b[43m,\u001b[49m\u001b[43m \u001b[49m\u001b[32;43m30\u001b[39;49m\u001b[43m,\u001b[49m\u001b[43m \u001b[49m\u001b[43mname\u001b[49m\u001b[43m=\u001b[49m\u001b[33;43m'\u001b[39;49m\u001b[33;43m이이름\u001b[39;49m\u001b[33;43m'\u001b[39;49m\u001b[43m,\u001b[49m\u001b[43m \u001b[49m\u001b[43mage\u001b[49m\u001b[43m=\u001b[49m\u001b[32;43m40\u001b[39;49m\u001b[43m)\u001b[49m\n",
      "\u001b[31mTypeError\u001b[39m: print_value() takes 0 positional arguments but 3 were given"
     ]
    }
   ],
   "source": [
    "print_value(10, 20, 30, name='이이름', age=40)"
   ]
  },
  {
   "cell_type": "code",
   "execution_count": 17,
   "id": "23057b2d",
   "metadata": {},
   "outputs": [],
   "source": [
    "def print_value(*args, **kwargs):\n",
    "    print(\"args\", args)\n",
    "    print(\"kwargs\", kwargs)"
   ]
  },
  {
   "cell_type": "code",
   "execution_count": 18,
   "id": "c8da3d11",
   "metadata": {},
   "outputs": [
    {
     "name": "stdout",
     "output_type": "stream",
     "text": [
      "args (10, 20, 30)\n",
      "kwargs {'name': '이이름', 'age': 40}\n"
     ]
    }
   ],
   "source": [
    "print_value(10, 20, 30, name='이이름', age=40)"
   ]
  },
  {
   "cell_type": "code",
   "execution_count": 20,
   "id": "aef828ce",
   "metadata": {},
   "outputs": [],
   "source": [
    "def calc(num1, num2):\n",
    "    return num1 + num2, num1 - num2, num1 * num2, num1 / num2"
   ]
  },
  {
   "cell_type": "code",
   "execution_count": 21,
   "id": "9e20a38d",
   "metadata": {},
   "outputs": [
    {
     "data": {
      "text/plain": [
       "(30, 10, 200, 2.0)"
      ]
     },
     "execution_count": 21,
     "metadata": {},
     "output_type": "execute_result"
    }
   ],
   "source": [
    "result = calc(20, 10)\n",
    "result"
   ]
  },
  {
   "cell_type": "code",
   "execution_count": 22,
   "id": "e3d135af",
   "metadata": {},
   "outputs": [
    {
     "name": "stdout",
     "output_type": "stream",
     "text": [
      "30 10 200 2.0\n"
     ]
    }
   ],
   "source": [
    "add_result, sub_result, mul_result, div_result = calc(20, 10)\n",
    "print(add_result, sub_result, mul_result, div_result)"
   ]
  },
  {
   "cell_type": "markdown",
   "id": "1461f259",
   "metadata": {},
   "source": [
    "## 전역 변수, 지역변수\n",
    "\n",
    "> 순수함수 : 함수 내의 연산 결과가 전역 변수로 지정된 자원에 영향을 미치지 않는 함수 (부작용이 없는 함수)"
   ]
  },
  {
   "cell_type": "code",
   "execution_count": 25,
   "id": "28d1deac",
   "metadata": {},
   "outputs": [],
   "source": [
    "a = 100 # 전역변수\n",
    "def calc():\n",
    "    global a # 전역변수를 지역내에서 접근할때 \n",
    "    \n",
    "    b = 200 # 지역변수\n",
    "    return a + b"
   ]
  },
  {
   "cell_type": "code",
   "execution_count": 26,
   "id": "b5f23699",
   "metadata": {},
   "outputs": [
    {
     "data": {
      "text/plain": [
       "300"
      ]
     },
     "execution_count": 26,
     "metadata": {},
     "output_type": "execute_result"
    }
   ],
   "source": [
    "calc()"
   ]
  },
  {
   "cell_type": "markdown",
   "id": "1fbbf8e7",
   "metadata": {},
   "source": [
    "## 함수형 프로그래밍 \n",
    "- 매개변수로 함수를 사용 \n",
    "    - 사용자 정의 기능 \n",
    "- 반환값으로 함수를 사용\n",
    "\t- 팩토리 함수\n",
    "\t- 고차 함수\n",
    "\n",
    "- 람다식\n",
    "```python\n",
    "lambda 매개변수 정의: 실행될 내용\n",
    "```"
   ]
  },
  {
   "cell_type": "code",
   "execution_count": 30,
   "id": "817d83d0",
   "metadata": {},
   "outputs": [],
   "source": [
    "def calc(callback):\n",
    "    num1 = 10\n",
    "    num2 = 20\n",
    "    result = callback(num1, num2)\n",
    "\n",
    "    return result * result"
   ]
  },
  {
   "cell_type": "code",
   "execution_count": 31,
   "id": "b5403d2a",
   "metadata": {},
   "outputs": [],
   "source": [
    "def add(num1, num2):\n",
    "    return num1 + num2"
   ]
  },
  {
   "cell_type": "code",
   "execution_count": 32,
   "id": "09e24250",
   "metadata": {},
   "outputs": [
    {
     "data": {
      "text/plain": [
       "900"
      ]
     },
     "execution_count": 32,
     "metadata": {},
     "output_type": "execute_result"
    }
   ],
   "source": [
    "calc(add)"
   ]
  },
  {
   "cell_type": "code",
   "execution_count": 33,
   "id": "33c06dcb",
   "metadata": {},
   "outputs": [],
   "source": [
    "def sub(num1, num2):\n",
    "    return num1 - num2"
   ]
  },
  {
   "cell_type": "code",
   "execution_count": 34,
   "id": "17f28eff",
   "metadata": {},
   "outputs": [
    {
     "data": {
      "text/plain": [
       "100"
      ]
     },
     "execution_count": 34,
     "metadata": {},
     "output_type": "execute_result"
    }
   ],
   "source": [
    "calc(sub)"
   ]
  },
  {
   "cell_type": "code",
   "execution_count": 35,
   "id": "b4811ac2",
   "metadata": {},
   "outputs": [],
   "source": [
    "add = lambda a, b: a + b"
   ]
  },
  {
   "cell_type": "code",
   "execution_count": 36,
   "id": "fcc5aa8c",
   "metadata": {},
   "outputs": [
    {
     "data": {
      "text/plain": [
       "30"
      ]
     },
     "execution_count": 36,
     "metadata": {},
     "output_type": "execute_result"
    }
   ],
   "source": [
    "add(10, 20)"
   ]
  },
  {
   "cell_type": "code",
   "execution_count": 37,
   "id": "686b32ec",
   "metadata": {},
   "outputs": [
    {
     "data": {
      "text/plain": [
       "40000"
      ]
     },
     "execution_count": 37,
     "metadata": {},
     "output_type": "execute_result"
    }
   ],
   "source": [
    "calc(lambda a, b: a * b)"
   ]
  },
  {
   "cell_type": "code",
   "execution_count": null,
   "id": "3d50f494",
   "metadata": {},
   "outputs": [],
   "source": []
  }
 ],
 "metadata": {
  "kernelspec": {
   "display_name": "basic",
   "language": "python",
   "name": "python3"
  },
  "language_info": {
   "codemirror_mode": {
    "name": "ipython",
    "version": 3
   },
   "file_extension": ".py",
   "mimetype": "text/x-python",
   "name": "python",
   "nbconvert_exporter": "python",
   "pygments_lexer": "ipython3",
   "version": "3.12.10"
  }
 },
 "nbformat": 4,
 "nbformat_minor": 5
}
