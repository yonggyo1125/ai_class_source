{
 "cells": [
  {
   "cell_type": "markdown",
   "id": "e7f3b481",
   "metadata": {},
   "source": [
    "## 모듈\n",
    "- 모듈이란?\n",
    "1) 모듈이란 함수나 변수 또는 클래스를 모아 놓은 파이썬 파일이다.\n",
    "2) 모듈은 다른 파이썬 프로그램에서 불러와 사용할 수 있도록 만든 파이썬 파일이라고도 할 수 있다.\n",
    "\n",
    "- 모듈 만들기\n",
    "- 모듈 불러오기"
   ]
  }
 ],
 "metadata": {
  "kernelspec": {
   "display_name": "basic",
   "language": "python",
   "name": "python3"
  },
  "language_info": {
   "name": "python",
   "version": "3.12.10"
  }
 },
 "nbformat": 4,
 "nbformat_minor": 5
}
