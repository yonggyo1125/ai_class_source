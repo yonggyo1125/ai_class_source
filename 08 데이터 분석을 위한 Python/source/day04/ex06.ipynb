{
 "cells": [
  {
   "cell_type": "markdown",
   "id": "4b689c21",
   "metadata": {},
   "source": [
    "## 클래스 \n",
    "```python\n",
    "class ...\n",
    "    def __call__(self, 매개변수 ...):\n",
    "        ...\n",
    "```\n",
    "- 객체 참조 변수를 함수처럼 호출하면 `__call__` 함수가 호출"
   ]
  },
  {
   "cell_type": "code",
   "execution_count": 1,
   "id": "4bc2a3f3",
   "metadata": {},
   "outputs": [],
   "source": [
    "class Accumulator:\n",
    "    def __init__(self):\n",
    "        self.num = 0\n",
    "    \n",
    "    def __call__(self, num):\n",
    "        self.num += num\n",
    "        \n",
    "        return self.num"
   ]
  },
  {
   "cell_type": "code",
   "execution_count": 2,
   "id": "98354291",
   "metadata": {},
   "outputs": [],
   "source": [
    "acc = Accumulator()"
   ]
  },
  {
   "cell_type": "code",
   "execution_count": 3,
   "id": "ea5f4501",
   "metadata": {},
   "outputs": [
    {
     "data": {
      "text/plain": [
       "10"
      ]
     },
     "execution_count": 3,
     "metadata": {},
     "output_type": "execute_result"
    }
   ],
   "source": [
    "acc(10)"
   ]
  },
  {
   "cell_type": "code",
   "execution_count": 4,
   "id": "2bdddb37",
   "metadata": {},
   "outputs": [
    {
     "data": {
      "text/plain": [
       "110"
      ]
     },
     "execution_count": 4,
     "metadata": {},
     "output_type": "execute_result"
    }
   ],
   "source": [
    "acc(100)"
   ]
  },
  {
   "cell_type": "code",
   "execution_count": null,
   "id": "c134c0d3",
   "metadata": {},
   "outputs": [],
   "source": []
  }
 ],
 "metadata": {
  "kernelspec": {
   "display_name": "basic",
   "language": "python",
   "name": "python3"
  },
  "language_info": {
   "codemirror_mode": {
    "name": "ipython",
    "version": 3
   },
   "file_extension": ".py",
   "mimetype": "text/x-python",
   "name": "python",
   "nbconvert_exporter": "python",
   "pygments_lexer": "ipython3",
   "version": "3.12.10"
  }
 },
 "nbformat": 4,
 "nbformat_minor": 5
}
