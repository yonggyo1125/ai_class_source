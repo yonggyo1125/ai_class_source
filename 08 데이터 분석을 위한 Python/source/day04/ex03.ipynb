{
 "cells": [
  {
   "cell_type": "markdown",
   "id": "f4d2ce8b",
   "metadata": {},
   "source": [
    "## 클래스 \n",
    "- 객체 생성시 new 연산자는 사용 X\n",
    "- 클래스명\\(\\) 호출하면 객체가 생성 \n",
    "- 메서드의 첫번째 매개변수 : 생성된 객체의 주소값을 가지는 지역변수\n",
    "    - 자바의 this와 동일한 역할 "
   ]
  },
  {
   "cell_type": "code",
   "execution_count": 9,
   "id": "8bd8f4d7",
   "metadata": {},
   "outputs": [],
   "source": [
    "class Calculator:\n",
    "    def add(self):\n",
    "        return self.a + self.b"
   ]
  },
  {
   "cell_type": "code",
   "execution_count": 11,
   "id": "c21735a3",
   "metadata": {},
   "outputs": [],
   "source": [
    "cal1 = Calculator()"
   ]
  },
  {
   "cell_type": "code",
   "execution_count": 12,
   "id": "d999127c",
   "metadata": {},
   "outputs": [
    {
     "data": {
      "text/plain": [
       "300"
      ]
     },
     "execution_count": 12,
     "metadata": {},
     "output_type": "execute_result"
    }
   ],
   "source": [
    "cal1.a = 100\n",
    "cal1.b = 200\n",
    "\n",
    "cal1.add()"
   ]
  },
  {
   "cell_type": "code",
   "execution_count": null,
   "id": "de7c012e",
   "metadata": {},
   "outputs": [],
   "source": []
  },
  {
   "cell_type": "code",
   "execution_count": 2,
   "id": "d86053bf",
   "metadata": {},
   "outputs": [],
   "source": [
    "cal1 = Calculator() # 객체 생성 "
   ]
  },
  {
   "cell_type": "code",
   "execution_count": 3,
   "id": "ae85e800",
   "metadata": {},
   "outputs": [],
   "source": [
    "cal2 = Calculator()"
   ]
  },
  {
   "cell_type": "code",
   "execution_count": 5,
   "id": "d6b031f0",
   "metadata": {},
   "outputs": [
    {
     "name": "stdout",
     "output_type": "stream",
     "text": [
      "cal1: 2949209830224 cal2: 2949209818128\n"
     ]
    }
   ],
   "source": [
    "cal1 is cal2\n",
    "print(\"cal1:\", id(cal1), \"cal2:\", id(cal2))"
   ]
  },
  {
   "cell_type": "code",
   "execution_count": null,
   "id": "cae116f1",
   "metadata": {},
   "outputs": [],
   "source": []
  }
 ],
 "metadata": {
  "kernelspec": {
   "display_name": "basic",
   "language": "python",
   "name": "python3"
  },
  "language_info": {
   "codemirror_mode": {
    "name": "ipython",
    "version": 3
   },
   "file_extension": ".py",
   "mimetype": "text/x-python",
   "name": "python",
   "nbconvert_exporter": "python",
   "pygments_lexer": "ipython3",
   "version": "3.12.10"
  }
 },
 "nbformat": 4,
 "nbformat_minor": 5
}
