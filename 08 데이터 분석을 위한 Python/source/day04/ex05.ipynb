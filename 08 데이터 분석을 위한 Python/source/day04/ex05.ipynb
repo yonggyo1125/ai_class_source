{
 "cells": [
  {
   "cell_type": "markdown",
   "id": "35d84556",
   "metadata": {},
   "source": [
    "## 클래스 \n",
    "```python \n",
    "class ... \n",
    "    def __str__(self):\n",
    "        return \"문자열\"\n",
    "```\n",
    "- 객체의 참조 변수를 출력하면 자동 호출되는 메서드 \n",
    "    - 자바의 `toString()`와 동일한 역할"
   ]
  },
  {
   "cell_type": "code",
   "execution_count": 4,
   "id": "9f9489c8",
   "metadata": {},
   "outputs": [],
   "source": [
    "class Calculator:\n",
    "    def __init__(self, a, b):\n",
    "        self.a = a\n",
    "        self.b = b\n",
    "\n",
    "    def add(self):\n",
    "        return self.a + self.b\n",
    "    \n",
    "    def sub(self):\n",
    "        return self.a - self.b\n",
    "\n",
    "    def mul(self):\n",
    "        return self.a * self.b\n",
    "    \n",
    "    def div(self):\n",
    "        return self.a / self.b\n",
    "\n",
    "    def __str__(self):\n",
    "        return f\"a={self.a}, b={self.b}\""
   ]
  },
  {
   "cell_type": "code",
   "execution_count": 5,
   "id": "9cd265a1",
   "metadata": {},
   "outputs": [],
   "source": [
    "cal1 = Calculator(200, 10)"
   ]
  },
  {
   "cell_type": "code",
   "execution_count": 6,
   "id": "3a8f1533",
   "metadata": {},
   "outputs": [
    {
     "name": "stdout",
     "output_type": "stream",
     "text": [
      "a=200, b=10\n"
     ]
    }
   ],
   "source": [
    "print(cal1)"
   ]
  },
  {
   "cell_type": "markdown",
   "id": "3fa1a2c9",
   "metadata": {},
   "source": [
    "## 클래스의 상속 \n",
    "```python\n",
    "class 자식클래스(부모클래스1, 부모클래스2, ...):\n",
    "    ... \n",
    "```\n",
    "\n",
    "- 다중 상속이 가능 \n",
    "- 하위 클래스에서 상위클래스에 정의된 동일한 메서드를 정의해서 기능을 변경하는 것 : 메서드 재정의"
   ]
  },
  {
   "cell_type": "code",
   "execution_count": 16,
   "id": "62b90a39",
   "metadata": {},
   "outputs": [],
   "source": [
    "class MoreCalculator(Calculator):\n",
    "    def div(self): # 메서드 재정의\n",
    "        if self.b == 0: \n",
    "            return 0\n",
    "        \n",
    "        return Calculator.div(self)\n",
    "    "
   ]
  },
  {
   "cell_type": "code",
   "execution_count": 17,
   "id": "66c569d3",
   "metadata": {},
   "outputs": [],
   "source": [
    "# cal1 = MoreCalculator(100, 200)\n",
    "cal1 = MoreCalculator(10, 0)"
   ]
  },
  {
   "cell_type": "code",
   "execution_count": 18,
   "id": "a31d77d6",
   "metadata": {},
   "outputs": [
    {
     "data": {
      "text/plain": [
       "0"
      ]
     },
     "execution_count": 18,
     "metadata": {},
     "output_type": "execute_result"
    }
   ],
   "source": [
    "cal1.div()"
   ]
  }
 ],
 "metadata": {
  "kernelspec": {
   "display_name": "basic",
   "language": "python",
   "name": "python3"
  },
  "language_info": {
   "codemirror_mode": {
    "name": "ipython",
    "version": 3
   },
   "file_extension": ".py",
   "mimetype": "text/x-python",
   "name": "python",
   "nbconvert_exporter": "python",
   "pygments_lexer": "ipython3",
   "version": "3.12.10"
  }
 },
 "nbformat": 4,
 "nbformat_minor": 5
}
