{
 "cells": [
  {
   "cell_type": "markdown",
   "id": "35d84556",
   "metadata": {},
   "source": [
    "## 클래스 \n",
    "```python \n",
    "class ... \n",
    "    def __str__(self):\n",
    "        return \"문자열\"\n",
    "```\n",
    "- 객체의 참조 변수를 출력하면 자동 호출되는 메서드 \n",
    "    - 자바의 `toString()`와 동일한 역할"
   ]
  },
  {
   "cell_type": "code",
   "execution_count": 4,
   "id": "9f9489c8",
   "metadata": {},
   "outputs": [],
   "source": [
    "class Calculator:\n",
    "    def __init__(self, a, b):\n",
    "        self.a = a\n",
    "        self.b = b\n",
    "\n",
    "    def add(self):\n",
    "        return self.a + self.b\n",
    "    \n",
    "    def sub(self):\n",
    "        return self.a - self.b\n",
    "\n",
    "    def mul(self):\n",
    "        return self.a * self.b\n",
    "    \n",
    "    def div(self):\n",
    "        return self.a / self.b\n",
    "\n",
    "    def __str__(self):\n",
    "        return f\"a={self.a}, b={self.b}\""
   ]
  },
  {
   "cell_type": "code",
   "execution_count": 5,
   "id": "9cd265a1",
   "metadata": {},
   "outputs": [],
   "source": [
    "cal1 = Calculator(200, 10)"
   ]
  },
  {
   "cell_type": "code",
   "execution_count": 6,
   "id": "3a8f1533",
   "metadata": {},
   "outputs": [
    {
     "name": "stdout",
     "output_type": "stream",
     "text": [
      "a=200, b=10\n"
     ]
    }
   ],
   "source": [
    "print(cal1)"
   ]
  },
  {
   "cell_type": "markdown",
   "id": "3fa1a2c9",
   "metadata": {},
   "source": [
    "## 클래스의 상속 \n",
    "```python\n",
    "class 자식클래스(부모클래스1, 부모클래스2, ...):\n",
    "    ... \n",
    "```\n",
    "\n",
    "- 다중 상속이 가능 \n"
   ]
  },
  {
   "cell_type": "code",
   "execution_count": null,
   "id": "62b90a39",
   "metadata": {},
   "outputs": [],
   "source": []
  }
 ],
 "metadata": {
  "kernelspec": {
   "display_name": "basic",
   "language": "python",
   "name": "python3"
  },
  "language_info": {
   "codemirror_mode": {
    "name": "ipython",
    "version": 3
   },
   "file_extension": ".py",
   "mimetype": "text/x-python",
   "name": "python",
   "nbconvert_exporter": "python",
   "pygments_lexer": "ipython3",
   "version": "3.12.10"
  }
 },
 "nbformat": 4,
 "nbformat_minor": 5
}
