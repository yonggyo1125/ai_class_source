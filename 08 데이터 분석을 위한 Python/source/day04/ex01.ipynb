{
 "cells": [
  {
   "cell_type": "markdown",
   "id": "6435b8e4",
   "metadata": {},
   "source": [
    "## 파일을 읽고 쓰기 \n",
    "- 파일을 작업하려면 파일을 열어준다\n",
    "```python \n",
    "f = open(\"파일 경로\", \"모드\")\n",
    "```\n",
    "- 모드 \n",
    "    - r : 읽기 \n",
    "    - w : 쓰기\n",
    "    - a : append 약자, 데이터 끝에서 누적 방식으로 추가 \n",
    "    - b : r, w, a와 함께 쓰이며 바이너리 데이터를 작업할때, rb, wb ..\n",
    "\n",
    "- 메모리에 자원 할당하므로 작업 완료 후 해제가 필요하다.\n",
    "```python\n",
    "f.close()\n",
    "```\n",
    "- 파일 작성 \n",
    "```python\n",
    "f.write(\"데이터\")\n",
    "```\n",
    "- 파일 읽기\n",
    "```python\n",
    "f.read() # 데이터 전체 읽기 \n",
    "```"
   ]
  },
  {
   "cell_type": "code",
   "execution_count": null,
   "id": "49e49de7",
   "metadata": {},
   "outputs": [],
   "source": [
    "f = open(\"C:/fileex/test1.txt\", \"w\")\n",
    "f.close() # 자원 해제"
   ]
  },
  {
   "cell_type": "code",
   "execution_count": 5,
   "id": "c9f39a06",
   "metadata": {},
   "outputs": [],
   "source": [
    "f = open(\"C:/fileex/test1.txt\", 'w')\n",
    "for i in range(1, 11): # 1 ~ 10\n",
    "    text = \"%d번째 줄입니다.\\n\" % i\n",
    "    f.write(text)\n",
    "f.close()"
   ]
  },
  {
   "cell_type": "code",
   "execution_count": 6,
   "id": "4bfcb348",
   "metadata": {},
   "outputs": [
    {
     "name": "stdout",
     "output_type": "stream",
     "text": [
      "1번째 줄입니다.\n",
      "2번째 줄입니다.\n",
      "3번째 줄입니다.\n",
      "4번째 줄입니다.\n",
      "5번째 줄입니다.\n",
      "6번째 줄입니다.\n",
      "7번째 줄입니다.\n",
      "8번째 줄입니다.\n",
      "9번째 줄입니다.\n",
      "10번째 줄입니다.\n",
      "\n"
     ]
    }
   ],
   "source": [
    "f = open(\"C:/fileex/test1.txt\", 'r')\n",
    "text = f.read()\n",
    "print(text)\n",
    "f.close()"
   ]
  },
  {
   "cell_type": "markdown",
   "id": "af33a792",
   "metadata": {},
   "source": [
    "### 파일 읽기\n",
    "- `read()` \n",
    "- `readline()` : **한줄 한줄** 읽어 온다.\n",
    "    - 더이상 읽어올 라인이 없는 경우는 빈 문자열을 반환 \n",
    "- `readlines()` : 라인별로 읽어와서 리스트로 반환 \n",
    "- 파일 객체로 바로 반복하는 방법, 라인별로 읽어온다.\n",
    "\n",
    "> `strip` : 좌우 공백(\\s - 공백 하나, \\t - 탭문자 하나, \\n - 줄개행, \\f - 줄개행 ) 제거"
   ]
  },
  {
   "cell_type": "code",
   "execution_count": 9,
   "id": "4d6a151b",
   "metadata": {},
   "outputs": [
    {
     "name": "stdout",
     "output_type": "stream",
     "text": [
      "1번째 줄입니다.\n",
      "2번째 줄입니다.\n",
      "3번째 줄입니다.\n",
      "4번째 줄입니다.\n",
      "5번째 줄입니다.\n",
      "6번째 줄입니다.\n",
      "7번째 줄입니다.\n",
      "8번째 줄입니다.\n",
      "9번째 줄입니다.\n",
      "10번째 줄입니다.\n"
     ]
    }
   ],
   "source": [
    "f = open(\"C:/fileex/test1.txt\", 'r')\n",
    "while True: # 무한 루프 \n",
    "    line = f.readline()\n",
    "    line = line.strip()\n",
    "    if not line: break\n",
    "    #print(line, end='') # end='\\n' 기본값\n",
    "    print(line)\n",
    "f.close()"
   ]
  },
  {
   "cell_type": "code",
   "execution_count": 11,
   "id": "fbad2e0c",
   "metadata": {},
   "outputs": [
    {
     "name": "stdout",
     "output_type": "stream",
     "text": [
      "1번째 줄입니다.\n",
      "2번째 줄입니다.\n",
      "3번째 줄입니다.\n",
      "4번째 줄입니다.\n",
      "5번째 줄입니다.\n",
      "6번째 줄입니다.\n",
      "7번째 줄입니다.\n",
      "8번째 줄입니다.\n",
      "9번째 줄입니다.\n",
      "10번째 줄입니다.\n"
     ]
    }
   ],
   "source": [
    "f = open(\"C:/fileex/test1.txt\", 'r')\n",
    "lines = f.readlines()\n",
    "for line in lines:\n",
    "    line = line.strip()\n",
    "    print(line)\n",
    "f.close()"
   ]
  },
  {
   "cell_type": "code",
   "execution_count": 12,
   "id": "cd3f5383",
   "metadata": {},
   "outputs": [
    {
     "name": "stdout",
     "output_type": "stream",
     "text": [
      "1번째 줄입니다.\n",
      "2번째 줄입니다.\n",
      "3번째 줄입니다.\n",
      "4번째 줄입니다.\n",
      "5번째 줄입니다.\n",
      "6번째 줄입니다.\n",
      "7번째 줄입니다.\n",
      "8번째 줄입니다.\n",
      "9번째 줄입니다.\n",
      "10번째 줄입니다.\n"
     ]
    }
   ],
   "source": [
    "f = open(\"C:/fileex/test1.txt\", 'r')\n",
    "for line in f:\n",
    "    line = line.strip()\n",
    "    print(line)\n",
    "f.close()"
   ]
  },
  {
   "cell_type": "markdown",
   "id": "45d48d2e",
   "metadata": {},
   "source": [
    "### 자원해제를 자동화 \n",
    "- with 구문\n",
    "```python\n",
    "with open(\"C:/fileex/test1.txt\", 'r') as f:\n",
    "    for line in f:\n",
    "        print(line.strip())\n",
    "```"
   ]
  },
  {
   "cell_type": "code",
   "execution_count": 13,
   "id": "5001ce97",
   "metadata": {},
   "outputs": [
    {
     "name": "stdout",
     "output_type": "stream",
     "text": [
      "1번째 줄입니다.\n",
      "2번째 줄입니다.\n",
      "3번째 줄입니다.\n",
      "4번째 줄입니다.\n",
      "5번째 줄입니다.\n",
      "6번째 줄입니다.\n",
      "7번째 줄입니다.\n",
      "8번째 줄입니다.\n",
      "9번째 줄입니다.\n",
      "10번째 줄입니다.\n"
     ]
    }
   ],
   "source": [
    "with open(\"C:/fileex/test1.txt\", 'r') as f:\n",
    "    for line in f:\n",
    "        print(line.strip())"
   ]
  }
 ],
 "metadata": {
  "kernelspec": {
   "display_name": "basic",
   "language": "python",
   "name": "python3"
  },
  "language_info": {
   "codemirror_mode": {
    "name": "ipython",
    "version": 3
   },
   "file_extension": ".py",
   "mimetype": "text/x-python",
   "name": "python",
   "nbconvert_exporter": "python",
   "pygments_lexer": "ipython3",
   "version": "3.12.10"
  }
 },
 "nbformat": 4,
 "nbformat_minor": 5
}
