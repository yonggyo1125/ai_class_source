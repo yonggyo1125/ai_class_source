{
 "cells": [
  {
   "cell_type": "markdown",
   "id": "6435b8e4",
   "metadata": {},
   "source": [
    "## 파일을 읽고 쓰기 \n",
    "- 파일을 작업하려면 파일을 열어준다\n",
    "```python \n",
    "f = open(\"파일 경로\", \"모드\")\n",
    "```\n",
    "- 모드 \n",
    "    - r : 읽기 \n",
    "    - w : 쓰기\n",
    "    - a : append 약자, 데이터 끝에서 누적 방식으로 추가 \n",
    "    - b : r, w, a와 함께 쓰이며 바이너리 데이터를 작업할때, rb, wb ..\n",
    "\n",
    "- 메모리에 자원 할당하므로 작업 완료 후 해제가 필요하다.\n",
    "```python\n",
    "f.close()\n",
    "```\n",
    "- 파일 작성 \n",
    "```python\n",
    "f.write(\"데이터\")\n",
    "```\n",
    "- 파일 읽기\n",
    "```python\n",
    "f.read() # 데이터 전체 읽기 \n",
    "```"
   ]
  },
  {
   "cell_type": "code",
   "execution_count": null,
   "id": "49e49de7",
   "metadata": {},
   "outputs": [],
   "source": [
    "f = open(\"C:/fileex/test1.txt\", \"w\")\n",
    "f.close() # 자원 해제"
   ]
  },
  {
   "cell_type": "code",
   "execution_count": 5,
   "id": "c9f39a06",
   "metadata": {},
   "outputs": [],
   "source": [
    "f = open(\"C:/fileex/test1.txt\", 'w')\n",
    "for i in range(1, 11): # 1 ~ 10\n",
    "    text = \"%d번째 줄입니다.\\n\" % i\n",
    "    f.write(text)\n",
    "f.close()"
   ]
  },
  {
   "cell_type": "code",
   "execution_count": 6,
   "id": "4bfcb348",
   "metadata": {},
   "outputs": [
    {
     "name": "stdout",
     "output_type": "stream",
     "text": [
      "1번째 줄입니다.\n",
      "2번째 줄입니다.\n",
      "3번째 줄입니다.\n",
      "4번째 줄입니다.\n",
      "5번째 줄입니다.\n",
      "6번째 줄입니다.\n",
      "7번째 줄입니다.\n",
      "8번째 줄입니다.\n",
      "9번째 줄입니다.\n",
      "10번째 줄입니다.\n",
      "\n"
     ]
    }
   ],
   "source": [
    "f = open(\"C:/fileex/test1.txt\", 'r')\n",
    "text = f.read()\n",
    "print(text)\n",
    "f.close()"
   ]
  },
  {
   "cell_type": "code",
   "execution_count": null,
   "id": "4d6a151b",
   "metadata": {},
   "outputs": [],
   "source": []
  }
 ],
 "metadata": {
  "kernelspec": {
   "display_name": "basic",
   "language": "python",
   "name": "python3"
  },
  "language_info": {
   "codemirror_mode": {
    "name": "ipython",
    "version": 3
   },
   "file_extension": ".py",
   "mimetype": "text/x-python",
   "name": "python",
   "nbconvert_exporter": "python",
   "pygments_lexer": "ipython3",
   "version": "3.12.10"
  }
 },
 "nbformat": 4,
 "nbformat_minor": 5
}
