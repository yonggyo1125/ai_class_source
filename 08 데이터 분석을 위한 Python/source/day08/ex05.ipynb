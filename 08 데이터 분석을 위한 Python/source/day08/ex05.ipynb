{
 "cells": [
  {
   "cell_type": "code",
   "execution_count": 1,
   "id": "aaae3e92",
   "metadata": {},
   "outputs": [
    {
     "name": "stdout",
     "output_type": "stream",
     "text": [
      "Collecting BeautifulSoup4\n",
      "  Downloading beautifulsoup4-4.13.4-py3-none-any.whl.metadata (3.8 kB)\n",
      "Collecting soupsieve>1.2 (from BeautifulSoup4)\n",
      "  Downloading soupsieve-2.7-py3-none-any.whl.metadata (4.6 kB)\n",
      "Requirement already satisfied: typing-extensions>=4.0.0 in c:\\users\\admin\\desktop\\이용교\\08 데이터 분석을 위한 python\\source\\basic\\lib\\site-packages (from BeautifulSoup4) (4.13.2)\n",
      "Downloading beautifulsoup4-4.13.4-py3-none-any.whl (187 kB)\n",
      "Downloading soupsieve-2.7-py3-none-any.whl (36 kB)\n",
      "Installing collected packages: soupsieve, BeautifulSoup4\n",
      "Successfully installed BeautifulSoup4-4.13.4 soupsieve-2.7\n"
     ]
    },
    {
     "name": "stderr",
     "output_type": "stream",
     "text": [
      "\n",
      "[notice] A new release of pip is available: 25.0.1 -> 25.1.1\n",
      "[notice] To update, run: python.exe -m pip install --upgrade pip\n"
     ]
    }
   ],
   "source": [
    "!pip install BeautifulSoup4"
   ]
  },
  {
   "cell_type": "code",
   "execution_count": 2,
   "id": "5db17073",
   "metadata": {},
   "outputs": [],
   "source": [
    "import requests\n",
    "from bs4 import BeautifulSoup as bs"
   ]
  },
  {
   "cell_type": "code",
   "execution_count": 3,
   "id": "d43af448",
   "metadata": {},
   "outputs": [],
   "source": [
    "response = requests.get(\"https://news.naver.com/section/105\")\n",
    "html = bs(response.text, 'html.parser')"
   ]
  },
  {
   "cell_type": "code",
   "execution_count": 7,
   "id": "4cf57c02",
   "metadata": {},
   "outputs": [
    {
     "data": {
      "text/plain": [
       "[<strong class=\"sa_text_strong\">카카오, KISA와 중소사업자 대상 개인정보 보호 온라인 교육 진행</strong>,\n",
       " <strong class=\"sa_text_strong\">정부, KT·LGU+ 보안 1차 점검 종료…\"현재까지 특이점 없어\"</strong>,\n",
       " <strong class=\"sa_text_strong\">넷마블문화재단, ‘2025 전국 장애학생 e페스티벌’ 예선 개최</strong>,\n",
       " <strong class=\"sa_text_strong\">새 정부 출범, 'AI 100조' 시대 열린다…AI 안전연구소 \"G3 도약, 신뢰성 확보가 핵심\"</strong>,\n",
       " <strong class=\"sa_text_strong\">총선 인재로 엔씨 출신 영입했던 이재명…게임 업계 기대감↑</strong>,\n",
       " <strong class=\"sa_text_strong\">전자통신硏, 2030년 6G 시대 비전 담은 백서 발간</strong>,\n",
       " <strong class=\"sa_text_strong\">크래프톤, 인도 주요 광고 시상식 총 64개 부문 수상</strong>,\n",
       " <strong class=\"sa_text_strong\">6월 과학기술인상에 오형석 KIST 센터장…온실가스 저감 해법 마련</strong>,\n",
       " <strong class=\"sa_text_strong\">[현장] 車·원전·방산 SW 검증 강자 슈어소프트테크, AI 시장 겨냥한 新무기 꺼냈다</strong>,\n",
       " <strong class=\"sa_text_strong\">한의협 \"이재명 대통령, 한의약으로 국민건강 돌보게 해달라”</strong>,\n",
       " <strong class=\"sa_text_strong\">이훈기 의원, SK 최태원 회장에 ‘위약금 면제’ 확답 받는다</strong>,\n",
       " <strong class=\"sa_text_strong\">사람 뇌 닮은 시각 센서 등장… 로봇 사물 인식 정확도 87%로 끌어올려</strong>,\n",
       " <strong class=\"sa_text_strong\">\"나 교체하면 불륜 폭로\" 사람 협박한 AI [Global]</strong>,\n",
       " <strong class=\"sa_text_strong\">'이재명 시대' 맞이한 이진숙…방통위 어디로</strong>,\n",
       " <strong class=\"sa_text_strong\">'개인정보 보호' 강조한 이재명…SKT, '역대급 과징금' 파장은?</strong>,\n",
       " <strong class=\"sa_text_strong\">서울아산병원, '중국 명문' 칭화대 SOS에 中 건너가 생체 간이식</strong>,\n",
       " <strong class=\"sa_text_strong\">“로봇팔이 물건 줍고 미스트 뿜어 목욕” 5년내 돌봄로봇 상용화… “쉰다는 개념”의 육아휴직 명칭 바꾼다 [AI 프리즘*신입 직장인 뉴스]</strong>,\n",
       " <strong class=\"sa_text_strong\">이재명 정부 ‘디지털 브레인’ 전면 부상… AI·콘텐츠 정책 주도권 잡는다</strong>,\n",
       " <strong class=\"sa_text_strong\">소아청소년 병원들 \"지금부터 진짜 K-소아의료 만들어 달라\"</strong>,\n",
       " <strong class=\"sa_text_strong\">이재명 정부, 통신비 세액공제-전국민 안심데이터 도입 탄력 기대</strong>,\n",
       " <strong class=\"sa_text_strong\">순식간에 ‘상전벽해’…우주서 본 알프스 빙하 붕괴로 초토화된 마을 [지구를 보다]</strong>,\n",
       " <strong class=\"sa_text_strong\">SKT 유심교체 600만 돌파…KT·LGU+로 이동 50만 육박</strong>,\n",
       " <strong class=\"sa_text_strong\">李, 총리 후보자에 김민석 의원·국정원장 후보자에 이종석 전 장관 지명</strong>,\n",
       " <strong class=\"sa_text_strong\">[닻올린 이재명 정부] '5000만원 풀뿌리 연구'부터 살려야…출연연 기관장 임기 일치될까</strong>,\n",
       " <strong class=\"sa_text_strong\">'셀프민원 의혹' 류희림 방심위원장, 대선 당일 사직서 수리</strong>,\n",
       " <strong class=\"sa_text_strong\">마이크론 “모바일용 6세대 D램 샘플 업계 첫 출하”</strong>,\n",
       " <strong class=\"sa_text_strong\">\"갤럭시Z폴드 7, 화면 둘 다 커진다\"</strong>,\n",
       " <strong class=\"sa_text_strong\">‘오픈AI 축출 사태’가 영화로···올트먼 CEO 역에 앤드루 가필드 물망</strong>,\n",
       " <strong class=\"sa_text_strong\">[이재명 시대] DJ 초고속인터넷 정책 AI 버전 찾아내야</strong>,\n",
       " <strong class=\"sa_text_strong\">\"갤럭시Z플립 7·폴드 7에 갤럭시워치8까지\"…언팩 앞두고 신제품 사양 대거 유출</strong>,\n",
       " <strong class=\"sa_text_strong\">우본, 중증질환 진단 시 사망보험금 선지급 등 보장 확대한 보험 2종 출시</strong>,\n",
       " <strong class=\"sa_text_strong\">“이산화탄소 1년에 500톤씩 자원화”…LG화학 손잡고 주도권 노린다 [이달의 과기인상]</strong>,\n",
       " <strong class=\"sa_text_strong\">[李정부 출범] 이재명 규제 완화 '말은 했다'…게임업계 \"실효성 관건\"</strong>,\n",
       " <strong class=\"sa_text_strong\">[전문] 이재명 \"공존과 통합...양보·타협하는 정치 되살리겠다\"</strong>,\n",
       " <strong class=\"sa_text_strong\">류희림 방심위원장 사직서 재가…제출 40여일만</strong>,\n",
       " <strong class=\"sa_text_strong\">총선 인재로 엔씨 출신 영입했던 이재명…게임 업계 기대감↑</strong>,\n",
       " <strong class=\"sa_text_strong\">OLED 재료 시장, 1분기 中이 韓 추월…\"하반기엔 되찾을 것\" [소부장디과장]</strong>,\n",
       " <strong class=\"sa_text_strong\">배터리 사용량 40% 올라도 점유율 하락한 K-배터리…CATL·BYD '폭풍 성장' [소부장박대리]</strong>,\n",
       " <strong class=\"sa_text_strong\">지카바이러스 환자 2년 만에 발생…“동남아 여행 주의”</strong>,\n",
       " <strong class=\"sa_text_strong\">[이재명 당선] 게임 국내 질병코드 등재 막을까…게임업계 기대감 고조</strong>,\n",
       " <strong class=\"sa_text_strong\">[이재명 당선] RE100 전환에 부처 개편…에너지 믹스 정책 나올까</strong>,\n",
       " <strong class=\"sa_text_strong\">[이재명 취임] 해킹 막고, 통신비 낮추고, 6G 앞당긴다…통신·미디어 대전환</strong>,\n",
       " <strong class=\"sa_text_strong\">KAIST, 온도 반응해 말랑·딱딱해지는 '전자잉크' 구현</strong>,\n",
       " <strong class=\"sa_text_strong\">\"내 구독, 라이브러리 왜 안보이나\", 유튜브 버그에 구글  \"조사중\"</strong>]"
      ]
     },
     "execution_count": 7,
     "metadata": {},
     "output_type": "execute_result"
    }
   ],
   "source": [
    "#titles = html.find(\"strong\")\n",
    "#titles = html.find_all(\"strong\")\n",
    "titles = html.find_all(class_='sa_text_strong')\n",
    "titles"
   ]
  },
  {
   "cell_type": "code",
   "execution_count": 28,
   "id": "bbf98b43",
   "metadata": {},
   "outputs": [
    {
     "name": "stdout",
     "output_type": "stream",
     "text": [
      "카카오, KISA와 중소사업자 대상 개인정보 보호 온라인 교육 진행\n",
      "정부, KT·LGU+ 보안 1차 점검 종료…\"현재까지 특이점 없어\"\n",
      "넷마블문화재단, ‘2025 전국 장애학생 e페스티벌’ 예선 개최\n",
      "새 정부 출범, 'AI 100조' 시대 열린다…AI 안전연구소 \"G3 도약, 신뢰성 확보가 핵심\"\n",
      "총선 인재로 엔씨 출신 영입했던 이재명…게임 업계 기대감↑\n",
      "전자통신硏, 2030년 6G 시대 비전 담은 백서 발간\n",
      "크래프톤, 인도 주요 광고 시상식 총 64개 부문 수상\n",
      "6월 과학기술인상에 오형석 KIST 센터장…온실가스 저감 해법 마련\n"
     ]
    }
   ],
   "source": [
    "# headline = html.find(class_='as_section_headline')\n",
    "#headline = html.find(attrs={\"data-template-id\": \"SECTION_HEADLINE\", \"class\": \"as_headline\"})\n",
    "headline = html.select_one(\"div.as_headline[data-template-id='SECTION_HEADLINE']\")\n",
    "#titles = headline.find_all(class_='sa_text_strong')\n",
    "titles = headline.select(\".sa_text_strong\")\n",
    "for title in titles:\n",
    "    print(title.get_text())"
   ]
  },
  {
   "cell_type": "code",
   "execution_count": 26,
   "id": "b307c8d2",
   "metadata": {},
   "outputs": [],
   "source": [
    "from urllib.request import urlretrieve\n",
    "\n",
    "path = \"C:/web_images/\"\n",
    "\n",
    "images = headline.find_all('img')\n",
    "for i, image in enumerate(images):\n",
    "    image_url = image.attrs['data-src']\n",
    "    urlretrieve(image_url, f\"{path}{i}.jpg\")"
   ]
  },
  {
   "cell_type": "code",
   "execution_count": 24,
   "id": "6ae58cb2",
   "metadata": {},
   "outputs": [
    {
     "name": "stdout",
     "output_type": "stream",
     "text": [
      "https://n.news.naver.com/mnews/article/011/0004493204 {'href': 'https://n.news.naver.com/mnews/article/011/0004493204', 'class': ['sa_text_title', '_NLOG_IMPRESSION'], 'data-clk': 'itn.clart', 'data-imp-gdid': '88000108_000000000000000004493204', 'data-imp-url': 'https://n.news.naver.com/mnews/article/011/0004493204', 'data-imp-index': '1'}\n",
      "https://n.news.naver.com/mnews/article/422/0000746493 {'href': 'https://n.news.naver.com/mnews/article/422/0000746493', 'class': ['sa_text_title', '_NLOG_IMPRESSION'], 'data-clk': 'itn.clart', 'data-imp-gdid': '08138262_000000000000000000746493', 'data-imp-url': 'https://n.news.naver.com/mnews/article/422/0000746493', 'data-imp-index': '2'}\n",
      "https://n.news.naver.com/mnews/article/366/0001082687 {'href': 'https://n.news.naver.com/mnews/article/366/0001082687', 'class': ['sa_text_title', '_NLOG_IMPRESSION'], 'data-clk': 'itn.clart', 'data-imp-gdid': '88127058_000000000000000001082687', 'data-imp-url': 'https://n.news.naver.com/mnews/article/366/0001082687', 'data-imp-index': '3'}\n",
      "https://n.news.naver.com/mnews/article/092/0002376931 {'href': 'https://n.news.naver.com/mnews/article/092/0002376931', 'class': ['sa_text_title', '_NLOG_IMPRESSION'], 'data-clk': 'itn.clart', 'data-imp-gdid': '8800011E_000000000000000002376931', 'data-imp-url': 'https://n.news.naver.com/mnews/article/092/0002376931', 'data-imp-index': '4'}\n",
      "https://n.news.naver.com/mnews/article/008/0005203300 {'href': 'https://n.news.naver.com/mnews/article/008/0005203300', 'class': ['sa_text_title', '_NLOG_IMPRESSION'], 'data-clk': 'itn.clart', 'data-imp-gdid': '880000C2_000000000000000005203300', 'data-imp-url': 'https://n.news.naver.com/mnews/article/008/0005203300', 'data-imp-index': '5'}\n",
      "https://n.news.naver.com/mnews/article/001/0015431055 {'href': 'https://n.news.naver.com/mnews/article/001/0015431055', 'class': ['sa_text_title', '_NLOG_IMPRESSION'], 'data-clk': 'itn.clart', 'data-imp-gdid': '880000D8_000000000000000015431055', 'data-imp-url': 'https://n.news.naver.com/mnews/article/001/0015431055', 'data-imp-index': '6'}\n",
      "https://n.news.naver.com/mnews/article/030/0003318663 {'href': 'https://n.news.naver.com/mnews/article/030/0003318663', 'class': ['sa_text_title', '_NLOG_IMPRESSION'], 'data-clk': 'itn.clart', 'data-imp-gdid': '880000EA_000000000000000003318663', 'data-imp-url': 'https://n.news.naver.com/mnews/article/030/0003318663', 'data-imp-index': '7'}\n",
      "https://n.news.naver.com/mnews/article/584/0000032681 {'href': 'https://n.news.naver.com/mnews/article/584/0000032681', 'class': ['sa_text_title', '_NLOG_IMPRESSION'], 'data-clk': 'itn.clart', 'data-imp-gdid': '8817ca11_000000000000000000032681', 'data-imp-url': 'https://n.news.naver.com/mnews/article/584/0000032681', 'data-imp-index': '8'}\n"
     ]
    }
   ],
   "source": [
    "hyperlinks = headline.find_all(class_=\"sa_text_title\")\n",
    "for hyperlink in hyperlinks:\n",
    "   link = hyperlink.attrs['href']\n",
    "   print(link, hyperlink.attrs)"
   ]
  },
  {
   "cell_type": "code",
   "execution_count": null,
   "id": "f15a2706",
   "metadata": {},
   "outputs": [],
   "source": []
  }
 ],
 "metadata": {
  "kernelspec": {
   "display_name": "basic",
   "language": "python",
   "name": "python3"
  },
  "language_info": {
   "codemirror_mode": {
    "name": "ipython",
    "version": 3
   },
   "file_extension": ".py",
   "mimetype": "text/x-python",
   "name": "python",
   "nbconvert_exporter": "python",
   "pygments_lexer": "ipython3",
   "version": "3.12.10"
  }
 },
 "nbformat": 4,
 "nbformat_minor": 5
}
