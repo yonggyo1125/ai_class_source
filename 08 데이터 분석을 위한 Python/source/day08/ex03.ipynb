{
 "cells": [
  {
   "cell_type": "markdown",
   "id": "eff13ae6",
   "metadata": {},
   "source": [
    "# 그루핑\n",
    "1. \\(\\) : 패턴을 그룹화 \n",
    "\n",
    "2. group(인덱스)\n",
    "3. 그루핑된 문자열 재참조하기\n",
    "4. 그루핑된 문자열에 이름 붙이기\n"
   ]
  },
  {
   "cell_type": "code",
   "execution_count": 1,
   "id": "b83dcdbd",
   "metadata": {},
   "outputs": [],
   "source": [
    "str = \"ABCABCABC\""
   ]
  },
  {
   "cell_type": "code",
   "execution_count": 2,
   "id": "3ad15a57",
   "metadata": {},
   "outputs": [],
   "source": [
    "import re"
   ]
  },
  {
   "cell_type": "code",
   "execution_count": 3,
   "id": "b6817b8f",
   "metadata": {},
   "outputs": [
    {
     "data": {
      "text/plain": [
       "<re.Match object; span=(0, 9), match='ABCABCABC'>"
      ]
     },
     "execution_count": 3,
     "metadata": {},
     "output_type": "execute_result"
    }
   ],
   "source": [
    "p = re.compile(r\"(ABC){1,3}\")\n",
    "m = p.search(str)\n",
    "m"
   ]
  },
  {
   "cell_type": "code",
   "execution_count": 15,
   "id": "f0474e2b",
   "metadata": {},
   "outputs": [],
   "source": [
    "str = \"\"\"이이름 010-1000-1000\n",
    "김이름 010-2000-2000\n",
    "Rachel 010-3000-3000\"\"\""
   ]
  },
  {
   "cell_type": "code",
   "execution_count": 18,
   "id": "3290f47d",
   "metadata": {},
   "outputs": [],
   "source": [
    "# p = re.compile(r\"^[a-zㄱ-ㅎ가-힣]+\\s+010\\D*\\d{4}\\D*\\d{4}$\", re.M | re.I)\n",
    "p = re.compile(r\"(^[a-zㄱ-ㅎ가-힣]+)\\s+(010\\D*\\d{4}\\D*\\d{4}$)\", re.M | re.I)"
   ]
  },
  {
   "cell_type": "code",
   "execution_count": 17,
   "id": "68acdf67",
   "metadata": {},
   "outputs": [
    {
     "data": {
      "text/plain": [
       "['이이름 010-1000-1000', '김이름 010-2000-2000', 'Rachel 010-3000-3000']"
      ]
     },
     "execution_count": 17,
     "metadata": {},
     "output_type": "execute_result"
    }
   ],
   "source": [
    "items = p.findall(str)\n",
    "items"
   ]
  },
  {
   "cell_type": "code",
   "execution_count": 19,
   "id": "ce20f205",
   "metadata": {},
   "outputs": [
    {
     "name": "stdout",
     "output_type": "stream",
     "text": [
      "m.group():이이름 010-1000-1000\n",
      "m.group(1):이이름\n",
      "m.group(2):010-1000-1000\n",
      "m.group():김이름 010-2000-2000\n",
      "m.group(1):김이름\n",
      "m.group(2):010-2000-2000\n",
      "m.group():Rachel 010-3000-3000\n",
      "m.group(1):Rachel\n",
      "m.group(2):010-3000-3000\n"
     ]
    }
   ],
   "source": [
    "for m in p.finditer(str):\n",
    "    print(f\"m.group():{m.group()}\")\n",
    "    print(f\"m.group(1):{m.group(1)}\")\n",
    "    print(f\"m.group(2):{m.group(2)}\")"
   ]
  },
  {
   "cell_type": "markdown",
   "id": "a258e3f4",
   "metadata": {},
   "source": [
    "## 문자열 바꾸기\n",
    "1. sub \n",
    "- count : 지정하지 않으면 전체 문자열에서 모든 패턴을 치환, 숫자를 지정하면 지정된 숫자만큼의 패턴만 치환\n",
    "- 첫번째 매개변수에 함수가 올수도 있다. 패턴 문자열만 가지고 치환하기 어려운 경우, 함수 내에 로직을 작성 \n",
    "\n",
    "2. subn\n",
    "- sub + count 기능 포함, 반환값은 튜플"
   ]
  },
  {
   "cell_type": "code",
   "execution_count": 20,
   "id": "3a601e29",
   "metadata": {},
   "outputs": [],
   "source": [
    "str = \"\"\"이이름 010-1000-1000\n",
    "김이름 010-2000-2000\n",
    "Rachel 010-3000-3000\"\"\""
   ]
  },
  {
   "cell_type": "code",
   "execution_count": 21,
   "id": "3cdce91d",
   "metadata": {},
   "outputs": [],
   "source": [
    "p = re.compile(r\"(^[a-zㄱ-ㅎ가-힣]+)\\s+(010\\D*\\d{4}\\D*\\d{4}$)\", re.M | re.I)"
   ]
  },
  {
   "cell_type": "code",
   "execution_count": 23,
   "id": "011a2ac3",
   "metadata": {},
   "outputs": [
    {
     "name": "stdout",
     "output_type": "stream",
     "text": [
      "010-1000-1000 이이름\n",
      "010-2000-2000 김이름\n",
      "010-3000-3000 Rachel\n"
     ]
    }
   ],
   "source": [
    "str2 = p.sub(r\"\\g<2> \\g<1>\", str)\n",
    "print(str2)"
   ]
  },
  {
   "cell_type": "markdown",
   "id": "c7777857",
   "metadata": {},
   "source": [
    "- 그룹핑의 이름을 설정 \n",
    "```\n",
    "(?P<이름>)\n",
    "```"
   ]
  },
  {
   "cell_type": "code",
   "execution_count": 24,
   "id": "61224607",
   "metadata": {},
   "outputs": [],
   "source": [
    "p = re.compile(r\"(?P<name>^[a-zㄱ-ㅎ가-힣]+)\\s+(?P<mobile>010\\D*\\d{4}\\D*\\d{4}$)\", re.M | re.I)"
   ]
  },
  {
   "cell_type": "code",
   "execution_count": 27,
   "id": "baa236e6",
   "metadata": {},
   "outputs": [
    {
     "name": "stdout",
     "output_type": "stream",
     "text": [
      "010-1000-1000 이이름\n",
      "010-2000-2000 김이름\n",
      "010-3000-3000 Rachel\n"
     ]
    }
   ],
   "source": [
    "str2 = p.sub(r\"\\g<mobile> \\g<name>\", str)\n",
    "print(str2)"
   ]
  },
  {
   "cell_type": "markdown",
   "id": "19b43b90",
   "metadata": {},
   "source": [
    "- 그룹화된 패턴을 재활용"
   ]
  },
  {
   "cell_type": "code",
   "execution_count": 28,
   "id": "fdb36264",
   "metadata": {},
   "outputs": [],
   "source": [
    "str = \"Paris in the the spring\""
   ]
  },
  {
   "cell_type": "code",
   "execution_count": 31,
   "id": "dac34564",
   "metadata": {},
   "outputs": [],
   "source": [
    "#p = re.compile(r\"(\\w+)\\s+\\1\")\n",
    "p = re.compile(r\"(?P<word>\\w+)\\s+(?P=word)\")"
   ]
  },
  {
   "cell_type": "code",
   "execution_count": 32,
   "id": "d630a0b3",
   "metadata": {},
   "outputs": [
    {
     "data": {
      "text/plain": [
       "<re.Match object; span=(9, 16), match='the the'>"
      ]
     },
     "execution_count": 32,
     "metadata": {},
     "output_type": "execute_result"
    }
   ],
   "source": [
    "m = p.search(str)\n",
    "m"
   ]
  },
  {
   "cell_type": "code",
   "execution_count": 33,
   "id": "236c8016",
   "metadata": {},
   "outputs": [],
   "source": [
    "str = \"one little, two little, three little indians\""
   ]
  },
  {
   "cell_type": "code",
   "execution_count": 34,
   "id": "cd5b769d",
   "metadata": {},
   "outputs": [],
   "source": [
    "p = re.compile(\"little\")"
   ]
  },
  {
   "cell_type": "code",
   "execution_count": 36,
   "id": "9f9274b5",
   "metadata": {},
   "outputs": [
    {
     "data": {
      "text/plain": [
       "'one big, two big, three little indians'"
      ]
     },
     "execution_count": 36,
     "metadata": {},
     "output_type": "execute_result"
    }
   ],
   "source": [
    "#str2 = p.sub(\"big\", str)\n",
    "str2 = p.sub(\"big\", str, count=2) # 왼쪽부터 매칭되는 패턴 2개만 치환 \n",
    "str2"
   ]
  },
  {
   "cell_type": "code",
   "execution_count": 37,
   "id": "c34c8833",
   "metadata": {},
   "outputs": [
    {
     "data": {
      "text/plain": [
       "('one big, two big, three little indians', 2)"
      ]
     },
     "execution_count": 37,
     "metadata": {},
     "output_type": "execute_result"
    }
   ],
   "source": [
    "result = p.subn(\"big\", str, 2)\n",
    "result"
   ]
  },
  {
   "cell_type": "code",
   "execution_count": 39,
   "id": "470959af",
   "metadata": {},
   "outputs": [
    {
     "data": {
      "text/plain": [
       "'one LITTLE, two LITTLE, three LITTLE indians'"
      ]
     },
     "execution_count": 39,
     "metadata": {},
     "output_type": "execute_result"
    }
   ],
   "source": [
    "str2 = p.sub(lambda m: m.group().upper(), str)\n",
    "str2"
   ]
  },
  {
   "cell_type": "markdown",
   "id": "2c21574e",
   "metadata": {},
   "source": [
    "### 전방 탐색\n",
    "1. 긍정형 전방 탐색\n",
    "- 특정 패턴의 앞쪽 패턴으로 한정 \n",
    "```\n",
    "앞쪽패턴(?=특정패턴)\n",
    "```\n",
    "2. 부정형 전방 탐색\n",
    "- 특정 패턴이 아닌 앞쪽 패턴으로 한정 \n",
    "```\n",
    "앞쪽패턴(?!특정패턴)\n",
    "```\n"
   ]
  },
  {
   "cell_type": "code",
   "execution_count": 84,
   "id": "8ca8c5fe",
   "metadata": {},
   "outputs": [],
   "source": [
    "str = \"\"\"https://www.naver.com\n",
    "https://www.daum.net\n",
    "http://www.webnmobile.net\"\"\""
   ]
  },
  {
   "cell_type": "code",
   "execution_count": 47,
   "id": "c0e95cae",
   "metadata": {},
   "outputs": [],
   "source": [
    "#p = re.compile(r\"http[s]?://\", re.M)\n",
    "p = re.compile(r\"http[s]?(?=://)\")"
   ]
  },
  {
   "cell_type": "code",
   "execution_count": 49,
   "id": "e24fd0c0",
   "metadata": {},
   "outputs": [
    {
     "data": {
      "text/plain": [
       "['https', 'https', 'http']"
      ]
     },
     "execution_count": 49,
     "metadata": {},
     "output_type": "execute_result"
    }
   ],
   "source": [
    "items = p.findall(str)\n",
    "items"
   ]
  },
  {
   "cell_type": "code",
   "execution_count": null,
   "id": "4fb95963",
   "metadata": {},
   "outputs": [],
   "source": [
    "p = re.compile(r\"http[s]?://(www\\.)?([^.]+(?=\\.net$))\", re.M) # 전방 탐색"
   ]
  },
  {
   "cell_type": "code",
   "execution_count": null,
   "id": "438c5d1b",
   "metadata": {},
   "outputs": [],
   "source": [
    "p = re.compile(r\"http[s]?://(www\\.)?([^.]+)\", re.M) # 전방 탐색"
   ]
  },
  {
   "cell_type": "code",
   "execution_count": 58,
   "id": "ebcfe377",
   "metadata": {},
   "outputs": [
    {
     "name": "stdout",
     "output_type": "stream",
     "text": [
      "daum\n",
      "webnmobile\n"
     ]
    }
   ],
   "source": [
    "for item in p.finditer(str):\n",
    "    print(item.group(2))"
   ]
  },
  {
   "cell_type": "code",
   "execution_count": 114,
   "id": "dd0bc0d1",
   "metadata": {},
   "outputs": [
    {
     "name": "stdout",
     "output_type": "stream",
     "text": [
      "naver\n",
      "daum\n",
      "webnmobile\n"
     ]
    }
   ],
   "source": [
    "p = re.compile(r\"http[s]?://(www\\.)?(.+)(?=\\.(com|net))\")\n",
    "for item in p.finditer(str):\n",
    "    print(item.group(2))"
   ]
  },
  {
   "cell_type": "code",
   "execution_count": null,
   "id": "b1fdd741",
   "metadata": {},
   "outputs": [],
   "source": [
    "p = re.compile(r\"http[s]?://(www\\.)?(.+)(?!\\.net$)\", re.M) # 전방 부정 탐색, .net으로 끝나지 않는 앞쪽 패턴 문자\n",
    "for item in p.finditer(str):\n",
    "    print(item.group(2))"
   ]
  },
  {
   "cell_type": "code",
   "execution_count": 77,
   "id": "e311fab4",
   "metadata": {},
   "outputs": [
    {
     "name": "stdout",
     "output_type": "stream",
     "text": [
      "<html><head><title>사이트 제목</title></head><body></body></html>\n"
     ]
    }
   ],
   "source": [
    "print(str)\n",
    "for item in p.finditer(str):\n",
    "    print(item.group(2))"
   ]
  },
  {
   "cell_type": "markdown",
   "id": "5d51ac0e",
   "metadata": {},
   "source": [
    "### greedy와 non-greedy\n",
    "- 패턴+, 패턴*, 패턴? 패턴{n,m} : 최대 매칭(greedy)\n",
    "- 패턴+?, 패턴*?, 패턴??, 패턴{n,m}? : 최소 매칭(non-greedy)"
   ]
  },
  {
   "cell_type": "code",
   "execution_count": 68,
   "id": "1dae0a97",
   "metadata": {},
   "outputs": [],
   "source": [
    "str = \"<html><head><title>사이트 제목</title></head><body></body></html>\""
   ]
  },
  {
   "cell_type": "code",
   "execution_count": null,
   "id": "8f58d9d9",
   "metadata": {},
   "outputs": [],
   "source": [
    "p = re.compile(r\"<.*>\") # greedy : 최대 매칭 "
   ]
  },
  {
   "cell_type": "code",
   "execution_count": 74,
   "id": "12844369",
   "metadata": {},
   "outputs": [
    {
     "data": {
      "text/plain": [
       "'<html><head><title>사이트 제목</title></head><body></body></html>'"
      ]
     },
     "execution_count": 74,
     "metadata": {},
     "output_type": "execute_result"
    }
   ],
   "source": [
    "m = p.search(str)\n",
    "m.group()"
   ]
  },
  {
   "cell_type": "code",
   "execution_count": 75,
   "id": "36640c3b",
   "metadata": {},
   "outputs": [
    {
     "data": {
      "text/plain": [
       "'<html>'"
      ]
     },
     "execution_count": 75,
     "metadata": {},
     "output_type": "execute_result"
    }
   ],
   "source": [
    "p = re.compile(r\"<.*?>\") # non-greedy : 최소 매칭 \n",
    "m = p.search(str)\n",
    "m.group()"
   ]
  }
 ],
 "metadata": {
  "kernelspec": {
   "display_name": "basic",
   "language": "python",
   "name": "python3"
  },
  "language_info": {
   "codemirror_mode": {
    "name": "ipython",
    "version": 3
   },
   "file_extension": ".py",
   "mimetype": "text/x-python",
   "name": "python",
   "nbconvert_exporter": "python",
   "pygments_lexer": "ipython3",
   "version": "3.12.10"
  }
 },
 "nbformat": 4,
 "nbformat_minor": 5
}
