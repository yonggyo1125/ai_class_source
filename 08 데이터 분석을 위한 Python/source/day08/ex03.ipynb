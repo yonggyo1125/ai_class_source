{
 "cells": [
  {
   "cell_type": "markdown",
   "id": "eff13ae6",
   "metadata": {},
   "source": [
    "# 그루핑\n",
    "1. \\(\\) : 패턴을 그룹화 \n",
    "\n",
    "2. group(인덱스)\n",
    "3. 그루핑된 문자열 재참조하기\n",
    "4. 그루핑된 문자열에 이름 붙이기\n"
   ]
  },
  {
   "cell_type": "code",
   "execution_count": 1,
   "id": "b83dcdbd",
   "metadata": {},
   "outputs": [],
   "source": [
    "str = \"ABCABCABC\""
   ]
  },
  {
   "cell_type": "code",
   "execution_count": 2,
   "id": "3ad15a57",
   "metadata": {},
   "outputs": [],
   "source": [
    "import re"
   ]
  },
  {
   "cell_type": "code",
   "execution_count": 3,
   "id": "b6817b8f",
   "metadata": {},
   "outputs": [
    {
     "data": {
      "text/plain": [
       "<re.Match object; span=(0, 9), match='ABCABCABC'>"
      ]
     },
     "execution_count": 3,
     "metadata": {},
     "output_type": "execute_result"
    }
   ],
   "source": [
    "p = re.compile(r\"(ABC){1,3}\")\n",
    "m = p.search(str)\n",
    "m"
   ]
  },
  {
   "cell_type": "code",
   "execution_count": 15,
   "id": "f0474e2b",
   "metadata": {},
   "outputs": [],
   "source": [
    "str = \"\"\"이이름 010-1000-1000\n",
    "김이름 010-2000-2000\n",
    "Rachel 010-3000-3000\"\"\""
   ]
  },
  {
   "cell_type": "code",
   "execution_count": 18,
   "id": "3290f47d",
   "metadata": {},
   "outputs": [],
   "source": [
    "# p = re.compile(r\"^[a-zㄱ-ㅎ가-힣]+\\s+010\\D*\\d{4}\\D*\\d{4}$\", re.M | re.I)\n",
    "p = re.compile(r\"(^[a-zㄱ-ㅎ가-힣]+)\\s+(010\\D*\\d{4}\\D*\\d{4}$)\", re.M | re.I)"
   ]
  },
  {
   "cell_type": "code",
   "execution_count": 17,
   "id": "68acdf67",
   "metadata": {},
   "outputs": [
    {
     "data": {
      "text/plain": [
       "['이이름 010-1000-1000', '김이름 010-2000-2000', 'Rachel 010-3000-3000']"
      ]
     },
     "execution_count": 17,
     "metadata": {},
     "output_type": "execute_result"
    }
   ],
   "source": [
    "items = p.findall(str)\n",
    "items"
   ]
  },
  {
   "cell_type": "code",
   "execution_count": 19,
   "id": "ce20f205",
   "metadata": {},
   "outputs": [
    {
     "name": "stdout",
     "output_type": "stream",
     "text": [
      "m.group():이이름 010-1000-1000\n",
      "m.group(1):이이름\n",
      "m.group(2):010-1000-1000\n",
      "m.group():김이름 010-2000-2000\n",
      "m.group(1):김이름\n",
      "m.group(2):010-2000-2000\n",
      "m.group():Rachel 010-3000-3000\n",
      "m.group(1):Rachel\n",
      "m.group(2):010-3000-3000\n"
     ]
    }
   ],
   "source": [
    "for m in p.finditer(str):\n",
    "    print(f\"m.group():{m.group()}\")\n",
    "    print(f\"m.group(1):{m.group(1)}\")\n",
    "    print(f\"m.group(2):{m.group(2)}\")"
   ]
  },
  {
   "cell_type": "markdown",
   "id": "a258e3f4",
   "metadata": {},
   "source": [
    "## 문자열 바꾸기\n",
    "1. sub \n",
    "2. subn"
   ]
  },
  {
   "cell_type": "code",
   "execution_count": 20,
   "id": "3a601e29",
   "metadata": {},
   "outputs": [],
   "source": [
    "str = \"\"\"이이름 010-1000-1000\n",
    "김이름 010-2000-2000\n",
    "Rachel 010-3000-3000\"\"\""
   ]
  },
  {
   "cell_type": "code",
   "execution_count": 21,
   "id": "3cdce91d",
   "metadata": {},
   "outputs": [],
   "source": [
    "p = re.compile(r\"(^[a-zㄱ-ㅎ가-힣]+)\\s+(010\\D*\\d{4}\\D*\\d{4}$)\", re.M | re.I)"
   ]
  },
  {
   "cell_type": "code",
   "execution_count": 23,
   "id": "011a2ac3",
   "metadata": {},
   "outputs": [
    {
     "name": "stdout",
     "output_type": "stream",
     "text": [
      "010-1000-1000 이이름\n",
      "010-2000-2000 김이름\n",
      "010-3000-3000 Rachel\n"
     ]
    }
   ],
   "source": [
    "str2 = p.sub(r\"\\g<2> \\g<1>\", str)\n",
    "print(str2)"
   ]
  },
  {
   "cell_type": "markdown",
   "id": "c7777857",
   "metadata": {},
   "source": [
    "- 그룹핑의 이름을 설정 \n",
    "```\n",
    "(?P<이름>)\n",
    "```"
   ]
  },
  {
   "cell_type": "code",
   "execution_count": 24,
   "id": "61224607",
   "metadata": {},
   "outputs": [],
   "source": [
    "p = re.compile(r\"(?P<name>^[a-zㄱ-ㅎ가-힣]+)\\s+(?P<mobile>010\\D*\\d{4}\\D*\\d{4}$)\", re.M | re.I)"
   ]
  },
  {
   "cell_type": "code",
   "execution_count": 27,
   "id": "baa236e6",
   "metadata": {},
   "outputs": [
    {
     "name": "stdout",
     "output_type": "stream",
     "text": [
      "010-1000-1000 이이름\n",
      "010-2000-2000 김이름\n",
      "010-3000-3000 Rachel\n"
     ]
    }
   ],
   "source": [
    "str2 = p.sub(r\"\\g<mobile> \\g<name>\", str)\n",
    "print(str2)"
   ]
  },
  {
   "cell_type": "markdown",
   "id": "19b43b90",
   "metadata": {},
   "source": [
    "- 그룹화된 패턴을 재활용"
   ]
  },
  {
   "cell_type": "code",
   "execution_count": 28,
   "id": "fdb36264",
   "metadata": {},
   "outputs": [],
   "source": [
    "str = \"Paris in the the spring\""
   ]
  },
  {
   "cell_type": "code",
   "execution_count": 29,
   "id": "dac34564",
   "metadata": {},
   "outputs": [],
   "source": [
    "p = re.compile(r\"(\\w+)\\s+\\1\")"
   ]
  },
  {
   "cell_type": "code",
   "execution_count": 30,
   "id": "d630a0b3",
   "metadata": {},
   "outputs": [
    {
     "data": {
      "text/plain": [
       "<re.Match object; span=(9, 16), match='the the'>"
      ]
     },
     "execution_count": 30,
     "metadata": {},
     "output_type": "execute_result"
    }
   ],
   "source": [
    "m = p.search(str)\n",
    "m"
   ]
  }
 ],
 "metadata": {
  "kernelspec": {
   "display_name": "basic",
   "language": "python",
   "name": "python3"
  },
  "language_info": {
   "codemirror_mode": {
    "name": "ipython",
    "version": 3
   },
   "file_extension": ".py",
   "mimetype": "text/x-python",
   "name": "python",
   "nbconvert_exporter": "python",
   "pygments_lexer": "ipython3",
   "version": "3.12.10"
  }
 },
 "nbformat": 4,
 "nbformat_minor": 5
}
