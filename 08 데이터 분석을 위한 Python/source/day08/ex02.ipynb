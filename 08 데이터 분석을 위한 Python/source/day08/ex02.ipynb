{
 "cells": [
  {
   "cell_type": "markdown",
   "id": "e9cfee97",
   "metadata": {},
   "source": [
    "# 문자열 소비가 없는 메타 문자\n",
    "1. \\|\n",
    "- or 연산자와 비슷 \n",
    "``` \n",
    "one|two|three  -> one 또는 two, three  \n",
    "```\n",
    "\n",
    "2. ^\n",
    "3. $\n",
    "4. \\A\n",
    "5. \\Z\n",
    "6. \\b\n",
    "7. \\B"
   ]
  },
  {
   "cell_type": "code",
   "execution_count": 1,
   "id": "2d61aaa2",
   "metadata": {},
   "outputs": [],
   "source": [
    "import re"
   ]
  },
  {
   "cell_type": "code",
   "execution_count": 2,
   "id": "b51e498b",
   "metadata": {},
   "outputs": [],
   "source": [
    "str = \"\"\"I like an apple\n",
    "I like an orange\n",
    "I like a pear\n",
    "\"\"\""
   ]
  },
  {
   "cell_type": "code",
   "execution_count": 4,
   "id": "be240968",
   "metadata": {},
   "outputs": [
    {
     "data": {
      "text/plain": [
       "['apple', 'orange', 'pear']"
      ]
     },
     "execution_count": 4,
     "metadata": {},
     "output_type": "execute_result"
    }
   ],
   "source": [
    "p = re.compile(r\"apple|orange|pear\", re.M)\n",
    "items = p.findall(str)\n",
    "items"
   ]
  }
 ],
 "metadata": {
  "kernelspec": {
   "display_name": "basic",
   "language": "python",
   "name": "python3"
  },
  "language_info": {
   "codemirror_mode": {
    "name": "ipython",
    "version": 3
   },
   "file_extension": ".py",
   "mimetype": "text/x-python",
   "name": "python",
   "nbconvert_exporter": "python",
   "pygments_lexer": "ipython3",
   "version": "3.12.10"
  }
 },
 "nbformat": 4,
 "nbformat_minor": 5
}
