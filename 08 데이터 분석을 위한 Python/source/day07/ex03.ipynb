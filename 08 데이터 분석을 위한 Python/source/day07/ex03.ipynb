{
 "cells": [
  {
   "cell_type": "markdown",
   "id": "6208b333",
   "metadata": {},
   "source": [
    "# 이터레이터\n",
    "## 이터레이터란?\n",
    "1) 반복자 패턴 구현 예 \n",
    "2) 내부에서는 현재 요소의 위치가 있고, next() 함수를 통해서 호출하면 다음 커서로 이동하고 요소를 반환 \n",
    "3) 반복을 완료하면 더이상 반복 불가, StopIteration 예외 발생\n",
    "4) 리스트, 튜플, 문자열등 반복 가능한 요소에 iter(..) 감싸서 호출, 이터레이터 객체\n",
    "5) 전체 목록을 반복하는 경우 for 문을 사용하면 된다.\n",
    "\t\n",
    "## 이터레이터 만들기\n",
    "- 클래스에 `__iter__', `__next__` 를 정의하고 구현다.\n",
    "- 커서가 존재, `__next__` 호출될때는 커서를 이동, 반복을 멈추는 조건 처리, 꺼내진 요소 반환\n",
    "- `next()` 를 호출하면 `__next__` 호출됨"
   ]
  },
  {
   "cell_type": "code",
   "execution_count": 2,
   "id": "812fe689",
   "metadata": {},
   "outputs": [
    {
     "data": {
      "text/plain": [
       "list"
      ]
     },
     "execution_count": 2,
     "metadata": {},
     "output_type": "execute_result"
    }
   ],
   "source": [
    "fruits = ['Apple', 'Orange', 'Melon', 'Banana', 'Mango']\n",
    "type(fruits)"
   ]
  },
  {
   "cell_type": "code",
   "execution_count": 3,
   "id": "45c141d2",
   "metadata": {},
   "outputs": [
    {
     "data": {
      "text/plain": [
       "list_iterator"
      ]
     },
     "execution_count": 3,
     "metadata": {},
     "output_type": "execute_result"
    }
   ],
   "source": [
    "itr = iter(fruits)\n",
    "type(itr)"
   ]
  },
  {
   "cell_type": "code",
   "execution_count": 9,
   "id": "a617df65",
   "metadata": {},
   "outputs": [
    {
     "ename": "StopIteration",
     "evalue": "",
     "output_type": "error",
     "traceback": [
      "\u001b[31m---------------------------------------------------------------------------\u001b[39m",
      "\u001b[31mStopIteration\u001b[39m                             Traceback (most recent call last)",
      "\u001b[36mCell\u001b[39m\u001b[36m \u001b[39m\u001b[32mIn[9]\u001b[39m\u001b[32m, line 1\u001b[39m\n\u001b[32m----> \u001b[39m\u001b[32m1\u001b[39m \u001b[38;5;28;43mnext\u001b[39;49m\u001b[43m(\u001b[49m\u001b[43mitr\u001b[49m\u001b[43m)\u001b[49m\n",
      "\u001b[31mStopIteration\u001b[39m: "
     ]
    }
   ],
   "source": [
    "next(itr)"
   ]
  },
  {
   "cell_type": "code",
   "execution_count": 11,
   "id": "b1b1b9a8",
   "metadata": {},
   "outputs": [
    {
     "name": "stdout",
     "output_type": "stream",
     "text": [
      "Apple\n",
      "Orange\n",
      "Melon\n",
      "Banana\n",
      "Mango\n"
     ]
    }
   ],
   "source": [
    "itr = iter(fruits)\n",
    "while True:\n",
    "    try:\n",
    "        print(next(itr))\n",
    "    except StopIteration:\n",
    "        break\n"
   ]
  },
  {
   "cell_type": "code",
   "execution_count": 13,
   "id": "55a95a20",
   "metadata": {},
   "outputs": [
    {
     "name": "stdout",
     "output_type": "stream",
     "text": [
      "Apple\n",
      "Orange\n",
      "Melon\n",
      "Banana\n",
      "Mango\n"
     ]
    }
   ],
   "source": [
    "itr = iter(fruits)\n",
    "for item in itr:\n",
    "    print(item)\n",
    "\n",
    "for item in itr:\n",
    "    print(item)"
   ]
  },
  {
   "cell_type": "code",
   "execution_count": 21,
   "id": "9ccb33b5",
   "metadata": {},
   "outputs": [],
   "source": [
    "class MyIterator:\n",
    "    def __init__(self, items):\n",
    "        self.position = 0\n",
    "        self.items = items\n",
    "\n",
    "    def __iter__(self):\n",
    "        return self \n",
    "\n",
    "    def __next__(self):\n",
    "        print(\"next() 호출!\")\n",
    "        if self.position >= len(self.items): # 다 읽어온 경우라면 StopIteration 예외 발생 \n",
    "            raise StopIteration\n",
    "\n",
    "        item = self.items[self.position] # 현재 위치의 요소를 추출 \n",
    "        \n",
    "        self.position += 1 # 다음 커서 위치로 이동\n",
    "\n",
    "        return item"
   ]
  },
  {
   "cell_type": "code",
   "execution_count": 22,
   "id": "6f663dfe",
   "metadata": {},
   "outputs": [],
   "source": [
    "itr = MyIterator(fruits)"
   ]
  },
  {
   "cell_type": "code",
   "execution_count": 29,
   "id": "4f32d822",
   "metadata": {},
   "outputs": [
    {
     "name": "stdout",
     "output_type": "stream",
     "text": [
      "next() 호출!\n"
     ]
    },
    {
     "ename": "StopIteration",
     "evalue": "",
     "output_type": "error",
     "traceback": [
      "\u001b[31m---------------------------------------------------------------------------\u001b[39m",
      "\u001b[31mStopIteration\u001b[39m                             Traceback (most recent call last)",
      "\u001b[36mCell\u001b[39m\u001b[36m \u001b[39m\u001b[32mIn[29]\u001b[39m\u001b[32m, line 1\u001b[39m\n\u001b[32m----> \u001b[39m\u001b[32m1\u001b[39m \u001b[38;5;28;43mnext\u001b[39;49m\u001b[43m(\u001b[49m\u001b[43mitr\u001b[49m\u001b[43m)\u001b[49m\n",
      "\u001b[36mCell\u001b[39m\u001b[36m \u001b[39m\u001b[32mIn[21]\u001b[39m\u001b[32m, line 12\u001b[39m, in \u001b[36mMyIterator.__next__\u001b[39m\u001b[34m(self)\u001b[39m\n\u001b[32m     10\u001b[39m \u001b[38;5;28mprint\u001b[39m(\u001b[33m\"\u001b[39m\u001b[33mnext() 호출!\u001b[39m\u001b[33m\"\u001b[39m)\n\u001b[32m     11\u001b[39m \u001b[38;5;28;01mif\u001b[39;00m \u001b[38;5;28mself\u001b[39m.position >= \u001b[38;5;28mlen\u001b[39m(\u001b[38;5;28mself\u001b[39m.items): \u001b[38;5;66;03m# 다 읽어온 경우라면 StopIteration 예외 발생 \u001b[39;00m\n\u001b[32m---> \u001b[39m\u001b[32m12\u001b[39m     \u001b[38;5;28;01mraise\u001b[39;00m \u001b[38;5;167;01mStopIteration\u001b[39;00m\n\u001b[32m     14\u001b[39m item = \u001b[38;5;28mself\u001b[39m.items[\u001b[38;5;28mself\u001b[39m.position] \u001b[38;5;66;03m# 현재 위치의 요소를 추출 \u001b[39;00m\n\u001b[32m     16\u001b[39m \u001b[38;5;28mself\u001b[39m.position += \u001b[32m1\u001b[39m \u001b[38;5;66;03m# 다음 커서 위치로 이동\u001b[39;00m\n",
      "\u001b[31mStopIteration\u001b[39m: "
     ]
    }
   ],
   "source": [
    "next(itr)"
   ]
  },
  {
   "cell_type": "code",
   "execution_count": 31,
   "id": "20899efd",
   "metadata": {},
   "outputs": [
    {
     "name": "stdout",
     "output_type": "stream",
     "text": [
      "next() 호출!\n",
      "Apple\n",
      "next() 호출!\n",
      "Orange\n",
      "next() 호출!\n",
      "Melon\n",
      "next() 호출!\n",
      "Banana\n",
      "next() 호출!\n",
      "Mango\n",
      "next() 호출!\n"
     ]
    }
   ],
   "source": [
    "itr = MyIterator(fruits)\n",
    "for item in itr:\n",
    "    print(item)"
   ]
  },
  {
   "cell_type": "markdown",
   "id": "57d313fd",
   "metadata": {},
   "source": [
    "## 제너레이터\n",
    "- 제너레이터란?\n",
    "    - 이러테이터로 만들어주는 함수\n",
    "    - 실행 및 반환값 지연, return 대신 yield 사용(여러개 사용 가능)\n",
    "\n",
    "- 제너레이터 표현식\n",
    "    - 튜플에다가  리스트 컴프리헨션과 비슷하게 구성하면, 제너레이터 객체 "
   ]
  },
  {
   "cell_type": "code",
   "execution_count": 32,
   "id": "6a5610ec",
   "metadata": {},
   "outputs": [],
   "source": [
    "def mygen():\n",
    "    yield 'A'\n",
    "    yield 'B'\n",
    "    yield 'C'"
   ]
  },
  {
   "cell_type": "code",
   "execution_count": 33,
   "id": "70b857fd",
   "metadata": {},
   "outputs": [
    {
     "data": {
      "text/plain": [
       "generator"
      ]
     },
     "execution_count": 33,
     "metadata": {},
     "output_type": "execute_result"
    }
   ],
   "source": [
    "gen = mygen()\n",
    "type(gen)"
   ]
  },
  {
   "cell_type": "code",
   "execution_count": 37,
   "id": "2b03f678",
   "metadata": {},
   "outputs": [
    {
     "ename": "StopIteration",
     "evalue": "",
     "output_type": "error",
     "traceback": [
      "\u001b[31m---------------------------------------------------------------------------\u001b[39m",
      "\u001b[31mStopIteration\u001b[39m                             Traceback (most recent call last)",
      "\u001b[36mCell\u001b[39m\u001b[36m \u001b[39m\u001b[32mIn[37]\u001b[39m\u001b[32m, line 1\u001b[39m\n\u001b[32m----> \u001b[39m\u001b[32m1\u001b[39m \u001b[38;5;28;43mnext\u001b[39;49m\u001b[43m(\u001b[49m\u001b[43mgen\u001b[49m\u001b[43m)\u001b[49m\n",
      "\u001b[31mStopIteration\u001b[39m: "
     ]
    }
   ],
   "source": [
    "next(gen)"
   ]
  },
  {
   "cell_type": "code",
   "execution_count": 38,
   "id": "6ebd48e6",
   "metadata": {},
   "outputs": [],
   "source": [
    "gen = (i*i for i in range(10000))"
   ]
  },
  {
   "cell_type": "code",
   "execution_count": 39,
   "id": "4b8e3757",
   "metadata": {},
   "outputs": [
    {
     "data": {
      "text/plain": [
       "generator"
      ]
     },
     "execution_count": 39,
     "metadata": {},
     "output_type": "execute_result"
    }
   ],
   "source": [
    "type(gen)"
   ]
  },
  {
   "cell_type": "code",
   "execution_count": 43,
   "id": "bc7c519c",
   "metadata": {},
   "outputs": [
    {
     "data": {
      "text/plain": [
       "9"
      ]
     },
     "execution_count": 43,
     "metadata": {},
     "output_type": "execute_result"
    }
   ],
   "source": [
    "next(gen)"
   ]
  },
  {
   "cell_type": "markdown",
   "id": "562d1794",
   "metadata": {},
   "source": [
    "## 타입 어노테이션 \n",
    "- 강제 사항은 아니고, 타입 힌트만 제공\n",
    "- 강제하면서 체크 mypy 의존성을 설치하고 mypy 모듈을 통해서 파이썬 코드 실행\n",
    "- int, float, list, tuple, set, dict, str ..., 직접 정의한 클래스"
   ]
  },
  {
   "cell_type": "code",
   "execution_count": 47,
   "id": "317db60a",
   "metadata": {},
   "outputs": [],
   "source": [
    "def add(num1: int, num2: int) -> int:\n",
    "    return num1 + num2"
   ]
  },
  {
   "cell_type": "code",
   "execution_count": null,
   "id": "a6a5505e",
   "metadata": {},
   "outputs": [
    {
     "data": {
      "text/plain": [
       "20.122999999999998"
      ]
     },
     "execution_count": 48,
     "metadata": {},
     "output_type": "execute_result"
    }
   ],
   "source": []
  }
 ],
 "metadata": {
  "kernelspec": {
   "display_name": "basic",
   "language": "python",
   "name": "python3"
  },
  "language_info": {
   "codemirror_mode": {
    "name": "ipython",
    "version": 3
   },
   "file_extension": ".py",
   "mimetype": "text/x-python",
   "name": "python",
   "nbconvert_exporter": "python",
   "pygments_lexer": "ipython3",
   "version": "3.12.10"
  }
 },
 "nbformat": 4,
 "nbformat_minor": 5
}
