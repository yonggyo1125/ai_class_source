{
 "cells": [
  {
   "cell_type": "markdown",
   "id": "ead32322",
   "metadata": {},
   "source": [
    "# 정규표현식\n",
    "## \\[\\] 문자 클래스 : 문자 하나 하나  "
   ]
  },
  {
   "cell_type": "code",
   "execution_count": 1,
   "id": "7b49a2de",
   "metadata": {},
   "outputs": [],
   "source": [
    "import re"
   ]
  },
  {
   "cell_type": "code",
   "execution_count": 2,
   "id": "c90da7a6",
   "metadata": {},
   "outputs": [],
   "source": [
    "p = re.compile(\"[abc]\")   # a 또는 b 또는 c라는 문자 한개가 포함되어 있는지"
   ]
  }
 ],
 "metadata": {
  "kernelspec": {
   "display_name": "basic",
   "language": "python",
   "name": "python3"
  },
  "language_info": {
   "codemirror_mode": {
    "name": "ipython",
    "version": 3
   },
   "file_extension": ".py",
   "mimetype": "text/x-python",
   "name": "python",
   "nbconvert_exporter": "python",
   "pygments_lexer": "ipython3",
   "version": "3.12.10"
  }
 },
 "nbformat": 4,
 "nbformat_minor": 5
}
