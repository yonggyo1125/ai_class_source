{
 "cells": [
  {
   "cell_type": "markdown",
   "id": "ead32322",
   "metadata": {},
   "source": [
    "# 정규표현식\n",
    "## \\[\\] 문자 클래스\n",
    "- 문자 하나 하나 \n",
    "```python\n",
    "[abc] : a,b,c\n",
    "``` \n",
    "- 문자의 범위 - \n",
    "```python\n",
    "[a-z] # a~z, 알파벳 소문자 \n",
    "[A-Z] # A~Z 알파벳 대문자\n",
    "[a-zA-Z]# 대소문자 구분없는 알파벳 문자\n",
    "[ㄱ-ㅎ가-힣] # 한글 문자 1개\n",
    "[0-9] # 숫자 문자 1개\n",
    "[^0-9] # 0~9 숫자를 제외한 모든 문자 (^ ~를 제외한 문자)\n",
    "```"
   ]
  },
  {
   "cell_type": "code",
   "execution_count": 1,
   "id": "7b49a2de",
   "metadata": {},
   "outputs": [],
   "source": [
    "import re"
   ]
  },
  {
   "cell_type": "code",
   "execution_count": 22,
   "id": "c90da7a6",
   "metadata": {},
   "outputs": [],
   "source": [
    "# p = re.compile(\"[abc]\")   # a 또는 b 또는 c라는 문자 한개가 포함되어 있는지\n",
    "# p = re.compile(\"[a-z]\") # a ~ z \n",
    "# p = re.compile(\"[a-zA-Z]\")\n",
    "# p = re.compile(\"[0-9]\") # 0~9\n",
    "# p = re.compile(\"\\\\d\") # [0-9]\n",
    "# p = re.compile(\"[^0-9]\") # 숫자가 아닌 모든 문자\n",
    "p = re.compile(\"\\\\D\") # [^0-9] : 숫자가 아닌 모든 문자"
   ]
  },
  {
   "cell_type": "code",
   "execution_count": 23,
   "id": "acb51ff5",
   "metadata": {},
   "outputs": [
    {
     "data": {
      "text/plain": [
       "<re.Match object; span=(0, 1), match='!'>"
      ]
     },
     "execution_count": 23,
     "metadata": {},
     "output_type": "execute_result"
    }
   ],
   "source": [
    "p.match(\"!01\")"
   ]
  },
  {
   "cell_type": "markdown",
   "id": "93354be8",
   "metadata": {},
   "source": [
    "## 자주 사용하는 문자 클래스 \n",
    "- `\\d`  : \\[0-9\\] : 숫자\n",
    "- `\\D`  : \\[^0-9\\] : 숫자가 아닌 패턴 \n",
    "- `\\s` : 공백 문자 한개(` ' ', \\t - 탭 한칸, \\r, \\n, \\f`) - \\[\\s\\t\\r\\n\\f\\]\n",
    "- `\\S` : 공백이 아닌 모든 문자 - \\[^\\s\\t\\r\\n\\f\\]\n",
    "- `\\w` : \\[a-zA-Z0-9_\\] : 단어 한개 패턴 참고) 한글 단어 한개 `[a-zA-Z0-9_ㄱ-ㅎ가-힣]`\n",
    "- `\\W` : \\[^a-zA-Z0-9_\\]  "
   ]
  },
  {
   "cell_type": "markdown",
   "id": "e03948b4",
   "metadata": {},
   "source": [
    "# . 문자 \n",
    "- `\\n`을 제외한 문자 1개(줄 개행 문자는 포함 X) "
   ]
  },
  {
   "cell_type": "code",
   "execution_count": 24,
   "id": "4362816a",
   "metadata": {},
   "outputs": [
    {
     "name": "stdout",
     "output_type": "stream",
     "text": [
      "a0b <re.Match object; span=(0, 3), match='a0b'>\n",
      "a1b <re.Match object; span=(0, 3), match='a1b'>\n",
      "a2b <re.Match object; span=(0, 3), match='a2b'>\n",
      "a!b <re.Match object; span=(0, 3), match='a!b'>\n"
     ]
    }
   ],
   "source": [
    "# a0b, a1b, a2b, a!b\n",
    "words = ['a0b', 'a1b', 'a2b', 'a!b']\n",
    "p = re.compile(\"a.b\")\n",
    "\n",
    "for word in words:\n",
    "    print(word, p.match(word))"
   ]
  },
  {
   "cell_type": "code",
   "execution_count": 26,
   "id": "8b89e33b",
   "metadata": {},
   "outputs": [
    {
     "name": "stdout",
     "output_type": "stream",
     "text": [
      "a000b <re.Match object; span=(0, 5), match='a000b'>\n",
      "a111b <re.Match object; span=(0, 5), match='a111b'>\n",
      "a222b <re.Match object; span=(0, 5), match='a222b'>\n",
      "a!b None\n"
     ]
    }
   ],
   "source": [
    "words = ['a000b', 'a111b', 'a222b', 'a!b']\n",
    "p = re.compile(\"a...b\")\n",
    "\n",
    "for word in words:\n",
    "    print(word, p.match(word))"
   ]
  },
  {
   "cell_type": "markdown",
   "id": "53664d34",
   "metadata": {},
   "source": [
    "# 패턴의 반복 횟수 \n",
    "- 패턴{숫자} : 패턴이 숫자 만큼 반복 \n",
    "- 패턴{시작번호, 종료번호} : 패턴이 시작번호 이상, 종료번호 이하 반복\n",
    "    - 패턴{1,3} : 패턴이 1번이상 3번 이하\n",
    "    - 패턴{0,1} : 없어도 되지만 있을때는 1개가 있어야 한다. ? \n",
    "- 패턴{시작번호,} : 패턴이 시작번호 이상 반복  \n",
    "    - 패턴{1,} : 패턴이 1번 이상 반복 / 패턴+\n",
    "    - 패턴{0,} : 패턴이 0번 이상 반복, 패턴에 해당하는 문자가 있어도 되고 없어도 된다. / 패턴*\n"
   ]
  },
  {
   "cell_type": "code",
   "execution_count": 34,
   "id": "b04a96da",
   "metadata": {},
   "outputs": [
    {
     "name": "stdout",
     "output_type": "stream",
     "text": [
      "a000b <re.Match object; span=(0, 5), match='a000b'>\n",
      "a111b <re.Match object; span=(0, 5), match='a111b'>\n",
      "a222b <re.Match object; span=(0, 5), match='a222b'>\n",
      "a33333b <re.Match object; span=(0, 7), match='a33333b'>\n",
      "a!b <re.Match object; span=(0, 3), match='a!b'>\n",
      "ab <re.Match object; span=(0, 2), match='ab'>\n"
     ]
    }
   ],
   "source": [
    "words = ['a000b', 'a111b', 'a222b', 'a33333b', 'a!b', 'ab']\n",
    "#p = re.compile(\"a.{3}b\")\n",
    "#p = re.compile(\"a.{1,3}b\")\n",
    "#p = re.compile(\"a.{1,}b\")\n",
    "#p = re.compile(\"a.{0,}b\")\n",
    "#p = re.compile(\"a.+b\") # a.{1,}b / .이 1개 이상 \n",
    "p = re.compile(\"a.*b\") # a.{0,}b / .이 0개 이상\n",
    "for word in words:\n",
    "    print(word, p.match(word))"
   ]
  },
  {
   "cell_type": "code",
   "execution_count": 41,
   "id": "e158c782",
   "metadata": {},
   "outputs": [],
   "source": [
    "#p = re.compile(\"python\")\n",
    "p = re.compile(\".*python.*\") # python 포함된 패턴 "
   ]
  },
  {
   "cell_type": "code",
   "execution_count": 42,
   "id": "5c266c9f",
   "metadata": {},
   "outputs": [
    {
     "data": {
      "text/plain": [
       "<re.Match object; span=(0, 6), match='python'>"
      ]
     },
     "execution_count": 42,
     "metadata": {},
     "output_type": "execute_result"
    }
   ],
   "source": [
    "str = \"python\"\n",
    "p.match(str)"
   ]
  },
  {
   "cell_type": "code",
   "execution_count": 43,
   "id": "347d8399",
   "metadata": {},
   "outputs": [
    {
     "data": {
      "text/plain": [
       "<re.Match object; span=(0, 13), match='I love python'>"
      ]
     },
     "execution_count": 43,
     "metadata": {},
     "output_type": "execute_result"
    }
   ],
   "source": [
    "str = \"I love python\"\n",
    "p.match(str)"
   ]
  },
  {
   "cell_type": "code",
   "execution_count": 45,
   "id": "871ca7a8",
   "metadata": {},
   "outputs": [
    {
     "data": {
      "text/plain": [
       "<re.Match object; span=(0, 22), match='I love python and java'>"
      ]
     },
     "execution_count": 45,
     "metadata": {},
     "output_type": "execute_result"
    }
   ],
   "source": [
    "str = \"I love python and java\"\n",
    "p.match(str)"
   ]
  },
  {
   "cell_type": "code",
   "execution_count": 46,
   "id": "91948fc6",
   "metadata": {},
   "outputs": [
    {
     "data": {
      "text/plain": [
       "<re.Match object; span=(7, 13), match='python'>"
      ]
     },
     "execution_count": 46,
     "metadata": {},
     "output_type": "execute_result"
    }
   ],
   "source": [
    "p = re.compile(\"python\")\n",
    "p.search(str)"
   ]
  },
  {
   "cell_type": "markdown",
   "id": "90e98eed",
   "metadata": {},
   "source": [
    "# 휴대폰 번호 패턴 \n",
    "- 010-1000-1000\n",
    "- 01010001000\n",
    "- 010.1000.1000"
   ]
  },
  {
   "cell_type": "code",
   "execution_count": 47,
   "id": "10ff2f0d",
   "metadata": {},
   "outputs": [],
   "source": [
    "p = re.compile(\"010.?\\\\d{4}.?\\\\d{4}\")"
   ]
  },
  {
   "cell_type": "code",
   "execution_count": 48,
   "id": "2c30e2fa",
   "metadata": {},
   "outputs": [
    {
     "data": {
      "text/plain": [
       "<re.Match object; span=(0, 13), match='010-1234-1234'>"
      ]
     },
     "execution_count": 48,
     "metadata": {},
     "output_type": "execute_result"
    }
   ],
   "source": [
    "p.search(\"010-1234-1234\")"
   ]
  },
  {
   "cell_type": "code",
   "execution_count": 50,
   "id": "e33af1e8",
   "metadata": {},
   "outputs": [
    {
     "data": {
      "text/plain": [
       "<re.Match object; span=(4, 17), match='010-1234-1234'>"
      ]
     },
     "execution_count": 50,
     "metadata": {},
     "output_type": "execute_result"
    }
   ],
   "source": [
    "p.search(\"1234010-1234-12341234\")"
   ]
  },
  {
   "cell_type": "markdown",
   "id": "31523bea",
   "metadata": {},
   "source": [
    "### ^, $\n",
    "- ^패턴 : 패턴으로 시작하는 패턴 \n",
    "- 패턴$ : 패턴으로 끝나는 패턴"
   ]
  },
  {
   "cell_type": "code",
   "execution_count": 55,
   "id": "d7c2543a",
   "metadata": {},
   "outputs": [],
   "source": [
    "p = re.compile(\"^010.?\\\\d{4}.?\\\\d{4}$\") # 010으로 시작하는 패턴, 4자리 숫자로 끝나는 패턴"
   ]
  },
  {
   "cell_type": "code",
   "execution_count": 57,
   "id": "0e91f17f",
   "metadata": {},
   "outputs": [
    {
     "data": {
      "text/plain": [
       "<re.Match object; span=(0, 13), match='010-1234-1234'>"
      ]
     },
     "execution_count": 57,
     "metadata": {},
     "output_type": "execute_result"
    }
   ],
   "source": [
    "p.search(\"010-1234-1234\")"
   ]
  },
  {
   "cell_type": "code",
   "execution_count": 58,
   "id": "ea7d58ee",
   "metadata": {},
   "outputs": [],
   "source": [
    "p = re.compile(\"^010\\\\D?\\\\d{4}\\\\D?\\\\d{4}$\")"
   ]
  },
  {
   "cell_type": "code",
   "execution_count": 59,
   "id": "e19b1f3a",
   "metadata": {},
   "outputs": [
    {
     "data": {
      "text/plain": [
       "<re.Match object; span=(0, 13), match='010-1234-1234'>"
      ]
     },
     "execution_count": 59,
     "metadata": {},
     "output_type": "execute_result"
    }
   ],
   "source": [
    "p.search(\"010-1234-1234\")"
   ]
  },
  {
   "cell_type": "markdown",
   "id": "ccd899a6",
   "metadata": {},
   "source": [
    "## 역슬래시를 2개씩 써햐 하는 경우 \n",
    "- 메타 문자 \\d -> \\\\d\n",
    "- 안쓰고 문자 그대로 인식하게 하는 방법 r\"패턴\""
   ]
  },
  {
   "cell_type": "code",
   "execution_count": 61,
   "id": "f11760bb",
   "metadata": {},
   "outputs": [],
   "source": [
    "p = re.compile(r\"^010\\D?\\d{4}\\D\\d{4}$\")\n",
    "m = p.search(\"010-1234-1234\")"
   ]
  },
  {
   "cell_type": "code",
   "execution_count": 63,
   "id": "a849d755",
   "metadata": {},
   "outputs": [
    {
     "name": "stdout",
     "output_type": "stream",
     "text": [
      "m.group(): 010-1234-1234 m.start(): 0 m.end(): 13 m.span(): (0, 13)\n"
     ]
    }
   ],
   "source": [
    "print(\"m.group():\", m.group(), \"m.start():\", m.start(), \"m.end():\", m.end(), \"m.span():\", m.span())"
   ]
  },
  {
   "cell_type": "code",
   "execution_count": null,
   "id": "4375ac09",
   "metadata": {},
   "outputs": [],
   "source": []
  }
 ],
 "metadata": {
  "kernelspec": {
   "display_name": "basic",
   "language": "python",
   "name": "python3"
  },
  "language_info": {
   "codemirror_mode": {
    "name": "ipython",
    "version": 3
   },
   "file_extension": ".py",
   "mimetype": "text/x-python",
   "name": "python",
   "nbconvert_exporter": "python",
   "pygments_lexer": "ipython3",
   "version": "3.12.10"
  }
 },
 "nbformat": 4,
 "nbformat_minor": 5
}
