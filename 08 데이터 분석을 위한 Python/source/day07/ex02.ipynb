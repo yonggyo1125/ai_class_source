{
 "cells": [
  {
   "cell_type": "code",
   "execution_count": 1,
   "id": "c376d9b4",
   "metadata": {},
   "outputs": [],
   "source": [
    "#import faker # faker.Faker\n",
    "from faker import Faker"
   ]
  },
  {
   "cell_type": "code",
   "execution_count": 4,
   "id": "b18b3e04",
   "metadata": {},
   "outputs": [],
   "source": [
    "faker = Faker(\"ko-KR\")"
   ]
  },
  {
   "cell_type": "code",
   "execution_count": 5,
   "id": "b37443b2",
   "metadata": {},
   "outputs": [
    {
     "data": {
      "text/plain": [
       "'김민석'"
      ]
     },
     "execution_count": 5,
     "metadata": {},
     "output_type": "execute_result"
    }
   ],
   "source": [
    "faker.name()"
   ]
  },
  {
   "cell_type": "code",
   "execution_count": 6,
   "id": "6345eaf2",
   "metadata": {},
   "outputs": [],
   "source": [
    "members = [(faker.name(), faker.address()) for _ in range(30)]"
   ]
  },
  {
   "cell_type": "code",
   "execution_count": 7,
   "id": "42ddcb73",
   "metadata": {},
   "outputs": [
    {
     "data": {
      "text/plain": [
       "[('김영진', '울산광역시 영등포구 학동길 278-15 (건우김나리)'),\n",
       " ('김준혁', '경기도 춘천시 오금0길 173-25'),\n",
       " ('서영미', '경기도 부천시 원미구 양재천0거리 173-12'),\n",
       " ('김도현', '경상북도 연천군 반포대6가 788-93'),\n",
       " ('홍서영', '전라남도 고성군 오금거리 766'),\n",
       " ('최경희', '제주특별자치도 논산시 테헤란거리 483 (영호이리)'),\n",
       " ('이민수', '전라남도 안양시 만안구 석촌호수거리 453-63 (정자최면)'),\n",
       " ('박영길', '경상남도 횡성군 반포대5가 498-44'),\n",
       " ('오서준', '강원도 수원시 영통구 선릉가 147'),\n",
       " ('김영미', '대구광역시 용산구 양재천521거리 742 (성현박임마을)'),\n",
       " ('김중수', '광주광역시 도봉구 논현5길 292'),\n",
       " ('홍영수', '세종특별자치시 중구 오금4길 799'),\n",
       " ('박순자', '충청남도 청주시 서원구 서초대60로 345-42'),\n",
       " ('이순옥', '충청남도 삼척시 선릉가 873 (서준한동)'),\n",
       " ('류예준', '경기도 홍성군 서초대56로 537-71'),\n",
       " ('이정수', '전라북도 의왕시 반포대8길 428'),\n",
       " ('손정희', '부산광역시 서구 압구정0로 지하237 (수빈송마을)'),\n",
       " ('송영환', '경상북도 청주시 흥덕구 잠실길 635-17'),\n",
       " ('김승현', '충청남도 부여군 서초대375거리 593 (옥자강이리)'),\n",
       " ('배정순', '광주광역시 광진구 역삼거리 296 (준혁이김읍)'),\n",
       " ('김선영', '세종특별자치시 강북구 잠실로 865 (정희김김읍)'),\n",
       " ('신은지', '제주특별자치도 춘천시 강남대거리 365-7'),\n",
       " ('임지후', '울산광역시 도봉구 언주9로 168-15'),\n",
       " ('황영일', '울산광역시 도봉구 영동대21로 141 (영진이리)'),\n",
       " ('강옥자', '제주특별자치도 양주시 역삼3거리 286-47'),\n",
       " ('이지현', '경상북도 청양군 오금1길 769-39 (민수김나동)'),\n",
       " ('권재현', '부산광역시 서대문구 잠실로 314-79'),\n",
       " ('최영진', '인천광역시 강서구 강남대847가 449-20'),\n",
       " ('손상철', '경기도 청주시 상당구 논현가 363-31 (서윤우마을)'),\n",
       " ('최정훈', '경상남도 안양시 동안구 석촌호수로 324-42')]"
      ]
     },
     "execution_count": 7,
     "metadata": {},
     "output_type": "execute_result"
    }
   ],
   "source": [
    "members"
   ]
  },
  {
   "cell_type": "code",
   "execution_count": 11,
   "id": "600be64b",
   "metadata": {},
   "outputs": [],
   "source": [
    "str = \"이이름\".encode(\"euc-kr\")"
   ]
  },
  {
   "cell_type": "code",
   "execution_count": 12,
   "id": "2a8b9f76",
   "metadata": {},
   "outputs": [
    {
     "data": {
      "text/plain": [
       "'이이름'"
      ]
     },
     "execution_count": 12,
     "metadata": {},
     "output_type": "execute_result"
    }
   ],
   "source": [
    "str2 = str.decode(\"euc-kr\")\n",
    "str2"
   ]
  }
 ],
 "metadata": {
  "kernelspec": {
   "display_name": "basic",
   "language": "python",
   "name": "python3"
  },
  "language_info": {
   "codemirror_mode": {
    "name": "ipython",
    "version": 3
   },
   "file_extension": ".py",
   "mimetype": "text/x-python",
   "name": "python",
   "nbconvert_exporter": "python",
   "pygments_lexer": "ipython3",
   "version": "3.12.10"
  }
 },
 "nbformat": 4,
 "nbformat_minor": 5
}
