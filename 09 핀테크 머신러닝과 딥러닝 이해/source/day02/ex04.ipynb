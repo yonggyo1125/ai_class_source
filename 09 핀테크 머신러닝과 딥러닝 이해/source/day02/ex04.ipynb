{
 "cells": [
  {
   "cell_type": "code",
   "execution_count": null,
   "id": "f2f775ea",
   "metadata": {},
   "outputs": [],
   "source": [
    "# numpy 배열 브로드캐스팅 기능 \n",
    "import numpy as np\n"
   ]
  },
  {
   "cell_type": "code",
   "execution_count": 10,
   "id": "1d3fbf10",
   "metadata": {},
   "outputs": [
    {
     "data": {
      "text/plain": [
       "array([22, 24, 26, 28, 30, 32, 34, 36, 38, 40])"
      ]
     },
     "execution_count": 10,
     "metadata": {},
     "output_type": "execute_result"
    }
   ],
   "source": [
    "#nums = np.array([1, 2, 3, 4, 5, 6, 7, 8, 9, 10])\n",
    "nums = np.arange(1, 11)\n",
    "\"\"\"\n",
    "    np.arange(10) : 0~9\n",
    "    np.arange(1, 11) : 1~10\n",
    "    np.arange(1, 11, 2) : 1, 3, 5, 7, 9\n",
    "\"\"\"\n",
    "nums = nums + 10\n",
    "nums = nums * 2\n",
    "nums"
   ]
  },
  {
   "cell_type": "code",
   "execution_count": null,
   "id": "a5632c6c",
   "metadata": {},
   "outputs": [
    {
     "data": {
      "text/plain": [
       "array([[22, 24, 26, 28, 30],\n",
       "       [32, 34, 36, 38, 40]])"
      ]
     },
     "execution_count": 11,
     "metadata": {},
     "output_type": "execute_result"
    }
   ],
   "source": [
    "# 배열의 차원 변경, reshape\n",
    "nums2 = nums.reshape(2, 5) # 2행 5열\n",
    "nums2"
   ]
  },
  {
   "cell_type": "code",
   "execution_count": 12,
   "id": "9895784a",
   "metadata": {},
   "outputs": [
    {
     "data": {
      "text/plain": [
       "array([[22, 24],\n",
       "       [26, 28],\n",
       "       [30, 32],\n",
       "       [34, 36],\n",
       "       [38, 40]])"
      ]
     },
     "execution_count": 12,
     "metadata": {},
     "output_type": "execute_result"
    }
   ],
   "source": [
    "nums3 = nums.reshape(5, 2) # 5행 2열 \n",
    "nums3"
   ]
  },
  {
   "cell_type": "code",
   "execution_count": null,
   "id": "2859df45",
   "metadata": {},
   "outputs": [
    {
     "ename": "ValueError",
     "evalue": "cannot reshape array of size 10 into shape (3,3)",
     "output_type": "error",
     "traceback": [
      "\u001b[31m---------------------------------------------------------------------------\u001b[39m",
      "\u001b[31mValueError\u001b[39m                                Traceback (most recent call last)",
      "\u001b[36mCell\u001b[39m\u001b[36m \u001b[39m\u001b[32mIn[13]\u001b[39m\u001b[32m, line 1\u001b[39m\n\u001b[32m----> \u001b[39m\u001b[32m1\u001b[39m nums4 = \u001b[43mnums\u001b[49m\u001b[43m.\u001b[49m\u001b[43mreshape\u001b[49m\u001b[43m(\u001b[49m\u001b[32;43m3\u001b[39;49m\u001b[43m,\u001b[49m\u001b[43m \u001b[49m\u001b[32;43m3\u001b[39;49m\u001b[43m)\u001b[49m\n",
      "\u001b[31mValueError\u001b[39m: cannot reshape array of size 10 into shape (3,3)"
     ]
    }
   ],
   "source": [
    "nums4 = nums.reshape(3, 3) "
   ]
  },
  {
   "cell_type": "code",
   "execution_count": 15,
   "id": "1f88f8dc",
   "metadata": {},
   "outputs": [
    {
     "data": {
      "text/plain": [
       "array([[22],\n",
       "       [24],\n",
       "       [26],\n",
       "       [28],\n",
       "       [30],\n",
       "       [32],\n",
       "       [34],\n",
       "       [36],\n",
       "       [38],\n",
       "       [40]])"
      ]
     },
     "execution_count": 15,
     "metadata": {},
     "output_type": "execute_result"
    }
   ],
   "source": [
    "#nums5 = nums.reshape(10, 1) \n",
    "nums5 = nums.reshape(-1, 1) # 전체 열을 전체 행의 갯수\n",
    "nums5"
   ]
  },
  {
   "cell_type": "code",
   "execution_count": 16,
   "id": "7384ce8e",
   "metadata": {},
   "outputs": [
    {
     "data": {
      "text/plain": [
       "array([22, 24, 26, 28, 30, 32, 34, 36, 38, 40])"
      ]
     },
     "execution_count": 16,
     "metadata": {},
     "output_type": "execute_result"
    }
   ],
   "source": [
    "nums"
   ]
  },
  {
   "cell_type": "code",
   "execution_count": 17,
   "id": "15cc5f3f",
   "metadata": {},
   "outputs": [],
   "source": [
    "np.random.shuffle(nums)"
   ]
  },
  {
   "cell_type": "code",
   "execution_count": 18,
   "id": "ade8f67b",
   "metadata": {},
   "outputs": [
    {
     "data": {
      "text/plain": [
       "array([36, 26, 22, 40, 32, 28, 38, 30, 24, 34])"
      ]
     },
     "execution_count": 18,
     "metadata": {},
     "output_type": "execute_result"
    }
   ],
   "source": [
    "nums"
   ]
  }
 ],
 "metadata": {
  "kernelspec": {
   "display_name": ".venv",
   "language": "python",
   "name": "python3"
  },
  "language_info": {
   "codemirror_mode": {
    "name": "ipython",
    "version": 3
   },
   "file_extension": ".py",
   "mimetype": "text/x-python",
   "name": "python",
   "nbconvert_exporter": "python",
   "pygments_lexer": "ipython3",
   "version": "3.12.10"
  }
 },
 "nbformat": 4,
 "nbformat_minor": 5
}
