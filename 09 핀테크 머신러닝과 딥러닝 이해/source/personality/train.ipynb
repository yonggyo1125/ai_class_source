{
 "cells": [
  {
   "cell_type": "code",
   "execution_count": null,
   "id": "9af041fb",
   "metadata": {},
   "outputs": [],
   "source": [
    "# HistGradientBoostingClassifier"
   ]
  }
 ],
 "metadata": {
  "kernelspec": {
   "display_name": ".venv",
   "language": "python",
   "name": "python3"
  },
  "language_info": {
   "name": "python",
   "version": "3.12.10"
  }
 },
 "nbformat": 4,
 "nbformat_minor": 5
}
