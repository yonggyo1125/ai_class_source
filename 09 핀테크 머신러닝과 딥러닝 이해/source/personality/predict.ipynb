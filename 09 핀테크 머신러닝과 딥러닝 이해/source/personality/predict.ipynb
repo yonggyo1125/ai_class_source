{
 "cells": [
  {
   "cell_type": "code",
   "execution_count": 1,
   "id": "db8a2910",
   "metadata": {},
   "outputs": [],
   "source": [
    "import pickle \n",
    "from sklearn.ensemble import HistGradientBoostingClassifier"
   ]
  },
  {
   "cell_type": "code",
   "execution_count": 2,
   "id": "1cebc0de",
   "metadata": {},
   "outputs": [],
   "source": [
    "# 학습한 모델 불러오기\n",
    "with open(\"model.pkl\", \"rb\") as f:\n",
    "    model = pickle.load(f)"
   ]
  },
  {
   "cell_type": "code",
   "execution_count": 3,
   "id": "9a8dcd91",
   "metadata": {},
   "outputs": [],
   "source": [
    "# 분류하기\n",
    "import numpy as np\n",
    "test_data = np.array([[10.0, 1.0, 3.0, 3.0, 1.0, 5.0, 3.0],\n",
    " [4.505816002819881, 0.0, 3.963354474982382, 5.0, 0.0, 14.0, 5.0],\n",
    " [5.0, 1.0, 0.0, 0.0, 1.0, 0.0, 2.0],\n",
    " [10.0, 1.0, 2.0, 2.0, 1.0, 2.0, 1.0],\n",
    " [7.0, 1.0, 0.0, 0.0, 1.0, 2.0, 1.0]])"
   ]
  },
  {
   "cell_type": "code",
   "execution_count": 4,
   "id": "39dce489",
   "metadata": {},
   "outputs": [
    {
     "data": {
      "text/plain": [
       "array([0, 1, 0, 0, 0])"
      ]
     },
     "execution_count": 4,
     "metadata": {},
     "output_type": "execute_result"
    }
   ],
   "source": [
    "model.predict(test_data)"
   ]
  },
  {
   "cell_type": "code",
   "execution_count": null,
   "id": "329fd5fb",
   "metadata": {},
   "outputs": [],
   "source": []
  }
 ],
 "metadata": {
  "kernelspec": {
   "display_name": ".venv",
   "language": "python",
   "name": "python3"
  },
  "language_info": {
   "codemirror_mode": {
    "name": "ipython",
    "version": 3
   },
   "file_extension": ".py",
   "mimetype": "text/x-python",
   "name": "python",
   "nbconvert_exporter": "python",
   "pygments_lexer": "ipython3",
   "version": "3.12.10"
  }
 },
 "nbformat": 4,
 "nbformat_minor": 5
}
