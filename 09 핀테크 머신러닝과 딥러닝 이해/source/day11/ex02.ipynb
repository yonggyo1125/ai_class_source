{
 "cells": [
  {
   "cell_type": "code",
   "execution_count": 1,
   "id": "6bc806fa",
   "metadata": {},
   "outputs": [
    {
     "name": "stderr",
     "output_type": "stream",
     "text": [
      "100.0%\n",
      "100.0%\n",
      "100.0%\n",
      "100.0%\n"
     ]
    }
   ],
   "source": [
    "# 패션 MNIST 데이터 \n",
    "from torchvision.datasets import FashionMNIST\n",
    "\n",
    "fm_train = FashionMNIST(root='.', train=True, download=True)\n",
    "fm_test = FashionMNIST(root='.', train=False, download=True)"
   ]
  },
  {
   "cell_type": "code",
   "execution_count": 2,
   "id": "c29662a5",
   "metadata": {},
   "outputs": [],
   "source": [
    "train_input = fm_train.data\n",
    "train_target = fm_train.targets\n",
    "\n",
    "test_input = fm_test.data\n",
    "test_target = fm_test.targets"
   ]
  },
  {
   "cell_type": "code",
   "execution_count": 3,
   "id": "cc5a0177",
   "metadata": {},
   "outputs": [],
   "source": [
    "# (배치, 채널, 높이, 너비)\n",
    "\n",
    "train_input = train_input.reshape(-1, 1, 28, 28)\n",
    "test_input = test_input.reshape(-1, 1, 28, 28)"
   ]
  },
  {
   "cell_type": "code",
   "execution_count": 4,
   "id": "75748bdb",
   "metadata": {},
   "outputs": [],
   "source": [
    "# 정규화 0 ~ 1\n",
    "train_scaled = train_input / 255.0\n",
    "test_scaled = test_input / 255.0"
   ]
  },
  {
   "cell_type": "code",
   "execution_count": 5,
   "id": "30bf8d25",
   "metadata": {},
   "outputs": [],
   "source": [
    "# 훈련세트, 검증세트 \n",
    "from sklearn.model_selection import train_test_split\n",
    "\n",
    "train_scaled, val_scaled, train_target, val_target = train_test_split(\n",
    "    train_scaled, train_target, test_size=0.2, random_state=42\n",
    ")"
   ]
  },
  {
   "cell_type": "code",
   "execution_count": 8,
   "id": "71735718",
   "metadata": {},
   "outputs": [],
   "source": [
    "# 층을 구성 \n",
    "import torch.nn as nn\n",
    "\n",
    "model = nn.Sequential()\n",
    "model.add_module('conv1', nn.Conv2d(1, 32, kernel_size=3, padding='same'))\n",
    "model.add_module('relu1', nn.ReLU())\n",
    "model.add_module('pool1', nn.MaxPool2d(2))\n",
    "model.add_module('conv2', nn.Conv2d(32, 64, kernel_size=3, padding='same'))\n",
    "model.add_module('relu2', nn.ReLU())\n",
    "model.add_module('pool2', nn.MaxPool2d(2))\n",
    "model.add_module('flatten', nn.Flatten())"
   ]
  },
  {
   "cell_type": "code",
   "execution_count": 11,
   "id": "7534fd57",
   "metadata": {},
   "outputs": [
    {
     "data": {
      "text/plain": [
       "torch.Size([1, 3136])"
      ]
     },
     "execution_count": 11,
     "metadata": {},
     "output_type": "execute_result"
    }
   ],
   "source": [
    "import torch\n",
    "outputs = model(torch.ones(1, 1, 28, 28))\n",
    "outputs.shape"
   ]
  },
  {
   "cell_type": "code",
   "execution_count": 12,
   "id": "f2434bb2",
   "metadata": {},
   "outputs": [],
   "source": [
    "model.add_module('dense1', nn.Linear(3136, 100))\n",
    "model.add_module('relu3', nn.ReLU())\n",
    "model.add_module('dropout', nn.Dropout(0.3))\n",
    "model.add_module('dense2', nn.Linear(100, 10))"
   ]
  },
  {
   "cell_type": "code",
   "execution_count": 13,
   "id": "3146a33d",
   "metadata": {},
   "outputs": [
    {
     "data": {
      "text/plain": [
       "=================================================================\n",
       "Layer (type:depth-idx)                   Param #\n",
       "=================================================================\n",
       "Sequential                               --\n",
       "├─Conv2d: 1-1                            320\n",
       "├─ReLU: 1-2                              --\n",
       "├─MaxPool2d: 1-3                         --\n",
       "├─Conv2d: 1-4                            18,496\n",
       "├─ReLU: 1-5                              --\n",
       "├─MaxPool2d: 1-6                         --\n",
       "├─Flatten: 1-7                           --\n",
       "├─Linear: 1-8                            313,700\n",
       "├─ReLU: 1-9                              --\n",
       "├─Dropout: 1-10                          --\n",
       "├─Linear: 1-11                           1,010\n",
       "=================================================================\n",
       "Total params: 333,526\n",
       "Trainable params: 333,526\n",
       "Non-trainable params: 0\n",
       "================================================================="
      ]
     },
     "execution_count": 13,
     "metadata": {},
     "output_type": "execute_result"
    }
   ],
   "source": [
    "from torchinfo import summary\n",
    "summary(model)"
   ]
  },
  {
   "cell_type": "code",
   "execution_count": 14,
   "id": "499804a5",
   "metadata": {},
   "outputs": [
    {
     "data": {
      "text/plain": [
       "Sequential(\n",
       "  (conv1): Conv2d(1, 32, kernel_size=(3, 3), stride=(1, 1), padding=same)\n",
       "  (relu1): ReLU()\n",
       "  (pool1): MaxPool2d(kernel_size=2, stride=2, padding=0, dilation=1, ceil_mode=False)\n",
       "  (conv2): Conv2d(32, 64, kernel_size=(3, 3), stride=(1, 1), padding=same)\n",
       "  (relu2): ReLU()\n",
       "  (pool2): MaxPool2d(kernel_size=2, stride=2, padding=0, dilation=1, ceil_mode=False)\n",
       "  (flatten): Flatten(start_dim=1, end_dim=-1)\n",
       "  (dense1): Linear(in_features=3136, out_features=100, bias=True)\n",
       "  (relu3): ReLU()\n",
       "  (dropout): Dropout(p=0.3, inplace=False)\n",
       "  (dense2): Linear(in_features=100, out_features=10, bias=True)\n",
       ")"
      ]
     },
     "execution_count": 14,
     "metadata": {},
     "output_type": "execute_result"
    }
   ],
   "source": [
    "# GPU 또는 CPU를 model 연결 \n",
    "device = torch.device(\"cuda\" if torch.cuda.is_available() else \"cpu\")\n",
    "model.to(device)"
   ]
  },
  {
   "cell_type": "code",
   "execution_count": 15,
   "id": "a3d9e6f9",
   "metadata": {},
   "outputs": [],
   "source": [
    "# 옵티마이저, 손실함수 \n",
    "import torch.optim as optim\n",
    "\n",
    "criterion = nn.CrossEntropyLoss()\n",
    "optimizer = optim.Adam(model.parameters())"
   ]
  },
  {
   "cell_type": "code",
   "execution_count": 16,
   "id": "61538ace",
   "metadata": {},
   "outputs": [],
   "source": [
    "# TensorDataset, DataLoader\n",
    "from torch.utils.data import TensorDataset, DataLoader\n",
    "\n",
    "train_dataset = TensorDataset(train_scaled, train_target)\n",
    "val_dataset = TensorDataset(val_scaled, val_target)\n",
    "\n",
    "train_loader = DataLoader(train_dataset, batch_size=32, shuffle=True)\n",
    "val_loader = DataLoader(val_dataset, batch_size=32, shuffle=False)"
   ]
  },
  {
   "cell_type": "code",
   "execution_count": 17,
   "id": "05f3bcef",
   "metadata": {},
   "outputs": [
    {
     "name": "stdout",
     "output_type": "stream",
     "text": [
      "에포크:1, 훈련손실:0.5308, 검증손실:0.3342\n",
      "에포크:2, 훈련손실:0.3431, 검증손실:0.2844\n",
      "에포크:3, 훈련손실:0.2933, 검증손실:0.2553\n",
      "에포크:4, 훈련손실:0.2655, 검증손실:0.2571\n",
      "에포크:5, 훈련손실:0.2353, 검증손실:0.2251\n",
      "에포크:6, 훈련손실:0.2155, 검증손실:0.2481\n",
      "에포크:7, 훈련손실:0.1971, 검증손실:0.2285\n",
      "7번째 에포크에서 조기 종료\n"
     ]
    }
   ],
   "source": [
    "# 훈련\n",
    "train_hist = []\n",
    "val_hist = []\n",
    "patience = 2\n",
    "best_loss = -1\n",
    "early_stopping_counter = 0\n",
    "\n",
    "epochs=20\n",
    "for epoch in range(epochs):\n",
    "    model.train()\n",
    "    train_loss = 0\n",
    "    for inputs, targets in train_loader:\n",
    "        inputs, targets = inputs.to(device), targets.to(device)\n",
    "        optimizer.zero_grad()\n",
    "        outputs = model(inputs)\n",
    "        loss = criterion(outputs, targets)\n",
    "        loss.backward()\n",
    "        optimizer.step()\n",
    "\n",
    "        train_loss += loss.item()\n",
    "    \n",
    "    model.eval()\n",
    "    val_loss = 0\n",
    "    with torch.no_grad():\n",
    "        for inputs, targets in val_loader:\n",
    "            inputs, targets = inputs.to(device), targets.to(device)\n",
    "            outputs = model(inputs)\n",
    "            loss = criterion(outputs, targets)\n",
    "            val_loss += loss.item()\n",
    "    \n",
    "    train_loss = train_loss / len(train_loader)\n",
    "    val_loss = val_loss / len(val_loader)\n",
    "    train_hist.append(train_loss)\n",
    "    val_hist.append(val_loss)\n",
    "\n",
    "    print(f\"에포크:{epoch+1}, 훈련손실:{train_loss:.4f}, 검증손실:{val_loss:.4f}\")\n",
    "\n",
    "    if best_loss == -1 or val_loss < best_loss:\n",
    "        best_loss = val_loss\n",
    "        early_stopping_counter = 0\n",
    "        torch.save(model.state_dict(), 'best_cnn_model.pt')\n",
    "    else:\n",
    "        early_stopping_counter += 1\n",
    "        if early_stopping_counter >= patience:\n",
    "            print(f\"{epoch+1}번째 에포크에서 조기 종료\")\n",
    "            break"
   ]
  },
  {
   "cell_type": "code",
   "execution_count": 18,
   "id": "fd03ea0e",
   "metadata": {},
   "outputs": [
    {
     "data": {
      "image/png": "[encoded data removed]",
      "text/plain": [
       "<Figure size 640x480 with 1 Axes>"
      ]
     },
     "metadata": {},
     "output_type": "display_data"
    }
   ],
   "source": [
    "import matplotlib.pyplot as plt\n",
    "\n",
    "plt.plot(train_hist, label='train')\n",
    "plt.plot(val_hist, label='val')\n",
    "plt.xlabel('epoch')\n",
    "plt.legend()\n",
    "plt.show()"
   ]
  },
  {
   "cell_type": "code",
   "execution_count": 20,
   "id": "f24393e7",
   "metadata": {},
   "outputs": [
    {
     "data": {
      "text/plain": [
       "<All keys matched successfully>"
      ]
     },
     "execution_count": 20,
     "metadata": {},
     "output_type": "execute_result"
    }
   ],
   "source": [
    "# 모델 가중치 불러오기 \n",
    "model.load_state_dict(torch.load('best_cnn_model.pt',  weights_only=True))"
   ]
  },
  {
   "cell_type": "code",
   "execution_count": 23,
   "id": "009749ba",
   "metadata": {},
   "outputs": [
    {
     "name": "stdout",
     "output_type": "stream",
     "text": [
      "검증 정확도:0.9143, 검증 손실: 0.2251\n"
     ]
    }
   ],
   "source": [
    "# 검증 세트의 loss(손실값), accuracy(정확도)\n",
    "model.eval()\n",
    "corrects = 0\n",
    "val_loss = 0\n",
    "with torch.no_grad():\n",
    "    for inputs, targets in val_loader:\n",
    "        inputs, targets = inputs.to(device), targets.to(device)\n",
    "        outputs = model(inputs)\n",
    "        predicts = torch.argmax(outputs, 1)\n",
    "        corrects += (predicts == targets).sum().item()\n",
    "\n",
    "        loss = criterion(outputs, targets)\n",
    "        val_loss += loss.item()\n",
    "\n",
    "accuracy = corrects / len(val_dataset)\n",
    "val_loss = val_loss /len(val_loader)\n",
    "print(f\"검증 정확도:{accuracy:.4f}, 검증 손실: {val_loss:.4f}\")"
   ]
  }
 ],
 "metadata": {
  "kernelspec": {
   "display_name": ".venv",
   "language": "python",
   "name": "python3"
  },
  "language_info": {
   "codemirror_mode": {
    "name": "ipython",
    "version": 3
   },
   "file_extension": ".py",
   "mimetype": "text/x-python",
   "name": "python",
   "nbconvert_exporter": "python",
   "pygments_lexer": "ipython3",
   "version": "3.12.10"
  }
 },
 "nbformat": 4,
 "nbformat_minor": 5
}
