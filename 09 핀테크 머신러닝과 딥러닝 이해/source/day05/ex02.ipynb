{
 "cells": [
  {
   "cell_type": "code",
   "execution_count": 2,
   "id": "3b4c6841",
   "metadata": {},
   "outputs": [],
   "source": [
    "import numpy as np\n",
    "fruits = np.array(['사과', '오렌지', '바나나', '멜론', '망고'])"
   ]
  },
  {
   "cell_type": "code",
   "execution_count": 4,
   "id": "b61a369c",
   "metadata": {},
   "outputs": [
    {
     "data": {
      "text/plain": [
       "array(['오렌지', '바나나'], dtype='<U3')"
      ]
     },
     "execution_count": 4,
     "metadata": {},
     "output_type": "execute_result"
    }
   ],
   "source": [
    "fruits[[False, True, True, False, False]]"
   ]
  },
  {
   "cell_type": "code",
   "execution_count": 5,
   "id": "2017b338",
   "metadata": {},
   "outputs": [
    {
     "data": {
      "text/plain": [
       "array(['사과', '오렌지', '바나나'], dtype='<U3')"
      ]
     },
     "execution_count": 5,
     "metadata": {},
     "output_type": "execute_result"
    }
   ],
   "source": [
    "fruits[[0,1,2]]"
   ]
  },
  {
   "cell_type": "code",
   "execution_count": null,
   "id": "5398615e",
   "metadata": {},
   "outputs": [],
   "source": []
  }
 ],
 "metadata": {
  "kernelspec": {
   "display_name": ".venv",
   "language": "python",
   "name": "python3"
  },
  "language_info": {
   "codemirror_mode": {
    "name": "ipython",
    "version": 3
   },
   "file_extension": ".py",
   "mimetype": "text/x-python",
   "name": "python",
   "nbconvert_exporter": "python",
   "pygments_lexer": "ipython3",
   "version": "3.12.10"
  }
 },
 "nbformat": 4,
 "nbformat_minor": 5
}
