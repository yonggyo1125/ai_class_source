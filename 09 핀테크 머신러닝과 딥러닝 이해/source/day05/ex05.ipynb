{
 "cells": [
  {
   "cell_type": "code",
   "execution_count": 1,
   "id": "f99e9e35",
   "metadata": {},
   "outputs": [],
   "source": [
    "from scipy.stats import randint, uniform"
   ]
  },
  {
   "cell_type": "code",
   "execution_count": 2,
   "id": "e4d2ff95",
   "metadata": {},
   "outputs": [
    {
     "data": {
      "text/plain": [
       "array([4, 5, 4, 4, 6, 9, 6, 3, 9, 9, 8])"
      ]
     },
     "execution_count": 2,
     "metadata": {},
     "output_type": "execute_result"
    }
   ],
   "source": [
    "ri = randint(0, 10) # 0~9 무작위 수\n",
    "ri.rvs(11) # 0~9사이 숫자 중 무작위 수를 11개 생성 "
   ]
  },
  {
   "cell_type": "code",
   "execution_count": 5,
   "id": "bcc4b224",
   "metadata": {},
   "outputs": [
    {
     "data": {
      "text/plain": [
       "(array([0, 1, 2, 3, 4, 5, 6, 7, 8, 9]),\n",
       " array([118, 117,  98,  92,  88,  90, 104,  98,  99,  96]))"
      ]
     },
     "execution_count": 5,
     "metadata": {},
     "output_type": "execute_result"
    }
   ],
   "source": [
    "import numpy as np\n",
    "\n",
    "np.unique(ri.rvs(1000), return_counts=True) # 중복된 총 갯수를 함께 반환 "
   ]
  },
  {
   "cell_type": "code",
   "execution_count": 6,
   "id": "a79360a4",
   "metadata": {},
   "outputs": [
    {
     "data": {
      "text/plain": [
       "array([0.17107306, 0.08469249, 0.03774359, 0.2513111 , 0.9393748 ])"
      ]
     },
     "execution_count": 6,
     "metadata": {},
     "output_type": "execute_result"
    }
   ],
   "source": [
    "ui = uniform(0, 1) # 0~1 사이의 무작위 실수\n",
    "ui.rvs(5) # 0~1 사이 무작위 실수를 5개 생성"
   ]
  },
  {
   "cell_type": "code",
   "execution_count": null,
   "id": "39a95379",
   "metadata": {},
   "outputs": [],
   "source": []
  }
 ],
 "metadata": {
  "kernelspec": {
   "display_name": ".venv",
   "language": "python",
   "name": "python3"
  },
  "language_info": {
   "codemirror_mode": {
    "name": "ipython",
    "version": 3
   },
   "file_extension": ".py",
   "mimetype": "text/x-python",
   "name": "python",
   "nbconvert_exporter": "python",
   "pygments_lexer": "ipython3",
   "version": "3.12.10"
  }
 },
 "nbformat": 4,
 "nbformat_minor": 5
}
