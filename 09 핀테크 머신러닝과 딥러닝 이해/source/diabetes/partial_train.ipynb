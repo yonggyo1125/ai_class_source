{
 "cells": [
  {
   "cell_type": "code",
   "execution_count": 2,
   "id": "f9ff02be",
   "metadata": {},
   "outputs": [
    {
     "name": "stdout",
     "output_type": "stream",
     "text": [
      "Collecting pymysql\n",
      "  Downloading PyMySQL-1.1.1-py3-none-any.whl.metadata (4.4 kB)\n",
      "Downloading PyMySQL-1.1.1-py3-none-any.whl (44 kB)\n",
      "Installing collected packages: pymysql\n",
      "Successfully installed pymysql-1.1.1\n"
     ]
    }
   ],
   "source": [
    "!pip install pymysql"
   ]
  },
  {
   "cell_type": "code",
   "execution_count": 3,
   "id": "fe5d2e5a",
   "metadata": {},
   "outputs": [],
   "source": [
    "import pymysql"
   ]
  },
  {
   "cell_type": "code",
   "execution_count": 6,
   "id": "ece0138b",
   "metadata": {},
   "outputs": [],
   "source": [
    "# DB 연결 connect(..)\n",
    "db = pymysql.connect(\n",
    "    host='localhost',\n",
    "    port=3306,\n",
    "    user='SECONDHAND',\n",
    "    passwd='1234',\n",
    "    db='SECONDHAND',\n",
    "    charset='utf8'\n",
    ")"
   ]
  },
  {
   "cell_type": "code",
   "execution_count": null,
   "id": "700d43e0",
   "metadata": {},
   "outputs": [],
   "source": [
    "# 쿼리 실행은 cursor 객체를 생성 \n",
    "# execute(...) : 모든 SQL INSERT, UPDATE, DELETE, SELECT \n",
    "# fetchone, fetchmany, fetchall : SELECT 구문을 사용한 경우 데이터 조회시\n",
    "# db객체 commit() : DB에 영구 반영"
   ]
  },
  {
   "cell_type": "code",
   "execution_count": 10,
   "id": "7978ec9f",
   "metadata": {},
   "outputs": [],
   "source": [
    "gender = {'FEMALE': 0, 'MALE': 1, 'OTHER': 2}\n",
    "\n",
    "\"\"\"\n",
    "No Info - 0\n",
    "current - 1\n",
    "ever - 2\n",
    "former - 3\n",
    "never - 4 \n",
    "not current - 5\n",
    "\"\"\"\n",
    "SH = {'NO_INFO': 0, 'CURRENT': 1, 'EVER': 2, 'FORMER': 3, 'NEVER': 4, 'NOT_CURRENT': 5}"
   ]
  },
  {
   "cell_type": "code",
   "execution_count": 12,
   "id": "e36cd3cf",
   "metadata": {},
   "outputs": [
    {
     "data": {
      "text/plain": [
       "array([[  1.  ,  41.  ,   0.  ,   0.  ,   2.  , 178.5 , 120.  ,  37.66,\n",
       "          8.2 , 126.  ,   1.  ],\n",
       "       [  1.  ,  41.  ,   0.  ,   0.  ,   2.  , 178.5 , 120.  ,  37.66,\n",
       "          8.2 , 126.  ,   1.  ],\n",
       "       [  1.  ,  40.  ,   0.  ,   0.  ,   1.  , 178.  ,  70.  ,  22.09,\n",
       "          3.9 ,  90.  ,   0.  ],\n",
       "       [  0.  ,  40.  ,   1.  ,   1.  ,   2.  , 160.  ,  60.  ,  23.44,\n",
       "          5.9 , 130.  ,   0.  ],\n",
       "       [  1.  ,  40.  ,   1.  ,   0.  ,   3.  , 180.  , 150.  ,  46.3 ,\n",
       "          3.9 , 140.  ,   0.  ]])"
      ]
     },
     "execution_count": 12,
     "metadata": {},
     "output_type": "execute_result"
    }
   ],
   "source": [
    "cursor = db.cursor()\n",
    "sql = \"SELECT * FROM SURVEY_DIABETES WHERE trainDone IS NULL OR trainDone = 0\"\n",
    "cursor.execute(sql)\n",
    "\n",
    "items = []\n",
    "rows = cursor.fetchall()\n",
    "for row in rows:\n",
    "    item = list(row[2:-4])\n",
    "    item[0] = gender[item[0]]\n",
    "    item[4] = SH[item[4]]\n",
    "\n",
    "    items.append(item)\n",
    "\n",
    "import numpy as np\n",
    "items = np.array(items)\n",
    "items\n",
    "    "
   ]
  },
  {
   "cell_type": "code",
   "execution_count": 5,
   "id": "e11cc624",
   "metadata": {},
   "outputs": [],
   "source": [
    "# DB 연결 해제 \n",
    "db.close()"
   ]
  },
  {
   "cell_type": "code",
   "execution_count": null,
   "id": "1d13344b",
   "metadata": {},
   "outputs": [],
   "source": []
  }
 ],
 "metadata": {
  "kernelspec": {
   "display_name": ".venv",
   "language": "python",
   "name": "python3"
  },
  "language_info": {
   "codemirror_mode": {
    "name": "ipython",
    "version": 3
   },
   "file_extension": ".py",
   "mimetype": "text/x-python",
   "name": "python",
   "nbconvert_exporter": "python",
   "pygments_lexer": "ipython3",
   "version": "3.12.10"
  }
 },
 "nbformat": 4,
 "nbformat_minor": 5
}
