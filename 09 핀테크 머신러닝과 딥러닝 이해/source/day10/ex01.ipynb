{
 "cells": [
  {
   "cell_type": "code",
   "execution_count": 1,
   "id": "4f7c2a4a",
   "metadata": {},
   "outputs": [],
   "source": [
    "import keras\n",
    "from sklearn.model_selection import train_test_split\n",
    "(train_input, train_target), (test_input, test_target) =\\\n",
    "     keras.datasets.fashion_mnist.load_data()"
   ]
  },
  {
   "cell_type": "code",
   "execution_count": 2,
   "id": "61070355",
   "metadata": {},
   "outputs": [],
   "source": [
    "# 정규화 0~1\n",
    "train_scaled = train_input / 255.0\n",
    "\n",
    "# 훈련세트, 검증 세트 \n",
    "train_scaled, val_scaled, train_target, val_target = train_test_split(\n",
    "    train_scaled, train_target, test_size=0.2, random_state=42\n",
    ")"
   ]
  },
  {
   "cell_type": "code",
   "execution_count": null,
   "id": "d952999d",
   "metadata": {},
   "outputs": [],
   "source": [
    "# 층을 구성하는 함수\n",
    "def model_fn(a_layer = None):\n",
    "    model = keras.layers.Input(shape=(28, 28))\n",
    "    model.add(keras.layers.Flatten())\n",
    "    model.add(keras.layers.Dense(100, activation='relu'))\n",
    "\n",
    "    if a_layer:\n",
    "        model.add(a_layer)\n",
    "\n",
    "    model.add(keras.layers.Dense(10, activation='softmax'))\n",
    "\n",
    "    return model"
   ]
  }
 ],
 "metadata": {
  "kernelspec": {
   "display_name": ".venv",
   "language": "python",
   "name": "python3"
  },
  "language_info": {
   "codemirror_mode": {
    "name": "ipython",
    "version": 3
   },
   "file_extension": ".py",
   "mimetype": "text/x-python",
   "name": "python",
   "nbconvert_exporter": "python",
   "pygments_lexer": "ipython3",
   "version": "3.12.10"
  }
 },
 "nbformat": 4,
 "nbformat_minor": 5
}
