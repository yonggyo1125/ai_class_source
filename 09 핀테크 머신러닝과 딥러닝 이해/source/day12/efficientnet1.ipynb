{
 "cells": [
  {
   "cell_type": "code",
   "execution_count": 1,
   "id": "90804e0b",
   "metadata": {},
   "outputs": [
    {
     "name": "stdout",
     "output_type": "stream",
     "text": [
      "Downloading data from https://storage.googleapis.com/keras-applications/efficientnetb0.h5\n",
      "\u001b[1m21834768/21834768\u001b[0m \u001b[32m━━━━━━━━━━━━━━━━━━━━\u001b[0m\u001b[37m\u001b[0m \u001b[1m1s\u001b[0m 0us/step\n"
     ]
    }
   ],
   "source": [
    "import keras\n",
    "\n",
    "# EfficientNet b0 사전 학습 모델 불러오기 \n",
    "model = keras.applications.EfficientNetB0()\n"
   ]
  },
  {
   "cell_type": "code",
   "execution_count": 2,
   "id": "55b93f91",
   "metadata": {},
   "outputs": [],
   "source": [
    "import numpy as np\n",
    "from PIL import Image\n",
    "\n",
    "dog_png = np.array(Image.open(\"images/dog.png\"))"
   ]
  },
  {
   "cell_type": "code",
   "execution_count": 3,
   "id": "934a2eb8",
   "metadata": {},
   "outputs": [
    {
     "data": {
      "text/plain": [
       "(1, 224, 224, 3)"
      ]
     },
     "execution_count": 3,
     "metadata": {},
     "output_type": "execute_result"
    }
   ],
   "source": [
    "dog_png = dog_png[np.newaxis,:]\n",
    "dog_png.shape"
   ]
  },
  {
   "cell_type": "code",
   "execution_count": 6,
   "id": "a0d2beca",
   "metadata": {},
   "outputs": [
    {
     "name": "stdout",
     "output_type": "stream",
     "text": [
      "\u001b[1m1/1\u001b[0m \u001b[32m━━━━━━━━━━━━━━━━━━━━\u001b[0m\u001b[37m\u001b[0m \u001b[1m4s\u001b[0m 4s/step\n"
     ]
    },
    {
     "data": {
      "text/plain": [
       "[[('n02099712', 'Labrador_retriever', np.float32(0.3682936)),\n",
       "  ('n02104029', 'kuvasz', np.float32(0.1933991)),\n",
       "  ('n02099601', 'golden_retriever', np.float32(0.061458245)),\n",
       "  ('n02111500', 'Great_Pyrenees', np.float32(0.05779687)),\n",
       "  ('n02095889', 'Sealyham_terrier', np.float32(0.017902792))]]"
      ]
     },
     "execution_count": 6,
     "metadata": {},
     "output_type": "execute_result"
    }
   ],
   "source": [
    "from keras.applications import efficientnet\n",
    "\n",
    "predictions = model.predict(dog_png)\n",
    "efficientnet.decode_predictions(predictions)"
   ]
  },
  {
   "cell_type": "code",
   "execution_count": null,
   "id": "a6306f03",
   "metadata": {},
   "outputs": [],
   "source": []
  }
 ],
 "metadata": {
  "kernelspec": {
   "display_name": ".venv",
   "language": "python",
   "name": "python3"
  },
  "language_info": {
   "codemirror_mode": {
    "name": "ipython",
    "version": 3
   },
   "file_extension": ".py",
   "mimetype": "text/x-python",
   "name": "python",
   "nbconvert_exporter": "python",
   "pygments_lexer": "ipython3",
   "version": "3.12.10"
  }
 },
 "nbformat": 4,
 "nbformat_minor": 5
}
