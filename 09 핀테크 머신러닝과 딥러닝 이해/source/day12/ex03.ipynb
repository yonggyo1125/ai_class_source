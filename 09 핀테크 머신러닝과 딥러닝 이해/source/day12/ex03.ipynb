{
 "cells": [
  {
   "cell_type": "code",
   "execution_count": 2,
   "id": "c26f37bf",
   "metadata": {},
   "outputs": [],
   "source": [
    "import torch\n",
    "import torch.nn as nn"
   ]
  },
  {
   "cell_type": "code",
   "execution_count": 3,
   "id": "b568cd61",
   "metadata": {},
   "outputs": [],
   "source": [
    "model = nn.Sequential()\n",
    "model.add_module('conv1', nn.Conv2d(1, 32, kernel_size=3, padding='same'))\n",
    "model.add_module('relu1', nn.ReLU())\n",
    "model.add_module('pool1', nn.MaxPool2d(2))\n",
    "model.add_module('conv2', nn.Conv2d(32, 64, kernel_size=3, padding='same'))\n",
    "model.add_module('relu2', nn.ReLU())\n",
    "model.add_module('pool2', nn.MaxPool2d(2))\n",
    "model.add_module('flatten', nn.Flatten())\n",
    "model.add_module('dense1', nn.Linear(3136, 100))\n",
    "model.add_module('relu3', nn.ReLU())\n",
    "model.add_module('dropout', nn.Dropout(0.3))\n",
    "model.add_module('dense2', nn.Linear(100, 10))"
   ]
  },
  {
   "cell_type": "code",
   "execution_count": 4,
   "id": "801ac6e5",
   "metadata": {},
   "outputs": [
    {
     "data": {
      "text/plain": [
       "<All keys matched successfully>"
      ]
     },
     "execution_count": 4,
     "metadata": {},
     "output_type": "execute_result"
    }
   ],
   "source": [
    "model.load_state_dict(torch.load('best_cnn_model.pt', weights_only=True))"
   ]
  },
  {
   "cell_type": "code",
   "execution_count": 8,
   "id": "09de3dd0",
   "metadata": {},
   "outputs": [],
   "source": [
    "# 모델의 층 목록 - model.children()\n",
    "layers = [layer for layer in model.children()]"
   ]
  },
  {
   "cell_type": "code",
   "execution_count": 9,
   "id": "dbdf4177",
   "metadata": {},
   "outputs": [
    {
     "data": {
      "text/plain": [
       "Conv2d(1, 32, kernel_size=(3, 3), stride=(1, 1), padding=same)"
      ]
     },
     "execution_count": 9,
     "metadata": {},
     "output_type": "execute_result"
    }
   ],
   "source": [
    "model.conv1"
   ]
  },
  {
   "cell_type": "code",
   "execution_count": null,
   "id": "529f1619",
   "metadata": {},
   "outputs": [],
   "source": [
    "# model.named_children() : (층의 이름, 층 객체)"
   ]
  },
  {
   "cell_type": "code",
   "execution_count": 10,
   "id": "f889ac6a",
   "metadata": {},
   "outputs": [
    {
     "name": "stdout",
     "output_type": "stream",
     "text": [
      "name: conv1 layer: Conv2d(1, 32, kernel_size=(3, 3), stride=(1, 1), padding=same)\n",
      "name: relu1 layer: ReLU()\n",
      "name: pool1 layer: MaxPool2d(kernel_size=2, stride=2, padding=0, dilation=1, ceil_mode=False)\n",
      "name: conv2 layer: Conv2d(32, 64, kernel_size=(3, 3), stride=(1, 1), padding=same)\n",
      "name: relu2 layer: ReLU()\n",
      "name: pool2 layer: MaxPool2d(kernel_size=2, stride=2, padding=0, dilation=1, ceil_mode=False)\n",
      "name: flatten layer: Flatten(start_dim=1, end_dim=-1)\n",
      "name: dense1 layer: Linear(in_features=3136, out_features=100, bias=True)\n",
      "name: relu3 layer: ReLU()\n",
      "name: dropout layer: Dropout(p=0.3, inplace=False)\n",
      "name: dense2 layer: Linear(in_features=100, out_features=10, bias=True)\n"
     ]
    }
   ],
   "source": [
    "for name, layer in model.named_children():\n",
    "    print(\"name:\", name, \"layer:\", layer)"
   ]
  },
  {
   "cell_type": "code",
   "execution_count": null,
   "id": "437cc840",
   "metadata": {},
   "outputs": [],
   "source": [
    "# 특성맵 시각화 - 첫번째 Conv 층 통과한 특성맵\n",
    "\n",
    "# 패션 MNIST 데이터 \n",
    "from torchvision.datasets import FashionMNIST\n",
    "\n",
    "fm_train = FashionMNIST(root='.', train=True, download=True)\n",
    "train_input = fm_train.data"
   ]
  }
 ],
 "metadata": {
  "kernelspec": {
   "display_name": ".venv",
   "language": "python",
   "name": "python3"
  },
  "language_info": {
   "codemirror_mode": {
    "name": "ipython",
    "version": 3
   },
   "file_extension": ".py",
   "mimetype": "text/x-python",
   "name": "python",
   "nbconvert_exporter": "python",
   "pygments_lexer": "ipython3",
   "version": "3.12.10"
  }
 },
 "nbformat": 4,
 "nbformat_minor": 5
}
