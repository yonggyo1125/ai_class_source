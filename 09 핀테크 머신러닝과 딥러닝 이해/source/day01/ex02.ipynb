{
 "cells": [
  {
   "cell_type": "code",
   "execution_count": 11,
   "id": "486b2e82",
   "metadata": {},
   "outputs": [],
   "source": [
    "from selenium import webdriver\n",
    "from selenium.webdriver.common.by import By\n",
    "import time"
   ]
  },
  {
   "cell_type": "code",
   "execution_count": 12,
   "id": "859ff709",
   "metadata": {},
   "outputs": [],
   "source": [
    "driver = webdriver.Chrome()\n",
    "driver.get(\"https://news.naver.com/section/105\")\n",
    "time.sleep(3)"
   ]
  },
  {
   "cell_type": "code",
   "execution_count": 13,
   "id": "2f508683",
   "metadata": {},
   "outputs": [
    {
     "data": {
      "text/plain": [
       "<selenium.webdriver.remote.webelement.WebElement (session=\"a134c20e8b51dc9f0cfe1082b2b168e5\", element=\"f.B9301181A4AAF4CF9069C32089143CE2.d.2E23328352531A1C51D6BE3CB52FBA83.e.80\")>"
      ]
     },
     "execution_count": 13,
     "metadata": {},
     "output_type": "execute_result"
    }
   ],
   "source": [
    "headline_section = driver.find_element(By.CLASS_NAME, 'as_headline')\n",
    "headline_section"
   ]
  },
  {
   "cell_type": "code",
   "execution_count": 14,
   "id": "f29cc4d8",
   "metadata": {},
   "outputs": [
    {
     "data": {
      "text/plain": [
       "[<selenium.webdriver.remote.webelement.WebElement (session=\"a134c20e8b51dc9f0cfe1082b2b168e5\", element=\"f.B9301181A4AAF4CF9069C32089143CE2.d.2E23328352531A1C51D6BE3CB52FBA83.e.81\")>,\n",
       " <selenium.webdriver.remote.webelement.WebElement (session=\"a134c20e8b51dc9f0cfe1082b2b168e5\", element=\"f.B9301181A4AAF4CF9069C32089143CE2.d.2E23328352531A1C51D6BE3CB52FBA83.e.82\")>,\n",
       " <selenium.webdriver.remote.webelement.WebElement (session=\"a134c20e8b51dc9f0cfe1082b2b168e5\", element=\"f.B9301181A4AAF4CF9069C32089143CE2.d.2E23328352531A1C51D6BE3CB52FBA83.e.83\")>,\n",
       " <selenium.webdriver.remote.webelement.WebElement (session=\"a134c20e8b51dc9f0cfe1082b2b168e5\", element=\"f.B9301181A4AAF4CF9069C32089143CE2.d.2E23328352531A1C51D6BE3CB52FBA83.e.84\")>,\n",
       " <selenium.webdriver.remote.webelement.WebElement (session=\"a134c20e8b51dc9f0cfe1082b2b168e5\", element=\"f.B9301181A4AAF4CF9069C32089143CE2.d.2E23328352531A1C51D6BE3CB52FBA83.e.85\")>,\n",
       " <selenium.webdriver.remote.webelement.WebElement (session=\"a134c20e8b51dc9f0cfe1082b2b168e5\", element=\"f.B9301181A4AAF4CF9069C32089143CE2.d.2E23328352531A1C51D6BE3CB52FBA83.e.86\")>,\n",
       " <selenium.webdriver.remote.webelement.WebElement (session=\"a134c20e8b51dc9f0cfe1082b2b168e5\", element=\"f.B9301181A4AAF4CF9069C32089143CE2.d.2E23328352531A1C51D6BE3CB52FBA83.e.87\")>,\n",
       " <selenium.webdriver.remote.webelement.WebElement (session=\"a134c20e8b51dc9f0cfe1082b2b168e5\", element=\"f.B9301181A4AAF4CF9069C32089143CE2.d.2E23328352531A1C51D6BE3CB52FBA83.e.88\")>]"
      ]
     },
     "execution_count": 14,
     "metadata": {},
     "output_type": "execute_result"
    }
   ],
   "source": [
    "items = headline_section.find_elements(By.CLASS_NAME, 'sa_text_strong')\n",
    "items"
   ]
  },
  {
   "cell_type": "code",
   "execution_count": 15,
   "id": "b340223e",
   "metadata": {},
   "outputs": [
    {
     "name": "stdout",
     "output_type": "stream",
     "text": [
      "NHN클라우드, 올해 공공 클라우드 전환사업 7개 중 5개 맡아\n",
      "‘쇠구슬 굴려 이산화탄소를 천연가스로’ 기계화학 저온 공정 개발\n",
      "애플, 12년 만에 운영 체제 개편...반투명 디자인 도입했지만 새로운 제품 발표 없어\n",
      "프렌들리AI, 글로벌 시장 공략 가속… “세계가 주목한 AI 추론 가속화 기술”\n",
      "메가존클라우드, '래빗워크' 고성능 콘텐츠 제작 지원\n",
      "LGU+, 안전한 AI 개발·운용 글로벌 인증…AI 경쟁력 강화\n",
      "크래프톤 '인조이', 애플 맥 OS서도 즐긴다\n",
      "\"더 얇고 가볍고 강하다\" 삼성, 갤럭시 Z 폴드 7 2차 티저 공개\n"
     ]
    }
   ],
   "source": [
    "for item in items:\n",
    "    print(item.text)"
   ]
  },
  {
   "cell_type": "code",
   "execution_count": 16,
   "id": "8f546979",
   "metadata": {},
   "outputs": [
    {
     "data": {
      "text/plain": [
       "[<selenium.webdriver.remote.webelement.WebElement (session=\"a134c20e8b51dc9f0cfe1082b2b168e5\", element=\"f.B9301181A4AAF4CF9069C32089143CE2.d.2E23328352531A1C51D6BE3CB52FBA83.e.19\")>,\n",
       " <selenium.webdriver.remote.webelement.WebElement (session=\"a134c20e8b51dc9f0cfe1082b2b168e5\", element=\"f.B9301181A4AAF4CF9069C32089143CE2.d.2E23328352531A1C51D6BE3CB52FBA83.e.20\")>,\n",
       " <selenium.webdriver.remote.webelement.WebElement (session=\"a134c20e8b51dc9f0cfe1082b2b168e5\", element=\"f.B9301181A4AAF4CF9069C32089143CE2.d.2E23328352531A1C51D6BE3CB52FBA83.e.21\")>,\n",
       " <selenium.webdriver.remote.webelement.WebElement (session=\"a134c20e8b51dc9f0cfe1082b2b168e5\", element=\"f.B9301181A4AAF4CF9069C32089143CE2.d.2E23328352531A1C51D6BE3CB52FBA83.e.22\")>,\n",
       " <selenium.webdriver.remote.webelement.WebElement (session=\"a134c20e8b51dc9f0cfe1082b2b168e5\", element=\"f.B9301181A4AAF4CF9069C32089143CE2.d.2E23328352531A1C51D6BE3CB52FBA83.e.23\")>,\n",
       " <selenium.webdriver.remote.webelement.WebElement (session=\"a134c20e8b51dc9f0cfe1082b2b168e5\", element=\"f.B9301181A4AAF4CF9069C32089143CE2.d.2E23328352531A1C51D6BE3CB52FBA83.e.24\")>,\n",
       " <selenium.webdriver.remote.webelement.WebElement (session=\"a134c20e8b51dc9f0cfe1082b2b168e5\", element=\"f.B9301181A4AAF4CF9069C32089143CE2.d.2E23328352531A1C51D6BE3CB52FBA83.e.25\")>]"
      ]
     },
     "execution_count": 16,
     "metadata": {},
     "output_type": "execute_result"
    }
   ],
   "source": [
    "images = driver.find_elements(By.CSS_SELECTOR, \".as_headline .sa_thumb_link img\")\n",
    "images"
   ]
  },
  {
   "cell_type": "code",
   "execution_count": 17,
   "id": "adf61d10",
   "metadata": {},
   "outputs": [],
   "source": [
    "from urllib.request import urlretrieve\n",
    "\n",
    "for i, image in enumerate(images):\n",
    "    image_url = image.get_attribute('src')\n",
    "    urlretrieve(image_url, f\"C:/uploads/{i}.jpg\")"
   ]
  },
  {
   "cell_type": "code",
   "execution_count": 21,
   "id": "9c94327b",
   "metadata": {},
   "outputs": [],
   "source": [
    "from bs4 import BeautifulSoup as bs\n",
    "\n",
    "html = driver.page_source\n",
    "soup = bs(html, 'html.parser')\n"
   ]
  },
  {
   "cell_type": "code",
   "execution_count": 22,
   "id": "78aab5a0",
   "metadata": {},
   "outputs": [],
   "source": [
    "# 자바스크립트 실행 \n",
    "driver.execute_script(\"alert('자바스크립트 실행!');\")"
   ]
  }
 ],
 "metadata": {
  "kernelspec": {
   "display_name": ".venv",
   "language": "python",
   "name": "python3"
  },
  "language_info": {
   "codemirror_mode": {
    "name": "ipython",
    "version": 3
   },
   "file_extension": ".py",
   "mimetype": "text/x-python",
   "name": "python",
   "nbconvert_exporter": "python",
   "pygments_lexer": "ipython3",
   "version": "3.12.10"
  }
 },
 "nbformat": 4,
 "nbformat_minor": 5
}
