{
 "cells": [
  {
   "cell_type": "code",
   "execution_count": 9,
   "id": "037a8098",
   "metadata": {},
   "outputs": [],
   "source": [
    "from selenium import webdriver\n",
    "from selenium.webdriver.common.by import By\n",
    "from selenium.webdriver.common.keys import Keys\n",
    "import time\n",
    "\n",
    "driver = webdriver.Chrome()\n",
    "\n",
    "# 브라우저의 주소창을 변경하고 이동 \n",
    "driver.get('https://www.naver.com')\n",
    "\n",
    "time.sleep(3)"
   ]
  },
  {
   "cell_type": "code",
   "execution_count": 10,
   "id": "3ce62529",
   "metadata": {},
   "outputs": [
    {
     "data": {
      "text/plain": [
       "<selenium.webdriver.remote.webelement.WebElement (session=\"0c6c938040e0c13d4c68863187565bff\", element=\"f.DCFC739BAB11927B4EF5E6E43A9861C7.d.FB9CAACC545929BBE5500551A26C226C.e.4\")>"
      ]
     },
     "execution_count": 10,
     "metadata": {},
     "output_type": "execute_result"
    }
   ],
   "source": [
    "search_box = driver.find_element(By.ID, \"query\")\n",
    "search_box"
   ]
  },
  {
   "cell_type": "code",
   "execution_count": 11,
   "id": "7c7b0aa6",
   "metadata": {},
   "outputs": [],
   "source": [
    "search_box.send_keys(\"블로그\")\n",
    "search_box.send_keys(Keys.ENTER) # 엔터키"
   ]
  },
  {
   "cell_type": "code",
   "execution_count": 12,
   "id": "71dd718f",
   "metadata": {},
   "outputs": [],
   "source": [
    "\n",
    "#search_btn = driver.find_element(By.CLASS_NAME, 'btn_search')\n",
    "#search_btn.click()"
   ]
  }
 ],
 "metadata": {
  "kernelspec": {
   "display_name": ".venv",
   "language": "python",
   "name": "python3"
  },
  "language_info": {
   "codemirror_mode": {
    "name": "ipython",
    "version": 3
   },
   "file_extension": ".py",
   "mimetype": "text/x-python",
   "name": "python",
   "nbconvert_exporter": "python",
   "pygments_lexer": "ipython3",
   "version": "3.12.10"
  }
 },
 "nbformat": 4,
 "nbformat_minor": 5
}
