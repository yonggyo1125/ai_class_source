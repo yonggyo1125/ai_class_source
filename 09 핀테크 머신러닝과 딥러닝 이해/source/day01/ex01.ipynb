{
 "cells": [
  {
   "cell_type": "code",
   "execution_count": 14,
   "id": "037a8098",
   "metadata": {},
   "outputs": [],
   "source": [
    "from selenium import webdriver\n",
    "from selenium.webdriver.common.by import By\n",
    "from selenium.webdriver.common.keys import Keys\n",
    "import time\n",
    "\n",
    "driver = webdriver.Chrome()\n",
    "\n",
    "# 브라우저의 주소창을 변경하고 이동 \n",
    "driver.get('https://www.naver.com')\n",
    "\n",
    "time.sleep(3)"
   ]
  },
  {
   "cell_type": "code",
   "execution_count": 15,
   "id": "3ce62529",
   "metadata": {},
   "outputs": [
    {
     "data": {
      "text/plain": [
       "<selenium.webdriver.remote.webelement.WebElement (session=\"8b275ab05e574949c19ee5038e1bded8\", element=\"f.67D122FB1651A3DD27406779448C08E4.d.F5F5592ECF34B1BC1A66EF2C1FA7842F.e.4\")>"
      ]
     },
     "execution_count": 15,
     "metadata": {},
     "output_type": "execute_result"
    }
   ],
   "source": [
    "#search_box = driver.find_element(By.ID, \"query\")\n",
    "search_box = driver.find_element(By.XPATH, \"//form[@id='sform']/fieldset/div/input\")\n",
    "search_box"
   ]
  },
  {
   "cell_type": "code",
   "execution_count": 16,
   "id": "7c7b0aa6",
   "metadata": {},
   "outputs": [],
   "source": [
    "search_box.send_keys(\"블로그\")\n",
    "search_box.send_keys(Keys.ENTER) # 엔터키"
   ]
  },
  {
   "cell_type": "code",
   "execution_count": 17,
   "id": "71dd718f",
   "metadata": {},
   "outputs": [],
   "source": [
    "\n",
    "#search_btn = driver.find_element(By.CLASS_NAME, 'btn_search')\n",
    "#search_btn.click()"
   ]
  }
 ],
 "metadata": {
  "kernelspec": {
   "display_name": ".venv",
   "language": "python",
   "name": "python3"
  },
  "language_info": {
   "codemirror_mode": {
    "name": "ipython",
    "version": 3
   },
   "file_extension": ".py",
   "mimetype": "text/x-python",
   "name": "python",
   "nbconvert_exporter": "python",
   "pygments_lexer": "ipython3",
   "version": "3.12.10"
  }
 },
 "nbformat": 4,
 "nbformat_minor": 5
}
