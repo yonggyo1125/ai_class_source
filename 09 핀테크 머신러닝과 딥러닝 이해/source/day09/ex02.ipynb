{
 "cells": [
  {
   "cell_type": "code",
   "execution_count": 2,
   "id": "530be042",
   "metadata": {},
   "outputs": [],
   "source": [
    "# 원-핫 인코딩(One-Hot Encoding) : 다중 분류에서 0, 1로 바꾸는 기법\n",
    "import keras\n",
    "import numpy as np"
   ]
  },
  {
   "cell_type": "code",
   "execution_count": 14,
   "id": "90d67fb9",
   "metadata": {},
   "outputs": [],
   "source": [
    "targets = np.array([3, 2, 0, 1])\n",
    "targerts_encoded = keras.utils.to_categorical(targets) # 원-핫 인코딩 변환"
   ]
  },
  {
   "cell_type": "code",
   "execution_count": 15,
   "id": "115c7b1d",
   "metadata": {},
   "outputs": [
    {
     "data": {
      "text/plain": [
       "array([[0., 0., 0., 1.],\n",
       "       [0., 0., 1., 0.],\n",
       "       [1., 0., 0., 0.],\n",
       "       [0., 1., 0., 0.]])"
      ]
     },
     "execution_count": 15,
     "metadata": {},
     "output_type": "execute_result"
    }
   ],
   "source": [
    "targerts_encoded"
   ]
  }
 ],
 "metadata": {
  "kernelspec": {
   "display_name": ".venv",
   "language": "python",
   "name": "python3"
  },
  "language_info": {
   "codemirror_mode": {
    "name": "ipython",
    "version": 3
   },
   "file_extension": ".py",
   "mimetype": "text/x-python",
   "name": "python",
   "nbconvert_exporter": "python",
   "pygments_lexer": "ipython3",
   "version": "3.12.10"
  }
 },
 "nbformat": 4,
 "nbformat_minor": 5
}
