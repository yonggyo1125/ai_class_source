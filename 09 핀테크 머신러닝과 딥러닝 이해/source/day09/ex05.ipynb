{
 "cells": [
  {
   "cell_type": "code",
   "execution_count": 2,
   "id": "5f54178b",
   "metadata": {},
   "outputs": [
    {
     "name": "stderr",
     "output_type": "stream",
     "text": [
      "100.0%\n",
      "100.0%\n",
      "100.0%\n",
      "100.0%\n"
     ]
    }
   ],
   "source": [
    "import torch\n",
    "from torchvision.datasets import FashionMNIST\n",
    "fm_train = FashionMNIST(root='.', train=True, download=True) # 훈련세트\n",
    "fm_test = FashionMNIST(root='.', train=False, download=True) # 테스트세트"
   ]
  },
  {
   "cell_type": "code",
   "execution_count": 5,
   "id": "2755f3d1",
   "metadata": {},
   "outputs": [
    {
     "data": {
      "text/plain": [
       "torch.Tensor"
      ]
     },
     "execution_count": 5,
     "metadata": {},
     "output_type": "execute_result"
    }
   ],
   "source": [
    "type(fm_train.data)"
   ]
  },
  {
   "cell_type": "code",
   "execution_count": 7,
   "id": "0f4d763b",
   "metadata": {},
   "outputs": [
    {
     "name": "stdout",
     "output_type": "stream",
     "text": [
      "torch.Size([60000, 28, 28]) torch.Size([10000, 28, 28])\n",
      "torch.Size([60000]) torch.Size([10000])\n"
     ]
    }
   ],
   "source": [
    "# 훈련세트, 테스트 세트 갯수  \n",
    "print(fm_train.data.shape, fm_test.data.shape)\n",
    "print(fm_train.targets.shape, fm_test.targets.shape)"
   ]
  },
  {
   "cell_type": "code",
   "execution_count": 8,
   "id": "84675201",
   "metadata": {},
   "outputs": [],
   "source": [
    "train_input = fm_train.data\n",
    "train_target = fm_train.targets"
   ]
  },
  {
   "cell_type": "code",
   "execution_count": 9,
   "id": "ef50a284",
   "metadata": {},
   "outputs": [],
   "source": [
    "# 정규화 - 0 ~ 1\n",
    "train_scaled = train_input / 255.0"
   ]
  },
  {
   "cell_type": "code",
   "execution_count": 10,
   "id": "c5eb1faa",
   "metadata": {},
   "outputs": [],
   "source": [
    "# 훈련세트, 검증 세트 \n",
    "from sklearn.model_selection import train_test_split\n",
    "\n",
    "train_scaled, val_scaled, train_target, val_target = train_test_split(\n",
    "    train_scaled, train_target, test_size=0.2, random_state=42\n",
    ")"
   ]
  },
  {
   "cell_type": "code",
   "execution_count": 11,
   "id": "bd7279eb",
   "metadata": {},
   "outputs": [],
   "source": [
    "# 층 구성 \n",
    "import torch.nn as nn\n",
    "\n",
    "model = nn.Sequential(\n",
    "    nn.Flatten(),\n",
    "    nn.Linear(784, 100),\n",
    "    nn.ReLU(),\n",
    "    nn.Linear(100, 10)\n",
    ")\n"
   ]
  },
  {
   "cell_type": "code",
   "execution_count": 12,
   "id": "b0db8c20",
   "metadata": {},
   "outputs": [
    {
     "data": {
      "text/plain": [
       "==========================================================================================\n",
       "Layer (type:depth-idx)                   Output Shape              Param #\n",
       "==========================================================================================\n",
       "Sequential                               [32, 10]                  --\n",
       "├─Flatten: 1-1                           [32, 784]                 --\n",
       "├─Linear: 1-2                            [32, 100]                 78,500\n",
       "├─ReLU: 1-3                              [32, 100]                 --\n",
       "├─Linear: 1-4                            [32, 10]                  1,010\n",
       "==========================================================================================\n",
       "Total params: 79,510\n",
       "Trainable params: 79,510\n",
       "Non-trainable params: 0\n",
       "Total mult-adds (Units.MEGABYTES): 2.54\n",
       "==========================================================================================\n",
       "Input size (MB): 0.10\n",
       "Forward/backward pass size (MB): 0.03\n",
       "Params size (MB): 0.32\n",
       "Estimated Total Size (MB): 0.45\n",
       "=========================================================================================="
      ]
     },
     "execution_count": 12,
     "metadata": {},
     "output_type": "execute_result"
    }
   ],
   "source": [
    "# 층 구성 요약 정보  - input_size=(배치 사이즈, ....)\n",
    "from torchinfo import summary\n",
    "summary(model, input_size=(32, 28, 28))"
   ]
  },
  {
   "cell_type": "markdown",
   "id": "e6d5a36e",
   "metadata": {},
   "source": [
    "# 맥 - mps / 그래픽 가속기 \n",
    "```python\n",
    "device = torch.device(\"mps\" if torch.backends.mps.is_available() else \"cpu\")\n",
    "```"
   ]
  },
  {
   "cell_type": "code",
   "execution_count": 14,
   "id": "56e833f1",
   "metadata": {},
   "outputs": [
    {
     "data": {
      "text/plain": [
       "Sequential(\n",
       "  (0): Flatten(start_dim=1, end_dim=-1)\n",
       "  (1): Linear(in_features=784, out_features=100, bias=True)\n",
       "  (2): ReLU()\n",
       "  (3): Linear(in_features=100, out_features=10, bias=True)\n",
       ")"
      ]
     },
     "execution_count": 14,
     "metadata": {},
     "output_type": "execute_result"
    }
   ],
   "source": [
    "# GPU 또는 CPU 사용 설정 \n",
    "device = torch.device(\"cuda\" if torch.cuda.is_available() else \"cpu\")\n",
    "model.to(device) # 모델에 GPU 또는  CPU 연산 설정"
   ]
  },
  {
   "cell_type": "markdown",
   "id": "45888ed5",
   "metadata": {},
   "source": [
    "## 분류 손실 함수\n",
    "- 이진 분류 : nn.BCELoss() : 손실 함수 + 출력함수(sigmoid)\n",
    "- 다중 분류 : nn.CrossEntropyLoss() : 손실 함수 + 출력함수(softmax)"
   ]
  },
  {
   "cell_type": "code",
   "execution_count": 15,
   "id": "75fe93fd",
   "metadata": {},
   "outputs": [],
   "source": [
    "# 손실함수, 옵티마이저 \n",
    "import torch.optim as optim\n",
    "\n",
    "criterion = nn.CrossEntropyLoss() # 손실 함수 - Categorical Crossentropy\n",
    "optimizer = optim.Adam(model.parameters())"
   ]
  },
  {
   "cell_type": "code",
   "execution_count": 16,
   "id": "30541153",
   "metadata": {},
   "outputs": [
    {
     "name": "stdout",
     "output_type": "stream",
     "text": [
      "에포크:1, 손실값: 0.5459\n",
      "에포크:2, 손실값: 0.4018\n",
      "에포크:3, 손실값: 0.3602\n",
      "에포크:4, 손실값: 0.3330\n",
      "에포크:5, 손실값: 0.3126\n"
     ]
    }
   ],
   "source": [
    "# 학습 \n",
    "epochs=5\n",
    "batches = int(len(train_scaled) / 32) # 1500\n",
    "for epoch in range(epochs): \n",
    "    model.train() # 학습 시작을 알려줌\n",
    "    train_loss = 0 \n",
    "    for i in range(batches): # 미니배치 경사 하강법 \n",
    "        inputs = train_scaled[i*32:(i+1)*32].to(device)\n",
    "        targets = train_target[i*32:(i+1)*32].to(device)\n",
    "\n",
    "        optimizer.zero_grad() # 그레디언트 초기화 \n",
    "        outputs = model(inputs) # 추론\n",
    "\n",
    "        loss = criterion(outputs, targets) # 손실값 \n",
    "        loss.backward() # 역전파 \n",
    "        optimizer.step() # 모델 파라미터 업데이트 (가중치, 절편)\n",
    "        train_loss += loss.item() # 현재 배치의 로스값을 추가 \n",
    "    print(f\"에포크:{epoch+1}, 손실값: {train_loss / batches:.4f}\")"
   ]
  },
  {
   "cell_type": "code",
   "execution_count": 23,
   "id": "d6aa6366",
   "metadata": {},
   "outputs": [
    {
     "name": "stdout",
     "output_type": "stream",
     "text": [
      "정확도:0.8726\n"
     ]
    }
   ],
   "source": [
    "model.eval() # 모델 평가 \n",
    "with torch.no_grad(): # 평가시에는 그레디언트 연산 X \n",
    "    val_scaled = val_scaled.to(device)\n",
    "    val_target = val_target.to(device)\n",
    "    outputs = model(val_scaled)\n",
    "    predicts = torch.argmax(outputs, 1)\n",
    "    corrects = (predicts == val_target).sum().item() # True은 1로 연산, 정답 갯수 \n",
    "    accuracy = corrects / len(val_target)\n",
    "    print(f\"정확도:{accuracy:.4f}\")"
   ]
  }
 ],
 "metadata": {
  "kernelspec": {
   "display_name": ".venv",
   "language": "python",
   "name": "python3"
  },
  "language_info": {
   "codemirror_mode": {
    "name": "ipython",
    "version": 3
   },
   "file_extension": ".py",
   "mimetype": "text/x-python",
   "name": "python",
   "nbconvert_exporter": "python",
   "pygments_lexer": "ipython3",
   "version": "3.12.10"
  }
 },
 "nbformat": 4,
 "nbformat_minor": 5
}
