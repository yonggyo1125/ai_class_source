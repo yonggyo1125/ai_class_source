{
 "cells": [
  {
   "cell_type": "code",
   "execution_count": 28,
   "id": "72c0fdaa",
   "metadata": {},
   "outputs": [],
   "source": [
    "import json\n",
    "from datasets import Dataset\n",
    "\n",
    "# 카테고리 불러오기\n",
    "with open(\"processed/category.json\", \"r\") as f:\n",
    "    category = json.load(f)"
   ]
  },
  {
   "cell_type": "code",
   "execution_count": 29,
   "id": "4505e3d9",
   "metadata": {},
   "outputs": [
    {
     "name": "stderr",
     "output_type": "stream",
     "text": [
      "Device set to use cpu\n"
     ]
    }
   ],
   "source": [
    "from transformers import AutoModelForSequenceClassification, AutoTokenizer, pipeline\n",
    "model = AutoModelForSequenceClassification.from_pretrained(\"bert_sentimental/checkpoint-163930\", num_labels=len(category))\n",
    "# 토크나이저 \n",
    "tokenizer = AutoTokenizer.from_pretrained('bongsoo/bert-small-kor-v1')\n",
    "\n",
    "pipe = pipeline(\"text-classification\", model, tokenizer=tokenizer)"
   ]
  },
  {
   "cell_type": "code",
   "execution_count": 30,
   "id": "d6201b24",
   "metadata": {},
   "outputs": [],
   "source": [
    "predictions = pipe(\"오늘은 좋은날\")"
   ]
  },
  {
   "cell_type": "code",
   "execution_count": 33,
   "id": "86fc9689",
   "metadata": {},
   "outputs": [
    {
     "data": {
      "text/plain": [
       "'기쁨 편안한'"
      ]
     },
     "execution_count": 33,
     "metadata": {},
     "output_type": "execute_result"
    }
   ],
   "source": [
    "pred = int(predictions[0]['label'].replace(\"LABEL_\", \"\"))\n",
    "\n",
    "category[pred]"
   ]
  }
 ],
 "metadata": {
  "kernelspec": {
   "display_name": ".venv",
   "language": "python",
   "name": "python3"
  },
  "language_info": {
   "codemirror_mode": {
    "name": "ipython",
    "version": 3
   },
   "file_extension": ".py",
   "mimetype": "text/x-python",
   "name": "python",
   "nbconvert_exporter": "python",
   "pygments_lexer": "ipython3",
   "version": "3.12.10"
  }
 },
 "nbformat": 4,
 "nbformat_minor": 5
}
