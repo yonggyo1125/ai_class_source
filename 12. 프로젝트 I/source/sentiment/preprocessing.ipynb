{
 "cells": [
  {
   "cell_type": "code",
   "execution_count": 27,
   "id": "c0cea574",
   "metadata": {},
   "outputs": [],
   "source": [
    "import json\n",
    "import pandas as pd\n",
    "\n",
    "data1 = pd.read_excel(\"data/Training.xlsx\")\n",
    "data2 = pd.read_excel(\"data/Validation.xlsx\")\n",
    "raw_data = pd.concat([data1, data2])\n",
    "raw_data = raw_data[['감정_대분류', '감정_소분류', '사람문장1', '사람문장2', '사람문장3']]\n",
    "raw_data['분류'] = raw_data['감정_대분류'] + raw_data['감정_소분류']"
   ]
  },
  {
   "cell_type": "code",
   "execution_count": 28,
   "id": "1c72eb77",
   "metadata": {},
   "outputs": [],
   "source": [
    "# 감정 분류\n",
    "category = raw_data['분류'].unique().tolist()\n",
    "_category = {}\n",
    "for i, c in enumerate(category):\n",
    "    _category[c] = i\n",
    "\n",
    "# 분류 저장\n",
    "with open(\"processed/category.json\", \"w\") as f:\n",
    "    json.dump(category, f)"
   ]
  },
  {
   "cell_type": "code",
   "execution_count": 29,
   "id": "d33ef5f4",
   "metadata": {},
   "outputs": [],
   "source": [
    "# 학습을 위한 데이터 구조로 전처리\n",
    "raw_data = raw_data.to_numpy()\n",
    "data = []\n",
    "id = 0\n",
    "for item in raw_data:\n",
    "    label = _category[item[5]]\n",
    "    for _item in [item[2], item[3], item[4]]:\n",
    "        if not _item or str(_item) == 'nan': \n",
    "            continue\n",
    "\n",
    "        data.append({'id': id, 'document': _item, 'label': label})\n",
    "        id += 1"
   ]
  },
  {
   "cell_type": "code",
   "execution_count": 30,
   "id": "8e74dfc8",
   "metadata": {},
   "outputs": [],
   "source": [
    "# 데이터 저장\n",
    "with open(\"processed/data.json\", \"w\") as f:\n",
    "    json.dump(data, f)"
   ]
  }
 ],
 "metadata": {
  "kernelspec": {
   "display_name": ".venv",
   "language": "python",
   "name": "python3"
  },
  "language_info": {
   "codemirror_mode": {
    "name": "ipython",
    "version": 3
   },
   "file_extension": ".py",
   "mimetype": "text/x-python",
   "name": "python",
   "nbconvert_exporter": "python",
   "pygments_lexer": "ipython3",
   "version": "3.12.10"
  }
 },
 "nbformat": 4,
 "nbformat_minor": 5
}
