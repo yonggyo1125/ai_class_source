{
 "cells": [
  {
   "cell_type": "code",
   "execution_count": 7,
   "id": "a2bb559b",
   "metadata": {},
   "outputs": [
    {
     "data": {
      "text/html": [
       "<div>\n",
       "<style scoped>\n",
       "    .dataframe tbody tr th:only-of-type {\n",
       "        vertical-align: middle;\n",
       "    }\n",
       "\n",
       "    .dataframe tbody tr th {\n",
       "        vertical-align: top;\n",
       "    }\n",
       "\n",
       "    .dataframe thead th {\n",
       "        text-align: right;\n",
       "    }\n",
       "</style>\n",
       "<table border=\"1\" class=\"dataframe\">\n",
       "  <thead>\n",
       "    <tr style=\"text-align: right;\">\n",
       "      <th></th>\n",
       "      <th>Unnamed: 0</th>\n",
       "      <th>Dialogue</th>\n",
       "    </tr>\n",
       "  </thead>\n",
       "  <tbody>\n",
       "    <tr>\n",
       "      <th>0</th>\n",
       "      <td>0</td>\n",
       "      <td>﻿Ross was in love\\n</td>\n",
       "    </tr>\n",
       "    <tr>\n",
       "      <th>1</th>\n",
       "      <td>1</td>\n",
       "      <td>with Rachel since forever.\\n</td>\n",
       "    </tr>\n",
       "    <tr>\n",
       "      <th>2</th>\n",
       "      <td>2</td>\n",
       "      <td>Every time he tried to tell her,\\n</td>\n",
       "    </tr>\n",
       "    <tr>\n",
       "      <th>3</th>\n",
       "      <td>3</td>\n",
       "      <td>something got in the way...\\n</td>\n",
       "    </tr>\n",
       "    <tr>\n",
       "      <th>4</th>\n",
       "      <td>4</td>\n",
       "      <td>...like cats, Italian guys.\\n</td>\n",
       "    </tr>\n",
       "  </tbody>\n",
       "</table>\n",
       "</div>"
      ],
      "text/plain": [
       "   Unnamed: 0                            Dialogue\n",
       "0           0                 ﻿Ross was in love\\n\n",
       "1           1        with Rachel since forever.\\n\n",
       "2           2  Every time he tried to tell her,\\n\n",
       "3           3       something got in the way...\\n\n",
       "4           4       ...like cats, Italian guys.\\n"
      ]
     },
     "execution_count": 7,
     "metadata": {},
     "output_type": "execute_result"
    }
   ],
   "source": [
    "import numpy as np\n",
    "import pandas as pd\n",
    "from googletrans import Translator\n",
    "raw_data = pd.read_csv(\"data/friends.csv\")\n",
    "raw_data.head()"
   ]
  },
  {
   "cell_type": "code",
   "execution_count": null,
   "id": "f7bc7038",
   "metadata": {},
   "outputs": [
    {
     "name": "stdout",
     "output_type": "stream",
     "text": [
      "Invalid input ConnectionInputs.RECV_PING in state ConnectionState.CLOSED\n",
      "나는 그가 제거 할 준비가되었다고 생각합니다\n",
      "Invalid input ConnectionInputs.RECV_PING in state ConnectionState.CLOSED\n",
      "-아내의 이름은 무엇입니까?\n"
     ]
    }
   ],
   "source": [
    "async with Translator() as translator:\n",
    "    question = []\n",
    "    answer = []\n",
    "    for i, item in enumerate(raw_data['Dialogue'].tolist()):\n",
    "        try:\n",
    "            item = item.replace(r'\\\\', '')\n",
    "            translated = await translator.translate(item.strip(), src=\"en\", dest=\"ko\")\n",
    "            # 짝수번째는 질문 \n",
    "            # 홀수번째는 답변\n",
    "            text = translated.text\n",
    "            if i % 2 == 0:\n",
    "                question.append(text)\n",
    "            else:\n",
    "                answer.append(text)\n",
    "        except Exception as e: \n",
    "            print(e)\n",
    "            print(text)\n",
    "\n",
    "    data = [f\"<usr>{item}<sys>{answer[i]}\" for i, item in enumerate(question)]\n",
    "\n",
    "    # 전처리된 데이터 저장\n",
    "    np.save(\"processed/harraypotter.npy\", np.array(data))"
   ]
  },
  {
   "cell_type": "code",
   "execution_count": null,
   "id": "2c438aea",
   "metadata": {},
   "outputs": [
    {
     "ename": "NameError",
     "evalue": "name 'question' is not defined",
     "output_type": "error",
     "traceback": [
      "\u001b[31m---------------------------------------------------------------------------\u001b[39m",
      "\u001b[31mNameError\u001b[39m                                 Traceback (most recent call last)",
      "\u001b[36mCell\u001b[39m\u001b[36m \u001b[39m\u001b[32mIn[4]\u001b[39m\u001b[32m, line 1\u001b[39m\n\u001b[32m----> \u001b[39m\u001b[32m1\u001b[39m \u001b[43mquestion\u001b[49m[:\u001b[32m10\u001b[39m]\n",
      "\u001b[31mNameError\u001b[39m: name 'question' is not defined"
     ]
    }
   ],
   "source": [
    "question[:10]"
   ]
  }
 ],
 "metadata": {
  "kernelspec": {
   "display_name": ".venv",
   "language": "python",
   "name": "python3"
  },
  "language_info": {
   "codemirror_mode": {
    "name": "ipython",
    "version": 3
   },
   "file_extension": ".py",
   "mimetype": "text/x-python",
   "name": "python",
   "nbconvert_exporter": "python",
   "pygments_lexer": "ipython3",
   "version": "3.12.10"
  }
 },
 "nbformat": 4,
 "nbformat_minor": 5
}
