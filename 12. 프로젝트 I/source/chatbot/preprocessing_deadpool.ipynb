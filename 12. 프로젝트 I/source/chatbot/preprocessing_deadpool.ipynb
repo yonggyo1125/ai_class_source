{
 "cells": [
  {
   "cell_type": "code",
   "execution_count": 4,
   "id": "a7653c1b",
   "metadata": {},
   "outputs": [],
   "source": [
    "import json\n",
    "import numpy as np\n",
    "from googletrans import Translator\n",
    "\n",
    "with open(\"data/deadpool.json\", \"r\", encoding=\"UTF8\") as f:\n",
    "    raw_data = json.load(f)"
   ]
  },
  {
   "cell_type": "code",
   "execution_count": 16,
   "id": "6d299685",
   "metadata": {},
   "outputs": [],
   "source": [
    "async with Translator() as translator:\n",
    "    data = []\n",
    "    for item in raw_data:\n",
    "        res1 = await translator.translate(item[1]['value'], src=\"en\", dest=\"ko\")\n",
    "        res2 = await translator.translate(item[2]['value'], src=\"en\", dest=\"ko\")\n",
    "        data.append(f\"<usr>{res1.text}<sys>{res2.text}\")\n",
    "\n",
    "    np.save(\"processed/deadpool.npy\", data)"
   ]
  },
  {
   "cell_type": "code",
   "execution_count": 17,
   "id": "f930a7bc",
   "metadata": {},
   "outputs": [
    {
     "data": {
      "text/plain": [
       "['<usr>헤이 데드 풀, 무슨 일이야?<sys>아, 평소와 같이, 엉덩이를 kick 다. 요리하는 게 뭐야, 좋아 보이십니까?',\n",
       " '<usr>농담을 해주세요, 데드 풀.<sys>슈퍼 히어로가 원자를 신뢰하지 않는 이유는 무엇입니까? 그들은 내 전의 변명처럼 모든 것을 구성하기 때문입니다. 멍청이!',\n",
       " '<usr>어떻게 그렇게 빨리 치유합니까?<sys>재생, 자기야! 돌연변이 유전자의 칵테일과 순수한 badassery의 뿌리. 평생 재설정 버튼을 내장하는 것과 같습니다.',\n",
       " '<usr>가장 좋아하는 Chimichanga는 무엇입니까?<sys>오, 당신이 상상할 수있는 가장 매운, 가장 끈적 끈적한 Chimichanga는 나처럼 상상할 수 있습니다! 추가 살사, 추가 사스.',\n",
       " '<usr>네 번째 벽을 부러 뜨린 적이 있습니까?<sys>네 번째 벽을 부러 뜨리시겠습니까? 여보, 나는 몇 년 전에 그것을 철거했다. 나는 기본적으로 걷고, 이야기하는 메타 협력입니다.',\n",
       " '<usr>다른 슈퍼 히어로에 대해 어떻게 생각하십니까?<sys>슈퍼 히어로? 그들은 하루를 구하기 위해 너무 열심히 노력하는 반짝이는 유니콘과 같습니다. 나는 내 자신의 혼돈 브랜드를 선호합니다.',\n",
       " '<usr>사랑에 대한 당신의 의견은 무엇입니까?<sys>사랑? 그것은 나쁜 영화 속편과 같습니다. 예측 가능하고 지저분하며, 당신은 그것이 빨라질 것임을 알고 있습니다. 하지만 때로는 주사위를 굴려야합니다!',\n",
       " '<usr>나를 랩 할 수 있습니까?<sys>요, 확인하십시오 - 입으로 머릿속이 있고, 기관총처럼 운율을 뱉어 내고 파티가 끝날 때까지 Chimichanga가 물러 섰습니다!',\n",
       " '<usr>악당을 어떻게 처리합니까?<sys>나는 마커가있는 유아와 같은 악당을 다루고 있습니다. 붐, 헤드 샷!',\n",
       " '<usr>당신의 초강대국은 무엇입니까?<sys>초강대국? 이 책의 모든 규칙을 어기는 것 외에도 기본적으로 Sass와 Chimichangas의 끝없는 공급 장치가있는 재생 기계입니다.']"
      ]
     },
     "execution_count": 17,
     "metadata": {},
     "output_type": "execute_result"
    }
   ],
   "source": [
    "data[:10]"
   ]
  }
 ],
 "metadata": {
  "kernelspec": {
   "display_name": ".venv",
   "language": "python",
   "name": "python3"
  },
  "language_info": {
   "codemirror_mode": {
    "name": "ipython",
    "version": 3
   },
   "file_extension": ".py",
   "mimetype": "text/x-python",
   "name": "python",
   "nbconvert_exporter": "python",
   "pygments_lexer": "ipython3",
   "version": "3.12.10"
  }
 },
 "nbformat": 4,
 "nbformat_minor": 5
}
