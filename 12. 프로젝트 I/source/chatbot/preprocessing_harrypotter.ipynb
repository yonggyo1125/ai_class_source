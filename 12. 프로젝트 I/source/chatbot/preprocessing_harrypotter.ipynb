{
 "cells": [
  {
   "cell_type": "code",
   "execution_count": 18,
   "id": "5e53e459",
   "metadata": {},
   "outputs": [
    {
     "data": {
      "text/html": [
       "<div>\n",
       "<style scoped>\n",
       "    .dataframe tbody tr th:only-of-type {\n",
       "        vertical-align: middle;\n",
       "    }\n",
       "\n",
       "    .dataframe tbody tr th {\n",
       "        vertical-align: top;\n",
       "    }\n",
       "\n",
       "    .dataframe thead th {\n",
       "        text-align: right;\n",
       "    }\n",
       "</style>\n",
       "<table border=\"1\" class=\"dataframe\">\n",
       "  <thead>\n",
       "    <tr style=\"text-align: right;\">\n",
       "      <th></th>\n",
       "      <th>Character Name</th>\n",
       "      <th>Dialogue</th>\n",
       "      <th>Number of Words</th>\n",
       "    </tr>\n",
       "  </thead>\n",
       "  <tbody>\n",
       "    <tr>\n",
       "      <th>0</th>\n",
       "      <td>Aberforth Dumbledore</td>\n",
       "      <td>in here, potter. you bloody fools! what were y...</td>\n",
       "      <td>261</td>\n",
       "    </tr>\n",
       "    <tr>\n",
       "      <th>1</th>\n",
       "      <td>Alastor Moody</td>\n",
       "      <td>yeah, he's ruddy gorgeous.  what say we get un...</td>\n",
       "      <td>1196</td>\n",
       "    </tr>\n",
       "    <tr>\n",
       "      <th>2</th>\n",
       "      <td>Albus Dumbledore</td>\n",
       "      <td>i should have known that you would be here...p...</td>\n",
       "      <td>7653</td>\n",
       "    </tr>\n",
       "    <tr>\n",
       "      <th>3</th>\n",
       "      <td>Albus Potter</td>\n",
       "      <td>will there really be thestrals pulling the car...</td>\n",
       "      <td>23</td>\n",
       "    </tr>\n",
       "    <tr>\n",
       "      <th>4</th>\n",
       "      <td>Alecto Carrow</td>\n",
       "      <td>put a smile on, miss reynolds. wouldn't want m...</td>\n",
       "      <td>20</td>\n",
       "    </tr>\n",
       "  </tbody>\n",
       "</table>\n",
       "</div>"
      ],
      "text/plain": [
       "         Character Name                                           Dialogue  \\\n",
       "0  Aberforth Dumbledore  in here, potter. you bloody fools! what were y...   \n",
       "1         Alastor Moody  yeah, he's ruddy gorgeous.  what say we get un...   \n",
       "2      Albus Dumbledore  i should have known that you would be here...p...   \n",
       "3          Albus Potter  will there really be thestrals pulling the car...   \n",
       "4         Alecto Carrow  put a smile on, miss reynolds. wouldn't want m...   \n",
       "\n",
       "   Number of Words  \n",
       "0              261  \n",
       "1             1196  \n",
       "2             7653  \n",
       "3               23  \n",
       "4               20  "
      ]
     },
     "execution_count": 18,
     "metadata": {},
     "output_type": "execute_result"
    }
   ],
   "source": [
    "import numpy as np\n",
    "import pandas as pd\n",
    "raw_data = pd.read_csv(\"data/harrypotter.csv\")\n",
    "raw_data.head()"
   ]
  },
  {
   "cell_type": "code",
   "execution_count": 19,
   "id": "ebf9e905",
   "metadata": {},
   "outputs": [
    {
     "name": "stdout",
     "output_type": "stream",
     "text": [
      "Translated(src=en, dest=ko, text=여기서 포터. 당신은 피의 바보! 여기서 무엇을 생각하고 있었습니까? 당신은 그것이 얼마나 위험한 지 알고 있습니까? 당신은 그를 어디에 남겨 두었습니까? 유감입니다. 나는 그 엘프를 좋아했다. Mundungus Fletcher, '1 년 전. 천랑성. 알버스가 나에게 말했다. 그는 또한 내가 당신이 내가 그것을 가지고 있다는 것을 알게되면 당신이 해킹 당할 것이라고 나에게 말했다. 그러나 내가하지 않았다면 어디에 있는지 스스로에게 물어보십시오. 바로 그때. 당신은 배가 고파요. 당신을 먹이게하고, 당신을 여기서 나가는 가장 좋은 방법을 생각해 보자. 주문이 완료되었습니다. 당신은 누가 이겼는지 알고 있습니다. 다른 말을하는 사람은 농담입니다. 그는 지금 했습니까? 잘 했어? 쉬운? 그것은 내 동생이 당신에게 준 직업이 아니라 자살 임무입니다. 자신에게 호의적 인 소년을하십시오. 집에 가십시오. 조금 더 살아. 비밀을 지키시겠습니까? 당신은 나에게 말해줘. 지금 당신은? 그리고 왜 그게? 그것은 소년의 대답입니다. Horcrux를 쫓는 소년은 그에게 어디서부터 시작 해야할지조차 말하지 않는 남자의 말에 대해 말씀 하신다. 당신은 거짓말입니다. 나에게도 중요하지 않으며 중요하지 않습니다. 바보가하는 일입니다. 당신은 나를 바보로 공격하지 않습니다, 씨. 도공. 그래서 다시 물어볼 게요. 이유가 있어야합니다. 내 동생이 당신에게 말한 것을 왜 믿습니까? 왜? 당신은 무엇을 해야할지 알고 있습니다 ... 곧 볼 수 있습니다. 그녀는 항상 아름답습니다. 내 동생은 많은 것을 희생했습니다. 포터, 그녀를 포함하여 권력을 찾기위한 여정에서. 그녀는 그에게 헌신했다 - 그는 그녀에게 모든 것을 주었다., pronunciation=[[None, 'offline']], extra_data=\"{'translat...\")\n"
     ]
    }
   ],
   "source": [
    "# 번역 테스트 \n",
    "from googletrans import Translator\n",
    "async with Translator() as translator:\n",
    "    str = raw_data['Dialogue'][0]\n",
    "    res = await translator.translate(str, src=\"en\", dest=\"ko\")\n",
    "    print(res)"
   ]
  },
  {
   "cell_type": "code",
   "execution_count": null,
   "id": "c6a88f6c",
   "metadata": {},
   "outputs": [
    {
     "name": "stdout",
     "output_type": "stream",
     "text": [
      "URL component 'query' too long\n",
      "아침, reg!  오늘 행운을 빕니다. 움직일 것인가, 오, 런콘! 용서해주십시오 ... 좋아요.  진정합시다. 아마도 실험적인 매력에서 여기서 몰아 넣었을 것입니다.  지난 달의 유독 한 오리 ... R-Runcorn은 우리 중 누구도 곧 아무도 잊을 수 없다고 생각합니다. 해리포터 ...?\n"
     ]
    }
   ],
   "source": [
    "from googletrans import Translator\n",
    "async with Translator() as translator:\n",
    "    question = []\n",
    "    answer = []\n",
    "    for i, item in enumerate(raw_data['Dialogue'].tolist()):\n",
    "        try:\n",
    "            item = item.replace(r'\\\\', '')\n",
    "            translated = await translator.translate(item.strip(), src=\"en\", dest=\"ko\")\n",
    "            # 짝수번째는 질문 \n",
    "            # 홀수번째는 답변\n",
    "            text = translated.text\n",
    "            if i % 2 == 0:\n",
    "                question.append(text)\n",
    "            else:\n",
    "                answer.append(text)\n",
    "        except Exception as e: \n",
    "            print(e)\n",
    "            print(text)\n",
    "    \n",
    "    data = [f\"<usr>{item}<sys>{answer[i]}\" for i, item in enumerate(question)]\n",
    "\n",
    "    # 전처리된 데이터 저장\n",
    "    np.save(\"processed/harraypotter.npy\", np.array(data))"
   ]
  }
 ],
 "metadata": {
  "kernelspec": {
   "display_name": ".venv",
   "language": "python",
   "name": "python3"
  },
  "language_info": {
   "codemirror_mode": {
    "name": "ipython",
    "version": 3
   },
   "file_extension": ".py",
   "mimetype": "text/x-python",
   "name": "python",
   "nbconvert_exporter": "python",
   "pygments_lexer": "ipython3",
   "version": "3.12.10"
  }
 },
 "nbformat": 4,
 "nbformat_minor": 5
}
