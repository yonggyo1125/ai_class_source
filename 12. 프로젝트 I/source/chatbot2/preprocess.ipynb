{
 "cells": [
  {
   "cell_type": "code",
   "execution_count": 7,
   "id": "f96ebd50",
   "metadata": {},
   "outputs": [],
   "source": [
    "import numpy as np\n",
    "import json\n",
    "with open(\"data/harraypotter.npy\", \"rb\") as f:\n",
    "    raw_data = np.load(f)\n",
    "\n",
    "data = []\n",
    "for item in raw_data:\n",
    "    item = item.replace(\"<usr>\", \"\").split('<sys>')\n",
    "    data.append({\"Q\": item[0], \"A\": item[1]})\n",
    "\n",
    "with open(\"processed/chatdata.json\", \"w\") as f:\n",
    "    json.dump(data, f)"
   ]
  },
  {
   "cell_type": "code",
   "execution_count": null,
   "id": "befea9b1",
   "metadata": {},
   "outputs": [],
   "source": []
  }
 ],
 "metadata": {
  "kernelspec": {
   "display_name": ".venv",
   "language": "python",
   "name": "python3"
  },
  "language_info": {
   "codemirror_mode": {
    "name": "ipython",
    "version": 3
   },
   "file_extension": ".py",
   "mimetype": "text/x-python",
   "name": "python",
   "nbconvert_exporter": "python",
   "pygments_lexer": "ipython3",
   "version": "3.12.10"
  }
 },
 "nbformat": 4,
 "nbformat_minor": 5
}
