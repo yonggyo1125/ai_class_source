{
 "cells": [
  {
   "cell_type": "code",
   "execution_count": 1,
   "id": "63ea937f",
   "metadata": {},
   "outputs": [],
   "source": [
    "from selenium import webdriver\n",
    "from selenium.webdriver.common.by import By\n",
    "import pymysql \n",
    "import time"
   ]
  },
  {
   "cell_type": "code",
   "execution_count": 2,
   "id": "61191213",
   "metadata": {},
   "outputs": [],
   "source": [
    "# db 연결\n",
    "db = pymysql.connect(\n",
    "    host='localhost',\n",
    "    port=3306,\n",
    "    user='SECONDHAND',\n",
    "    passwd='1234',\n",
    "    db='SECONDHAND',\n",
    "    charset='utf8'\n",
    ")\n",
    "\n",
    "cursor = db.cursor()"
   ]
  },
  {
   "cell_type": "code",
   "execution_count": null,
   "id": "933fbdbf",
   "metadata": {},
   "outputs": [
    {
     "name": "stdout",
     "output_type": "stream",
     "text": [
      "유투브 링크:https://www.youtube.com/watch?v=7pelcON_mfw&list=RD7pelcON_mfw&start_radio=1&pp=ygUZRXZlbiBXaGVuIHRoZSBXYXRlcnMgQ29sZKAHAQ%3D%3D 저장됨\n",
      "유투브 링크:https://www.youtube.com/watch?v=STz5dlEJ6ZI&list=RDSTz5dlEJ6ZI&start_radio=1&pp=ygUST25lIEdpcmwgLyBPbmUgQm95oAcB 저장됨\n",
      "유투브 링크:https://www.youtube.com/watch?v=neevE3VjdNI&list=RDneevE3VjdNI&start_radio=1&pp=ygURUGFyZG9uIE15IEZyZWVkb22gBwE%3D 저장됨\n",
      "유투브 링크:https://www.youtube.com/watch?v=qmkodlvhCSE&list=RDqmkodlvhCSE&start_radio=1&pp=ygUDT29voAcB 저장됨\n",
      "유투브 링크:https://www.youtube.com/watch?v=EVrTO0JP92U&list=RDEVrTO0JP92U&start_radio=1&pp=ygUKRnJlZWRvbSAxNaAHAQ%3D%3D 저장됨\n",
      "유투브 링크:https://www.youtube.com/watch?v=vrha6SlOH6k&pp=ygUNQWxsIFUgV3JpdGVycw%3D%3D 저장됨\n",
      "유투브 링크:https://www.youtube.com/watch?v=zAkSBdKDwuc&list=RDzAkSBdKDwuc&start_radio=1&pp=ygUMU2VyYmlhIERydW1zoAcB 저장됨\n",
      "유투브 링크:https://www.youtube.com/watch?v=abH7T8j0ITU&list=RDabH7T8j0ITU&start_radio=1&pp=ygUQTXVzdCBCZSB0aGUgTW9vbqAHAQ%3D%3D 저장됨\n",
      "유투브 링크:https://www.youtube.com/watch?v=l1GnHqNaoRM&list=RDl1GnHqNaoRM&start_radio=1&pp=ygUEU2x5ZKAHAdIHCQnNCQGHKiGM7w%3D%3D 저장됨\n",
      "유투브 링크:https://www.youtube.com/watch?v=o86weMv0dtc&list=RDo86weMv0dtc&start_radio=1&pp=ygUYSGVsbG8_IElzIFRoaXMgVGhpbmcgT24_oAcB 저장됨\n"
     ]
    }
   ],
   "source": [
    "while(True):\n",
    "    # youtube_url이 없는 데이터를 10씩 조회\n",
    "    cursor.execute(\"SELECT seq, song FROM music WHERE youtube_url IS NULL LIMIT 10\")\n",
    "    rows = cursor.fetchall()\n",
    "\n",
    "    if not rows or len(rows) == 0:\n",
    "        break\n",
    "    \n",
    "    for seq, song in rows:\n",
    "        try:\n",
    "            driver = webdriver.Chrome()\n",
    "            driver.get('https://www.youtube.com/results?search_query=' + song)\n",
    "            time.sleep(3)\n",
    "            el = driver.find_element(By.CSS_SELECTOR, \"#contents #video-title\")\n",
    "            link = el.get_attribute(\"href\")\n",
    "            driver.quit() # 브라우저 닫기\n",
    "\n",
    "            # 수집된 링크 저장\n",
    "            sql = \"UPDATE music SET youtube_url = %s WHERE seq = %s\"\n",
    "            cursor.execute(sql, (link, seq))\n",
    "            db.commit()\n",
    "            print(f\"유투브 링크:{link} 저장됨\")\n",
    "        except: \n",
    "            continue\n"
   ]
  },
  {
   "cell_type": "code",
   "execution_count": null,
   "id": "8c017d65",
   "metadata": {},
   "outputs": [],
   "source": [
    "db.close()"
   ]
  }
 ],
 "metadata": {
  "kernelspec": {
   "display_name": ".venv",
   "language": "python",
   "name": "python3"
  },
  "language_info": {
   "codemirror_mode": {
    "name": "ipython",
    "version": 3
   },
   "file_extension": ".py",
   "mimetype": "text/x-python",
   "name": "python",
   "nbconvert_exporter": "python",
   "pygments_lexer": "ipython3",
   "version": "3.12.10"
  }
 },
 "nbformat": 4,
 "nbformat_minor": 5
}
