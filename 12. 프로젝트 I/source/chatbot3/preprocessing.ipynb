{
 "cells": [
  {
   "cell_type": "code",
   "execution_count": 17,
   "id": "06c909f1",
   "metadata": {},
   "outputs": [],
   "source": [
    "import pandas as pd\n",
    "from glob import glob\n",
    "import json"
   ]
  },
  {
   "cell_type": "code",
   "execution_count": null,
   "id": "b48898ea",
   "metadata": {},
   "outputs": [],
   "source": [
    "question = []\n",
    "answer = []\n",
    "for dirpath in glob(\"data/*\"):\n",
    "    files = glob(f\"{dirpath}/*\")\n",
    "    for file in files:\n",
    "        df = pd.read_csv(file, sep=\"\\t\")\n",
    "        for id, text in df[['utterance_id', 'text']].to_numpy().tolist():\n",
    "            if int(id) % 2 == 0: # 짝수는 답변 \n",
    "                question.append(text)\n",
    "            else : # 홀수는 질문\n",
    "                answer.append(text)\n",
    "\n",
    "\n",
    "data = [f\"<usr>{item}<sys>{answer[i]}\" for i, item in enumerate(question)]\n",
    "\n",
    "with open(\"processed/data.json\", \"w\") as f:\n",
    "    json.dump(data, f)"
   ]
  }
 ],
 "metadata": {
  "kernelspec": {
   "display_name": ".venv",
   "language": "python",
   "name": "python3"
  },
  "language_info": {
   "codemirror_mode": {
    "name": "ipython",
    "version": 3
   },
   "file_extension": ".py",
   "mimetype": "text/x-python",
   "name": "python",
   "nbconvert_exporter": "python",
   "pygments_lexer": "ipython3",
   "version": "3.12.10"
  }
 },
 "nbformat": 4,
 "nbformat_minor": 5
}
