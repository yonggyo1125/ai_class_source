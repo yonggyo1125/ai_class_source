{
 "cells": [
  {
   "cell_type": "code",
   "execution_count": 1,
   "id": "de5d8a30",
   "metadata": {},
   "outputs": [],
   "source": [
    "import torch\n",
    "import keras\n",
    "from sklearn.model_selection import train_test_split"
   ]
  },
  {
   "cell_type": "code",
   "execution_count": 2,
   "id": "5f66b32b",
   "metadata": {},
   "outputs": [],
   "source": [
    "# IMDB 데이터셋\n",
    "(train_input, train_target), (test_input, test_target) =\\\n",
    "      keras.datasets.imdb.load_data(num_words=500)\n",
    "\n",
    "# 훈련세트, 검증 세트\n",
    "train_input, val_input, train_target, val_target = train_test_split(\n",
    "    train_input, train_target, test_size=0.2, random_state=42\n",
    ")"
   ]
  },
  {
   "cell_type": "code",
   "execution_count": 3,
   "id": "388beaee",
   "metadata": {},
   "outputs": [],
   "source": [
    "# 패딩 처리 \n",
    "from keras.preprocessing.sequence import pad_sequences\n",
    "\n",
    "train_seq = pad_sequences(train_input, maxlen=100)\n",
    "val_seq = pad_sequences(val_input, maxlen=100)"
   ]
  },
  {
   "cell_type": "code",
   "execution_count": 4,
   "id": "60ceed38",
   "metadata": {},
   "outputs": [],
   "source": [
    "train_seq = torch.tensor(train_seq)\n",
    "val_seq = torch.tensor(val_seq)\n",
    "train_target = torch.tensor(train_target, dtype=torch.float32)\n",
    "val_target = torch.tensor(val_target, dtype=torch.float32)"
   ]
  },
  {
   "cell_type": "code",
   "execution_count": 5,
   "id": "a63abf88",
   "metadata": {},
   "outputs": [],
   "source": [
    "# TensorDataset, DataLoader \n",
    "from torch.utils.data import TensorDataset, DataLoader\n",
    "\n",
    "train_dataset = TensorDataset(train_seq, train_target)\n",
    "val_dataset = TensorDataset(val_seq, val_target)\n",
    "\n",
    "train_loader = DataLoader(train_dataset, batch_size=32, shuffle=True)\n",
    "val_loader = DataLoader(val_dataset, batch_size=32, shuffle=False)"
   ]
  },
  {
   "cell_type": "code",
   "execution_count": 6,
   "id": "2ce5a3e8",
   "metadata": {},
   "outputs": [],
   "source": [
    "# 층 구성 \n",
    "import torch.nn as nn\n",
    "\n",
    "class IMDBLstm(nn.Module):\n",
    "    def __init__(self):\n",
    "        super().__init__()\n",
    "        self.embedding = nn.Embedding(500, 16)\n",
    "        self.lstm = nn.LSTM(16, 8, num_layers=2, dropout=0.2, batch_first=True)\n",
    "        self.dense = nn.Linear(8, 1)\n",
    "        self.sigmoid = nn.Sigmoid()\n",
    "\n",
    "    def forward(self, x):\n",
    "        x = self.embedding(x)\n",
    "        _, (hidden, _) = self.lstm(x)\n",
    "        outputs = self.dense(hidden[-1])\n",
    "\n",
    "        return self.sigmoid(outputs)\n"
   ]
  },
  {
   "cell_type": "code",
   "execution_count": null,
   "id": "58c0ecfc",
   "metadata": {},
   "outputs": [],
   "source": []
  }
 ],
 "metadata": {
  "kernelspec": {
   "display_name": ".venv",
   "language": "python",
   "name": "python3"
  },
  "language_info": {
   "codemirror_mode": {
    "name": "ipython",
    "version": 3
   },
   "file_extension": ".py",
   "mimetype": "text/x-python",
   "name": "python",
   "nbconvert_exporter": "python",
   "pygments_lexer": "ipython3",
   "version": "3.12.10"
  }
 },
 "nbformat": 4,
 "nbformat_minor": 5
}
