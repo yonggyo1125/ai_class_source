{
 "cells": [
  {
   "cell_type": "code",
   "execution_count": 1,
   "id": "de5d8a30",
   "metadata": {},
   "outputs": [],
   "source": [
    "import torch\n",
    "import keras\n",
    "from sklearn.model_selection import train_test_split"
   ]
  },
  {
   "cell_type": "code",
   "execution_count": 2,
   "id": "5f66b32b",
   "metadata": {},
   "outputs": [],
   "source": [
    "# IMDB 데이터셋\n",
    "(train_input, train_target), (test_input, test_target) =\\\n",
    "      keras.datasets.imdb.load_data(num_words=500)\n",
    "\n",
    "# 훈련세트, 검증 세트\n",
    "train_input, val_input, train_target, val_target = train_test_split(\n",
    "    train_input, train_target, test_size=0.2, random_state=42\n",
    ")"
   ]
  },
  {
   "cell_type": "code",
   "execution_count": 3,
   "id": "388beaee",
   "metadata": {},
   "outputs": [],
   "source": [
    "# 패딩 처리 \n",
    "from keras.preprocessing.sequence import pad_sequences\n",
    "\n",
    "train_seq = pad_sequences(train_input, maxlen=100)\n",
    "val_seq = pad_sequences(val_input, maxlen=100)"
   ]
  },
  {
   "cell_type": "code",
   "execution_count": 4,
   "id": "60ceed38",
   "metadata": {},
   "outputs": [],
   "source": [
    "train_seq = torch.tensor(train_seq)\n",
    "val_seq = torch.tensor(val_seq)\n",
    "train_target = torch.tensor(train_target, dtype=torch.float32)\n",
    "val_target = torch.tensor(val_target, dtype=torch.float32)"
   ]
  },
  {
   "cell_type": "code",
   "execution_count": 5,
   "id": "a63abf88",
   "metadata": {},
   "outputs": [],
   "source": [
    "# TensorDataset, DataLoader \n",
    "from torch.utils.data import TensorDataset, DataLoader\n",
    "\n",
    "train_dataset = TensorDataset(train_seq, train_target)\n",
    "val_dataset = TensorDataset(val_seq, val_target)\n",
    "\n",
    "train_loader = DataLoader(train_dataset, batch_size=32, shuffle=True)\n",
    "val_loader = DataLoader(val_dataset, batch_size=32, shuffle=False)"
   ]
  },
  {
   "cell_type": "code",
   "execution_count": 6,
   "id": "2ce5a3e8",
   "metadata": {},
   "outputs": [],
   "source": [
    "# 층 구성 \n",
    "import torch.nn as nn\n",
    "\n",
    "class IMDBLstm(nn.Module):\n",
    "    def __init__(self):\n",
    "        super().__init__()\n",
    "        self.embedding = nn.Embedding(500, 16)\n",
    "        self.lstm = nn.LSTM(16, 8, num_layers=2, dropout=0.2, batch_first=True)\n",
    "        self.dense = nn.Linear(8, 1)\n",
    "        self.sigmoid = nn.Sigmoid()\n",
    "\n",
    "    def forward(self, x):\n",
    "        x = self.embedding(x)\n",
    "        _, (hidden, _) = self.lstm(x)\n",
    "        outputs = self.dense(hidden[-1])\n",
    "\n",
    "        return self.sigmoid(outputs)\n"
   ]
  },
  {
   "cell_type": "code",
   "execution_count": 7,
   "id": "58c0ecfc",
   "metadata": {},
   "outputs": [
    {
     "data": {
      "text/plain": [
       "=================================================================\n",
       "Layer (type:depth-idx)                   Param #\n",
       "=================================================================\n",
       "IMDBLstm                                 --\n",
       "├─Embedding: 1-1                         8,000\n",
       "├─LSTM: 1-2                              1,408\n",
       "├─Linear: 1-3                            9\n",
       "├─Sigmoid: 1-4                           --\n",
       "=================================================================\n",
       "Total params: 9,417\n",
       "Trainable params: 9,417\n",
       "Non-trainable params: 0\n",
       "================================================================="
      ]
     },
     "execution_count": 7,
     "metadata": {},
     "output_type": "execute_result"
    }
   ],
   "source": [
    "from torchinfo import summary\n",
    "model = IMDBLstm()\n",
    "summary(model)"
   ]
  },
  {
   "cell_type": "code",
   "execution_count": 8,
   "id": "5475637d",
   "metadata": {},
   "outputs": [
    {
     "data": {
      "text/plain": [
       "IMDBLstm(\n",
       "  (embedding): Embedding(500, 16)\n",
       "  (lstm): LSTM(16, 8, num_layers=2, batch_first=True, dropout=0.2)\n",
       "  (dense): Linear(in_features=8, out_features=1, bias=True)\n",
       "  (sigmoid): Sigmoid()\n",
       ")"
      ]
     },
     "execution_count": 8,
     "metadata": {},
     "output_type": "execute_result"
    }
   ],
   "source": [
    "device = torch.device(\"cuda\" if torch.cuda.is_available() else \"cpu\")\n",
    "model.to(device)"
   ]
  },
  {
   "cell_type": "code",
   "execution_count": 9,
   "id": "8be3a67e",
   "metadata": {},
   "outputs": [],
   "source": [
    "# 옵티마이저, 손실함수 \n",
    "import torch.optim as optim\n",
    "\n",
    "criterion = nn.BCELoss()\n",
    "optimizer = optim.Adam(model.parameters())"
   ]
  },
  {
   "cell_type": "code",
   "execution_count": 10,
   "id": "ec70782e",
   "metadata": {},
   "outputs": [
    {
     "name": "stdout",
     "output_type": "stream",
     "text": [
      "에포크:1, 훈련손실:0.6829, 검증손실:0.6656\n",
      "에포크:2, 훈련손실:0.6168, 검증손실:0.6001\n",
      "에포크:3, 훈련손실:0.5964, 검증손실:0.5727\n",
      "에포크:4, 훈련손실:0.5550, 검증손실:0.5506\n",
      "에포크:5, 훈련손실:0.5340, 검증손실:0.5362\n",
      "에포크:6, 훈련손실:0.5108, 검증손실:0.5153\n",
      "에포크:7, 훈련손실:0.4916, 검증손실:0.4993\n",
      "에포크:8, 훈련손실:0.4710, 검증손실:0.4863\n",
      "에포크:9, 훈련손실:0.4591, 검증손실:0.4776\n",
      "에포크:10, 훈련손실:0.4493, 검증손실:0.4593\n",
      "에포크:11, 훈련손실:0.4372, 검증손실:0.4694\n",
      "에포크:12, 훈련손실:0.4283, 검증손실:0.4602\n",
      "12번째에서 조기 중단..\n"
     ]
    }
   ],
   "source": [
    "train_hist = []\n",
    "val_hist = []\n",
    "patience= 2\n",
    "best_loss = -1\n",
    "early_stopping_counter = 0\n",
    "\n",
    "epochs = 100\n",
    "for epoch in range(epochs):\n",
    "    model.train()\n",
    "    train_loss = 0\n",
    "    for inputs, targets in train_loader:\n",
    "        inputs, targets = inputs.to(device), targets.to(device)\n",
    "        optimizer.zero_grad()\n",
    "        outputs = model(inputs)\n",
    "        loss = criterion(outputs.squeeze(), targets)\n",
    "        loss.backward()\n",
    "        optimizer.step()\n",
    "        train_loss += loss.item()\n",
    "\n",
    "    model.eval()\n",
    "    val_loss = 0\n",
    "    with torch.no_grad():\n",
    "        for inputs, targets in val_loader:\n",
    "            inputs, targets = inputs.to(device), targets.to(device)\n",
    "            outputs = model(inputs)\n",
    "            loss = criterion(outputs.squeeze(), targets)\n",
    "            val_loss += loss.item()\n",
    "\n",
    "    train_loss = train_loss / len(train_loader)\n",
    "    val_loss = val_loss / len(val_loader)\n",
    "    \n",
    "    train_hist.append(train_loss)\n",
    "    val_hist.append(val_loss)\n",
    "\n",
    "    print(f\"에포크:{epoch+1}, 훈련손실:{train_loss:.4f}, 검증손실:{val_loss:.4f}\")\n",
    "\n",
    "    if best_loss == -1 or val_loss < best_loss:\n",
    "        best_loss = val_loss\n",
    "        early_stopping_counter = 0\n",
    "        torch.save(model.state_dict(), 'best_lstm_model.pt')\n",
    "    else:\n",
    "        early_stopping_counter += 1\n",
    "        if early_stopping_counter >= patience:\n",
    "            print(f\"{epoch+1}번째에서 조기 중단..\")\n",
    "            break\n"
   ]
  },
  {
   "cell_type": "code",
   "execution_count": 11,
   "id": "b9d6ed87",
   "metadata": {},
   "outputs": [
    {
     "data": {
      "image/png": "[encoded data removed]",
      "text/plain": [
       "<Figure size 640x480 with 1 Axes>"
      ]
     },
     "metadata": {},
     "output_type": "display_data"
    }
   ],
   "source": [
    "import matplotlib.pyplot as plt\n",
    "\n",
    "plt.plot(train_hist, label='train')\n",
    "plt.plot(val_hist, label='val')\n",
    "plt.xlabel('epoch')\n",
    "plt.ylabel('loss')\n",
    "plt.legend()\n",
    "plt.show()"
   ]
  },
  {
   "cell_type": "code",
   "execution_count": 12,
   "id": "e90ef831",
   "metadata": {},
   "outputs": [
    {
     "name": "stdout",
     "output_type": "stream",
     "text": [
      "검증 정확도:0.7886\n"
     ]
    }
   ],
   "source": [
    "model.eval()\n",
    "corrects = 0\n",
    "with torch.no_grad():\n",
    "    for inputs, targets in val_loader:\n",
    "        inputs, targets = inputs.to(device), targets.to(device)\n",
    "        outputs = model(inputs)\n",
    "        predicts = outputs.squeeze() > 0.5\n",
    "        corrects += (predicts == targets).sum().item()\n",
    "\n",
    "accuracy = corrects / len(val_dataset)\n",
    "print(f\"검증 정확도:{accuracy:.4f}\")\n"
   ]
  },
  {
   "cell_type": "code",
   "execution_count": null,
   "id": "dcb68e82",
   "metadata": {},
   "outputs": [],
   "source": []
  }
 ],
 "metadata": {
  "kernelspec": {
   "display_name": ".venv",
   "language": "python",
   "name": "python3"
  },
  "language_info": {
   "codemirror_mode": {
    "name": "ipython",
    "version": 3
   },
   "file_extension": ".py",
   "mimetype": "text/x-python",
   "name": "python",
   "nbconvert_exporter": "python",
   "pygments_lexer": "ipython3",
   "version": "3.12.10"
  }
 },
 "nbformat": 4,
 "nbformat_minor": 5
}
