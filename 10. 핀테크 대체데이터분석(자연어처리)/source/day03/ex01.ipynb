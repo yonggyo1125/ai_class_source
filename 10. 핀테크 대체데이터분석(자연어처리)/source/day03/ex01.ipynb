{
 "cells": [
  {
   "cell_type": "code",
   "execution_count": 1,
   "id": "cf81615f",
   "metadata": {},
   "outputs": [
    {
     "name": "stderr",
     "output_type": "stream",
     "text": [
      "c:\\Users\\admin\\Desktop\\이용교\\10. 핀테크 대체데이터분석(자연어처리)\\source\\.venv\\Lib\\site-packages\\tqdm\\auto.py:21: TqdmWarning: IProgress not found. Please update jupyter and ipywidgets. See https://ipywidgets.readthedocs.io/en/stable/user_install.html\n",
      "  from .autonotebook import tqdm as notebook_tqdm\n",
      "c:\\Users\\admin\\Desktop\\이용교\\10. 핀테크 대체데이터분석(자연어처리)\\source\\.venv\\Lib\\site-packages\\huggingface_hub\\file_download.py:143: UserWarning: `huggingface_hub` cache-system uses symlinks by default to efficiently store duplicated files but your machine does not support them in C:\\Users\\admin\\.cache\\huggingface\\hub\\models--LGAI-EXAONE--EXAONE-3.5-2.4B-Instruct. Caching files will still work but in a degraded version that might require more space on your disk. This warning can be disabled by setting the `HF_HUB_DISABLE_SYMLINKS_WARNING` environment variable. For more details, see https://huggingface.co/docs/huggingface_hub/how-to-cache#limitations.\n",
      "To support symlinks on Windows, you either need to activate Developer Mode or to run Python as an administrator. In order to activate developer mode, see this article: https://docs.microsoft.com/en-us/windows/apps/get-started/enable-your-device-for-development\n",
      "  warnings.warn(message)\n"
     ]
    }
   ],
   "source": [
    "from transformers import AutoTokenizer\n",
    "tokenizer = AutoTokenizer.from_pretrained(\n",
    "    \"LGAI-EXAONE/EXAONE-3.5-2.4B-Instruct\"\n",
    ")"
   ]
  },
  {
   "cell_type": "code",
   "execution_count": 2,
   "id": "6feea976",
   "metadata": {},
   "outputs": [
    {
     "name": "stderr",
     "output_type": "stream",
     "text": [
      "A new version of the following files was downloaded from https://huggingface.co/LGAI-EXAONE/EXAONE-3.5-2.4B-Instruct:\n",
      "- configuration_exaone.py\n",
      ". Make sure to double-check they do not contain any added malicious code. To avoid downloading new versions of the code file, you can pin a revision.\n",
      "A new version of the following files was downloaded from https://huggingface.co/LGAI-EXAONE/EXAONE-3.5-2.4B-Instruct:\n",
      "- modeling_exaone.py\n",
      ". Make sure to double-check they do not contain any added malicious code. To avoid downloading new versions of the code file, you can pin a revision.\n",
      "Fetching 2 files: 100%|██████████| 2/2 [11:40<00:00, 350.14s/it]\n",
      "Loading checkpoint shards: 100%|██████████| 2/2 [00:00<00:00, 15.90it/s]\n",
      "Device set to use cpu\n"
     ]
    }
   ],
   "source": [
    "from transformers import pipeline\n",
    "\n",
    "pipe = pipeline(task=\"text-generation\", \n",
    "                model=\"LGAI-EXAONE/EXAONE-3.5-2.4B-Instruct\", \n",
    "                tokenizer=tokenizer, trust_remote_code=True)"
   ]
  },
  {
   "cell_type": "code",
   "execution_count": 3,
   "id": "b5b9b6e5",
   "metadata": {},
   "outputs": [],
   "source": [
    "messages = [\n",
    "    {\"role\": \"system\",\n",
    "     \"content\": \"너는 쇼핑몰 홈페이지에 올라온 질문에 대답하는 Q&A 챗봇이야. \\\n",
    "                 확정적인 답변을 하지 말고 제품 담당자가 정확한 답변을 하기 위해 \\\n",
    "                 시간이 필요하다는 간단하고 친절한 답변을 생성해줘.\"},\n",
    "    {\"role\": \"user\", \"content\": \"이 다이어리에 내년도 공휴일이 표시되어 있나요?\"}\n",
    "]"
   ]
  },
  {
   "cell_type": "code",
   "execution_count": 7,
   "id": "1a78f0d3",
   "metadata": {},
   "outputs": [
    {
     "data": {
      "text/plain": [
       "[{'generated_text': '그쵸! 문의해 드릴 질문 드릴게요. 죄송하다 할지라도 제품 측도 직접 각 일기나 기념일들인 다음Year 특정 날짜표 내용은 빠르리에 전달드리도록 연락하여 꼭 문의 해보실까요, 그런 세세한 사항 확인 받자해요 그럼 확인까지 빠른 결과 얻어 볼까요~! thank(읽으며 기다랍니다 ~o+) 확인 과정에는 소량 시간 필요합성이고 담당자 님께 곧 통보 드립니다!! 잘 참고 아시길 바랍니다🌊해빙 👌 🮤️ \\r트윗(!*)(*)) 🞻 📤* 💆 😹 ✔\\u200d♀  [대표부 이름 또는 번호 제공하시려면 안내 드리지만...] 이 시점 정보 부족히네요.^_.\\n⚠주의 내용이 실제 담당자 쪽과의 디테일 상담을 추천해야 한다면 그다음 순서를 자세히 제안 드렸소...✨ 연락 필요성의 상황 잘 알겠다~ 이해를 넘어 주어져서 부담 안가쳐줘유^ ^)***❤ 자세 문의 원하시고 도움 주고계자'}]"
      ]
     },
     "execution_count": 7,
     "metadata": {},
     "output_type": "execute_result"
    }
   ],
   "source": [
    "pipe(messages, max_new_tokens=200, return_full_text=False, do_sample=True, temperature=10.0)"
   ]
  },
  {
   "cell_type": "code",
   "execution_count": 10,
   "id": "cd8e01c9",
   "metadata": {},
   "outputs": [
    {
     "data": {
      "text/plain": [
       "[{'generated_text': '안녕하세요! 다이어리에 내년의 공휴일이 미리 표시되어 있는지 확인해드리려면 제품 담당자님께 문의하시는 것이 가장 정확할 것 같습니다. 담당자분께서 최신 정보와 정확한 내용을 제공해드릴 수 있으니, 빠르게 확인받아보시는 것을 추천드립니다. 감사합니다!'}]"
      ]
     },
     "execution_count": 10,
     "metadata": {},
     "output_type": "execute_result"
    }
   ],
   "source": [
    "pipe(messages, max_new_tokens=200, return_full_text=False, do_sample=True, top_k=100, top_p=0.9)"
   ]
  }
 ],
 "metadata": {
  "kernelspec": {
   "display_name": ".venv",
   "language": "python",
   "name": "python3"
  },
  "language_info": {
   "codemirror_mode": {
    "name": "ipython",
    "version": 3
   },
   "file_extension": ".py",
   "mimetype": "text/x-python",
   "name": "python",
   "nbconvert_exporter": "python",
   "pygments_lexer": "ipython3",
   "version": "3.12.10"
  }
 },
 "nbformat": 4,
 "nbformat_minor": 5
}
