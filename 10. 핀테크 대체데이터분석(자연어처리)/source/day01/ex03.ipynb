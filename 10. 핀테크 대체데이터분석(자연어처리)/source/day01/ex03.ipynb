{
 "cells": [
  {
   "cell_type": "code",
   "execution_count": 2,
   "id": "c6f4cfb3",
   "metadata": {},
   "outputs": [],
   "source": [
    "import torch\n",
    "import keras\n",
    "from sklearn.model_selection import train_test_split\n",
    "\n",
    "# IMDB 데이터셋 \n",
    "(train_input, train_target), (test_input, test_target) =\\\n",
    "     keras.datasets.imdb.load_data(num_words=500)\n",
    "\n",
    "# 훈련세트, 검증세트\n",
    "train_input, val_input, train_target, val_target = train_test_split(\n",
    "    train_input, train_target, test_size=0.2, random_state=42\n",
    ")"
   ]
  },
  {
   "cell_type": "code",
   "execution_count": 3,
   "id": "f25b10ce",
   "metadata": {},
   "outputs": [],
   "source": [
    "# 패딩 처리\n",
    "from keras.preprocessing.sequence import pad_sequences\n",
    "\n",
    "train_seq = pad_sequences(train_input, maxlen=100)\n",
    "val_seq = pad_sequences(val_input, maxlen=100)"
   ]
  },
  {
   "cell_type": "code",
   "execution_count": 4,
   "id": "8e4ae74f",
   "metadata": {},
   "outputs": [
    {
     "name": "stdout",
     "output_type": "stream",
     "text": [
      "(20000, 100) (20000,)\n"
     ]
    }
   ],
   "source": [
    "print(train_seq.shape, train_target.shape)"
   ]
  },
  {
   "cell_type": "code",
   "execution_count": 5,
   "id": "b513c225",
   "metadata": {},
   "outputs": [],
   "source": [
    "# 파이토치 torch.tensor 자료형으로 변환 \n",
    "train_seq = torch.tensor(train_seq)\n",
    "val_seq = torch.tensor(val_seq)"
   ]
  },
  {
   "cell_type": "code",
   "execution_count": 6,
   "id": "6498a58b",
   "metadata": {},
   "outputs": [
    {
     "data": {
      "text/plain": [
       "dtype('int64')"
      ]
     },
     "execution_count": 6,
     "metadata": {},
     "output_type": "execute_result"
    }
   ],
   "source": [
    "train_target.dtype"
   ]
  },
  {
   "cell_type": "code",
   "execution_count": 7,
   "id": "d803067e",
   "metadata": {},
   "outputs": [],
   "source": [
    "train_target = torch.tensor(train_target, dtype=torch.float32)\n",
    "val_target = torch.tensor(val_target, dtype=torch.float32)"
   ]
  },
  {
   "cell_type": "code",
   "execution_count": 8,
   "id": "a107b310",
   "metadata": {},
   "outputs": [
    {
     "data": {
      "text/plain": [
       "torch.float32"
      ]
     },
     "execution_count": 8,
     "metadata": {},
     "output_type": "execute_result"
    }
   ],
   "source": [
    "train_target.dtype"
   ]
  },
  {
   "cell_type": "code",
   "execution_count": 9,
   "id": "2755270d",
   "metadata": {},
   "outputs": [],
   "source": [
    "#  TensorDataset, DataLoader \n",
    "from torch.utils.data import TensorDataset, DataLoader\n",
    "\n",
    "train_dataset = TensorDataset(train_seq, train_target)\n",
    "val_dataset = TensorDataset(val_seq, val_target)\n",
    "\n",
    "# 32개의 배치로 섞어서 나눠준다.\n",
    "train_loader = DataLoader(train_dataset, batch_size=32, shuffle=True)\n",
    "val_loader = DataLoader(val_dataset, batch_size=32, shuffle=False)"
   ]
  },
  {
   "cell_type": "code",
   "execution_count": 10,
   "id": "bb68c16a",
   "metadata": {},
   "outputs": [],
   "source": [
    "# 층 구성 - nn.Module 클래스 상속을 통한 층 구성\n",
    "import torch.nn as nn\n",
    "\n",
    "class IMDBRnn(nn.Module):\n",
    "    def __init__(self):\n",
    "        super().__init__() \n",
    "        self.embedding = nn.Embedding(500, 16)\n",
    "        self.rnn = nn.RNN(16, 8, batch_first=True) # (시퀀스 길이, 배치크기, 임베딩크기) \n",
    "                                # (배치크기, 시퀀스 길이, 임베딩크기)\n",
    "        self.dense = nn.Linear(8, 1)\n",
    "        self.sigmoid = nn.Sigmoid()\n",
    "\n",
    "    def forward(self, x):\n",
    "        x = self.embedding(x)\n",
    "        _, hidden = self.rnn(x)\n",
    "        outputs = self.dense(x)\n",
    "        return self.sigmoid(outputs)\n"
   ]
  },
  {
   "cell_type": "code",
   "execution_count": 11,
   "id": "1efef1ba",
   "metadata": {},
   "outputs": [
    {
     "data": {
      "text/plain": [
       "=================================================================\n",
       "Layer (type:depth-idx)                   Param #\n",
       "=================================================================\n",
       "IMDBRnn                                  --\n",
       "├─Embedding: 1-1                         8,000\n",
       "├─RNN: 1-2                               208\n",
       "├─Linear: 1-3                            9\n",
       "├─Sigmoid: 1-4                           --\n",
       "=================================================================\n",
       "Total params: 8,217\n",
       "Trainable params: 8,217\n",
       "Non-trainable params: 0\n",
       "================================================================="
      ]
     },
     "execution_count": 11,
     "metadata": {},
     "output_type": "execute_result"
    }
   ],
   "source": [
    "from torchinfo import summary\n",
    "model = IMDBRnn()\n",
    "\n",
    "summary(model)\n"
   ]
  }
 ],
 "metadata": {
  "kernelspec": {
   "display_name": ".venv",
   "language": "python",
   "name": "python3"
  },
  "language_info": {
   "codemirror_mode": {
    "name": "ipython",
    "version": 3
   },
   "file_extension": ".py",
   "mimetype": "text/x-python",
   "name": "python",
   "nbconvert_exporter": "python",
   "pygments_lexer": "ipython3",
   "version": "3.12.10"
  }
 },
 "nbformat": 4,
 "nbformat_minor": 5
}
